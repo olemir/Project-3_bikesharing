{
 "cells": [
  {
   "cell_type": "markdown",
   "id": "7445ead0",
   "metadata": {},
   "source": [
    "# Data Cleaning - Initialize Full Ride Data Set"
   ]
  },
  {
   "cell_type": "code",
   "execution_count": 2,
   "id": "8326833f",
   "metadata": {},
   "outputs": [
    {
     "name": "stdout",
     "output_type": "stream",
     "text": [
      "The autoreload extension is already loaded. To reload it, use:\n",
      "  %reload_ext autoreload\n"
     ]
    }
   ],
   "source": [
    "%run setup.ipynb"
   ]
  },
  {
   "cell_type": "code",
   "execution_count": 3,
   "id": "50e467d1",
   "metadata": {},
   "outputs": [],
   "source": [
    "# import modin.pandas as pd"
   ]
  },
  {
   "cell_type": "markdown",
   "id": "ffa62ac0",
   "metadata": {},
   "source": [
    "# Load"
   ]
  },
  {
   "cell_type": "code",
   "execution_count": 4,
   "id": "60f19483",
   "metadata": {},
   "outputs": [
    {
     "data": {
      "text/html": [
       "<div>\n",
       "<style scoped>\n",
       "    .dataframe tbody tr th:only-of-type {\n",
       "        vertical-align: middle;\n",
       "    }\n",
       "\n",
       "    .dataframe tbody tr th {\n",
       "        vertical-align: top;\n",
       "    }\n",
       "\n",
       "    .dataframe thead th {\n",
       "        text-align: right;\n",
       "    }\n",
       "</style>\n",
       "<table border=\"1\" class=\"dataframe\">\n",
       "  <thead>\n",
       "    <tr style=\"text-align: right;\">\n",
       "      <th></th>\n",
       "      <th>CITY_NAME</th>\n",
       "      <th>AREAKM</th>\n",
       "      <th>GIS_ID</th>\n",
       "      <th>geometry</th>\n",
       "    </tr>\n",
       "  </thead>\n",
       "  <tbody>\n",
       "    <tr>\n",
       "      <th>0</th>\n",
       "      <td>Washington</td>\n",
       "      <td>177.47</td>\n",
       "      <td>DCBndyPly_1</td>\n",
       "      <td>POLYGON ((-77.1198 38.93435, -77.11979 38.9343...</td>\n",
       "    </tr>\n",
       "  </tbody>\n",
       "</table>\n",
       "</div>"
      ],
      "text/plain": [
       "    CITY_NAME  AREAKM       GIS_ID  \\\n",
       "0  Washington  177.47  DCBndyPly_1   \n",
       "\n",
       "                                            geometry  \n",
       "0  POLYGON ((-77.1198 38.93435, -77.11979 38.9343...  "
      ]
     },
     "execution_count": 4,
     "metadata": {},
     "output_type": "execute_result"
    }
   ],
   "source": [
    "# city boundaries of washington\n",
    "washington_boundary = gpd.read_file(config['raw_data_paths']['washington_outline'])\n",
    "# washington_boundary = gpd.read_file('../data/raw/01_saopaulo_hdi.geojson')\n",
    "washington_boundary = washington_boundary.drop(columns=['AREAMILES', 'OBJECTID', 'STATE_CITY', 'CAPITAL', 'WEB_URL', 'GLOBALID', 'CREATOR', 'CREATED', 'EDITOR','EDITED', 'SHAPEAREA', 'SHAPELEN'])\n",
    "washington_boundary.head()"
   ]
  },
  {
   "cell_type": "code",
   "execution_count": null,
   "id": "35f4ebb0",
   "metadata": {},
   "outputs": [],
   "source": [
    "# try:\n",
    "#     df = df_orig.copy()\n",
    "# except:\n",
    "usecols = ['ride_id', 'member_casual', 'rideable_type', 'started_at', 'ended_at', 'start_station_name', 'start_station_id', 'end_station_name', 'end_station_id', 'start_lat', 'start_lng', 'end_lat', 'end_lng']\n",
    "dtypes = {\n",
    "    # 'ride_id'             : str, # not needed\n",
    "    'rideable_type'       : str,\n",
    "    'started_at'          : str,\n",
    "    'ended_at'            : str,\n",
    "    'start_station_name'  : str,\n",
    "    'start_station_id'    : str, # does not work here because of inconsistency in data: pd.ArrowDtype(pa.uint32()),\n",
    "    'end_station_name'    : str,\n",
    "    'end_station_id'      : str, # does not work here because of inconsistency in data: pd.ArrowDtype(pa.uint32()),\n",
    "    'start_lat'           : np.float64,\n",
    "    'start_lng'           : np.float64,\n",
    "    'end_lat'             : np.float64,\n",
    "    'end_lng'             : np.float64,\n",
    "    'member_casual'       : str\n",
    "    }\n",
    "df = pd.read_csv(config['raw_data_paths']['full'], usecols=usecols, dtype=dtypes, low_memory=False) #engine='pyarrow')\n",
    "# df_orig = df.copy()\n"
   ]
  },
  {
   "cell_type": "code",
   "execution_count": 6,
   "id": "587f7d97",
   "metadata": {},
   "outputs": [
    {
     "data": {
      "application/vnd.microsoft.datawrangler.viewer.v0+json": {
       "columns": [
        {
         "name": "index",
         "rawType": "object",
         "type": "string"
        },
        {
         "name": "0",
         "rawType": "int64",
         "type": "integer"
        }
       ],
       "ref": "430188c6-9f99-435f-8d47-b22f25d98ce3",
       "rows": [
        [
         "ride_id",
         "10693997"
        ],
        [
         "rideable_type",
         "3"
        ],
        [
         "started_at",
         "9649173"
        ],
        [
         "ended_at",
         "9638365"
        ],
        [
         "start_station_name",
         "860"
        ],
        [
         "start_station_id",
         "1321"
        ],
        [
         "end_station_name",
         "865"
        ],
        [
         "end_station_id",
         "1338"
        ],
        [
         "start_lat",
         "570110"
        ],
        [
         "start_lng",
         "617671"
        ],
        [
         "end_lat",
         "173835"
        ],
        [
         "end_lng",
         "183886"
        ],
        [
         "member_casual",
         "2"
        ]
       ],
       "shape": {
        "columns": 1,
        "rows": 13
       }
      },
      "text/plain": [
       "ride_id               10693997\n",
       "rideable_type                3\n",
       "started_at             9649173\n",
       "ended_at               9638365\n",
       "start_station_name         860\n",
       "start_station_id          1321\n",
       "end_station_name           865\n",
       "end_station_id            1338\n",
       "start_lat               570110\n",
       "start_lng               617671\n",
       "end_lat                 173835\n",
       "end_lng                 183886\n",
       "member_casual                2\n",
       "dtype: int64"
      ]
     },
     "execution_count": 6,
     "metadata": {},
     "output_type": "execute_result"
    }
   ],
   "source": [
    "df.nunique()"
   ]
  },
  {
   "cell_type": "code",
   "execution_count": 5,
   "id": "db9a7de2",
   "metadata": {},
   "outputs": [
    {
     "data": {
      "application/vnd.microsoft.datawrangler.viewer.v0+json": {
       "columns": [
        {
         "name": "index",
         "rawType": "int64",
         "type": "integer"
        },
        {
         "name": "rideable_type",
         "rawType": "object",
         "type": "string"
        },
        {
         "name": "started_at",
         "rawType": "object",
         "type": "string"
        },
        {
         "name": "ended_at",
         "rawType": "object",
         "type": "string"
        },
        {
         "name": "start_station_name",
         "rawType": "object",
         "type": "string"
        },
        {
         "name": "start_station_id",
         "rawType": "object",
         "type": "string"
        },
        {
         "name": "end_station_name",
         "rawType": "object",
         "type": "unknown"
        },
        {
         "name": "end_station_id",
         "rawType": "object",
         "type": "unknown"
        },
        {
         "name": "start_lat",
         "rawType": "float64",
         "type": "float"
        },
        {
         "name": "start_lng",
         "rawType": "float64",
         "type": "float"
        },
        {
         "name": "end_lat",
         "rawType": "float64",
         "type": "float"
        },
        {
         "name": "end_lng",
         "rawType": "float64",
         "type": "float"
        },
        {
         "name": "member_casual",
         "rawType": "object",
         "type": "string"
        }
       ],
       "ref": "d569b86e-42d0-4b3b-bf3b-fba9eff46d23",
       "rows": [
        [
         "0",
         "classic_bike",
         "2021-01-01 00:08:33",
         "2021-01-01 00:33:53",
         "Maine Ave & 9th St SW",
         "31646.0",
         "Rosslyn Metro / Wilson Blvd & Ft Myer Dr",
         "31015.0",
         "38.88044",
         "-77.025236",
         "38.8946",
         "-77.072305",
         "member"
        ],
        [
         "1",
         "electric_bike",
         "2021-01-01 00:13:43",
         "2021-01-01 00:29:34",
         "10th & U St NW",
         "31111.0",
         null,
         null,
         "38.917192666666665",
         "-77.02589416666666",
         "38.96",
         "-77.02",
         "casual"
        ],
        [
         "2",
         "electric_bike",
         "2021-01-01 00:14:32",
         "2021-01-01 00:28:45",
         "17th & Corcoran St NW",
         "31214.0",
         "14th & Belmont St NW",
         "31119.0",
         "38.9121375",
         "-77.03856816666666",
         "38.9208705",
         "-77.03169116666666",
         "member"
        ],
        [
         "3",
         "classic_bike",
         "2021-01-01 00:15:45",
         "2021-01-01 00:21:20",
         "Wilson Blvd. & N. Vermont St.",
         "31926.0",
         "Wilson Blvd. & N. Vermont St.",
         "31926.0",
         "38.87947660895433",
         "-77.11456328630447",
         "38.87947660895433",
         "-77.11456328630447",
         "member"
        ],
        [
         "4",
         "classic_bike",
         "2021-01-01 00:17:46",
         "2021-01-01 00:21:00",
         "11th & Park Rd NW",
         "31651.0",
         "14th & Newton St NW",
         "31649.0",
         "38.93132185874559",
         "-77.02824711799622",
         "38.931991",
         "-77.032956",
         "member"
        ]
       ],
       "shape": {
        "columns": 12,
        "rows": 5
       }
      },
      "text/html": [
       "<div>\n",
       "<style scoped>\n",
       "    .dataframe tbody tr th:only-of-type {\n",
       "        vertical-align: middle;\n",
       "    }\n",
       "\n",
       "    .dataframe tbody tr th {\n",
       "        vertical-align: top;\n",
       "    }\n",
       "\n",
       "    .dataframe thead th {\n",
       "        text-align: right;\n",
       "    }\n",
       "</style>\n",
       "<table border=\"1\" class=\"dataframe\">\n",
       "  <thead>\n",
       "    <tr style=\"text-align: right;\">\n",
       "      <th></th>\n",
       "      <th>rideable_type</th>\n",
       "      <th>started_at</th>\n",
       "      <th>ended_at</th>\n",
       "      <th>start_station_name</th>\n",
       "      <th>start_station_id</th>\n",
       "      <th>end_station_name</th>\n",
       "      <th>end_station_id</th>\n",
       "      <th>start_lat</th>\n",
       "      <th>start_lng</th>\n",
       "      <th>end_lat</th>\n",
       "      <th>end_lng</th>\n",
       "      <th>member_casual</th>\n",
       "    </tr>\n",
       "  </thead>\n",
       "  <tbody>\n",
       "    <tr>\n",
       "      <th>0</th>\n",
       "      <td>classic_bike</td>\n",
       "      <td>2021-01-01 00:08:33</td>\n",
       "      <td>2021-01-01 00:33:53</td>\n",
       "      <td>Maine Ave &amp; 9th St SW</td>\n",
       "      <td>31646.0</td>\n",
       "      <td>Rosslyn Metro / Wilson Blvd &amp; Ft Myer Dr</td>\n",
       "      <td>31015.0</td>\n",
       "      <td>38.880440</td>\n",
       "      <td>-77.025236</td>\n",
       "      <td>38.894600</td>\n",
       "      <td>-77.072305</td>\n",
       "      <td>member</td>\n",
       "    </tr>\n",
       "    <tr>\n",
       "      <th>1</th>\n",
       "      <td>electric_bike</td>\n",
       "      <td>2021-01-01 00:13:43</td>\n",
       "      <td>2021-01-01 00:29:34</td>\n",
       "      <td>10th &amp; U St NW</td>\n",
       "      <td>31111.0</td>\n",
       "      <td>NaN</td>\n",
       "      <td>NaN</td>\n",
       "      <td>38.917193</td>\n",
       "      <td>-77.025894</td>\n",
       "      <td>38.960000</td>\n",
       "      <td>-77.020000</td>\n",
       "      <td>casual</td>\n",
       "    </tr>\n",
       "    <tr>\n",
       "      <th>2</th>\n",
       "      <td>electric_bike</td>\n",
       "      <td>2021-01-01 00:14:32</td>\n",
       "      <td>2021-01-01 00:28:45</td>\n",
       "      <td>17th &amp; Corcoran St NW</td>\n",
       "      <td>31214.0</td>\n",
       "      <td>14th &amp; Belmont St NW</td>\n",
       "      <td>31119.0</td>\n",
       "      <td>38.912138</td>\n",
       "      <td>-77.038568</td>\n",
       "      <td>38.920870</td>\n",
       "      <td>-77.031691</td>\n",
       "      <td>member</td>\n",
       "    </tr>\n",
       "    <tr>\n",
       "      <th>3</th>\n",
       "      <td>classic_bike</td>\n",
       "      <td>2021-01-01 00:15:45</td>\n",
       "      <td>2021-01-01 00:21:20</td>\n",
       "      <td>Wilson Blvd. &amp; N. Vermont St.</td>\n",
       "      <td>31926.0</td>\n",
       "      <td>Wilson Blvd. &amp; N. Vermont St.</td>\n",
       "      <td>31926.0</td>\n",
       "      <td>38.879477</td>\n",
       "      <td>-77.114563</td>\n",
       "      <td>38.879477</td>\n",
       "      <td>-77.114563</td>\n",
       "      <td>member</td>\n",
       "    </tr>\n",
       "    <tr>\n",
       "      <th>4</th>\n",
       "      <td>classic_bike</td>\n",
       "      <td>2021-01-01 00:17:46</td>\n",
       "      <td>2021-01-01 00:21:00</td>\n",
       "      <td>11th &amp; Park Rd NW</td>\n",
       "      <td>31651.0</td>\n",
       "      <td>14th &amp; Newton St NW</td>\n",
       "      <td>31649.0</td>\n",
       "      <td>38.931322</td>\n",
       "      <td>-77.028247</td>\n",
       "      <td>38.931991</td>\n",
       "      <td>-77.032956</td>\n",
       "      <td>member</td>\n",
       "    </tr>\n",
       "  </tbody>\n",
       "</table>\n",
       "</div>"
      ],
      "text/plain": [
       "   rideable_type           started_at             ended_at  \\\n",
       "0   classic_bike  2021-01-01 00:08:33  2021-01-01 00:33:53   \n",
       "1  electric_bike  2021-01-01 00:13:43  2021-01-01 00:29:34   \n",
       "2  electric_bike  2021-01-01 00:14:32  2021-01-01 00:28:45   \n",
       "3   classic_bike  2021-01-01 00:15:45  2021-01-01 00:21:20   \n",
       "4   classic_bike  2021-01-01 00:17:46  2021-01-01 00:21:00   \n",
       "\n",
       "              start_station_name start_station_id  \\\n",
       "0          Maine Ave & 9th St SW          31646.0   \n",
       "1                 10th & U St NW          31111.0   \n",
       "2          17th & Corcoran St NW          31214.0   \n",
       "3  Wilson Blvd. & N. Vermont St.          31926.0   \n",
       "4              11th & Park Rd NW          31651.0   \n",
       "\n",
       "                           end_station_name end_station_id  start_lat  \\\n",
       "0  Rosslyn Metro / Wilson Blvd & Ft Myer Dr        31015.0  38.880440   \n",
       "1                                       NaN            NaN  38.917193   \n",
       "2                      14th & Belmont St NW        31119.0  38.912138   \n",
       "3             Wilson Blvd. & N. Vermont St.        31926.0  38.879477   \n",
       "4                       14th & Newton St NW        31649.0  38.931322   \n",
       "\n",
       "   start_lng    end_lat    end_lng member_casual  \n",
       "0 -77.025236  38.894600 -77.072305        member  \n",
       "1 -77.025894  38.960000 -77.020000        casual  \n",
       "2 -77.038568  38.920870 -77.031691        member  \n",
       "3 -77.114563  38.879477 -77.114563        member  \n",
       "4 -77.028247  38.931991 -77.032956        member  "
      ]
     },
     "execution_count": 5,
     "metadata": {},
     "output_type": "execute_result"
    }
   ],
   "source": [
    "df.head()"
   ]
  },
  {
   "cell_type": "code",
   "execution_count": 7,
   "id": "e22892cc",
   "metadata": {},
   "outputs": [
    {
     "name": "stdout",
     "output_type": "stream",
     "text": [
      "<class 'pandas.core.frame.DataFrame'>\n",
      "RangeIndex: 10693997 entries, 0 to 10693996\n",
      "Data columns (total 13 columns):\n",
      " #   Column              Dtype  \n",
      "---  ------              -----  \n",
      " 0   ride_id             object \n",
      " 1   rideable_type       object \n",
      " 2   started_at          object \n",
      " 3   ended_at            object \n",
      " 4   start_station_name  object \n",
      " 5   start_station_id    object \n",
      " 6   end_station_name    object \n",
      " 7   end_station_id      object \n",
      " 8   start_lat           float64\n",
      " 9   start_lng           float64\n",
      " 10  end_lat             float64\n",
      " 11  end_lng             float64\n",
      " 12  member_casual       object \n",
      "dtypes: float64(4), object(9)\n",
      "memory usage: 1.0+ GB\n"
     ]
    }
   ],
   "source": [
    "df.info()"
   ]
  },
  {
   "cell_type": "markdown",
   "id": "b371c42d",
   "metadata": {},
   "source": [
    "# NaN Data"
   ]
  },
  {
   "cell_type": "code",
   "execution_count": 7,
   "id": "65c3bb6a",
   "metadata": {},
   "outputs": [
    {
     "data": {
      "application/vnd.microsoft.datawrangler.viewer.v0+json": {
       "columns": [
        {
         "name": "index",
         "rawType": "object",
         "type": "string"
        },
        {
         "name": "0",
         "rawType": "int64",
         "type": "integer"
        }
       ],
       "ref": "906dd172-60d6-4fcf-b0e0-33fbe775e122",
       "rows": [
        [
         "rideable_type",
         "0"
        ],
        [
         "started_at",
         "0"
        ],
        [
         "ended_at",
         "0"
        ],
        [
         "start_station_name",
         "742776"
        ],
        [
         "start_station_id",
         "742776"
        ],
        [
         "end_station_name",
         "811282"
        ],
        [
         "end_station_id",
         "811282"
        ],
        [
         "start_lat",
         "2"
        ],
        [
         "start_lng",
         "2"
        ],
        [
         "end_lat",
         "16765"
        ],
        [
         "end_lng",
         "16765"
        ],
        [
         "member_casual",
         "0"
        ]
       ],
       "shape": {
        "columns": 1,
        "rows": 12
       }
      },
      "text/plain": [
       "rideable_type              0\n",
       "started_at                 0\n",
       "ended_at                   0\n",
       "start_station_name    742776\n",
       "start_station_id      742776\n",
       "end_station_name      811282\n",
       "end_station_id        811282\n",
       "start_lat                  2\n",
       "start_lng                  2\n",
       "end_lat                16765\n",
       "end_lng                16765\n",
       "member_casual              0\n",
       "dtype: int64"
      ]
     },
     "execution_count": 7,
     "metadata": {},
     "output_type": "execute_result"
    }
   ],
   "source": [
    "df.isna().sum()"
   ]
  },
  {
   "cell_type": "markdown",
   "id": "13f21633",
   "metadata": {},
   "source": [
    "- stations: number of data points match, it seems that all bikes that have to been rented oder returned at a station have a missing the entry.\n",
    "- start_lat, start_lng: every bike usually has a start and end \n",
    "- end_lat, end_lng: many, needs investigation "
   ]
  },
  {
   "cell_type": "markdown",
   "id": "3d52847a",
   "metadata": {},
   "source": [
    "## Latitude and Longitude"
   ]
  },
  {
   "cell_type": "markdown",
   "id": "f1481934",
   "metadata": {},
   "source": [
    "### Start is NaN"
   ]
  },
  {
   "cell_type": "code",
   "execution_count": 8,
   "id": "0502baf3",
   "metadata": {},
   "outputs": [
    {
     "data": {
      "application/vnd.microsoft.datawrangler.viewer.v0+json": {
       "columns": [
        {
         "name": "index",
         "rawType": "int64",
         "type": "integer"
        },
        {
         "name": "rideable_type",
         "rawType": "object",
         "type": "string"
        },
        {
         "name": "started_at",
         "rawType": "object",
         "type": "string"
        },
        {
         "name": "ended_at",
         "rawType": "object",
         "type": "string"
        },
        {
         "name": "start_station_name",
         "rawType": "object",
         "type": "string"
        },
        {
         "name": "start_station_id",
         "rawType": "object",
         "type": "string"
        },
        {
         "name": "end_station_name",
         "rawType": "object",
         "type": "string"
        },
        {
         "name": "end_station_id",
         "rawType": "object",
         "type": "string"
        },
        {
         "name": "start_lat",
         "rawType": "float64",
         "type": "float"
        },
        {
         "name": "start_lng",
         "rawType": "float64",
         "type": "float"
        },
        {
         "name": "end_lat",
         "rawType": "float64",
         "type": "float"
        },
        {
         "name": "end_lng",
         "rawType": "float64",
         "type": "float"
        },
        {
         "name": "member_casual",
         "rawType": "object",
         "type": "string"
        }
       ],
       "ref": "8a7c9bbc-76a1-4855-90e1-7ffe991f213b",
       "rows": [
        [
         "133129",
         "docked_bike",
         "2021-02-12 17:04:26",
         "2021-02-12 17:12:10",
         "MTL-ECO5-03",
         "MTL-ECO5-03",
         "MTL-ECO5-03",
         "MTL-ECO5-03",
         null,
         null,
         null,
         null,
         "member"
        ],
        [
         "143000",
         "docked_bike",
         "2021-02-17 00:54:05",
         "2021-02-17 00:54:17",
         "MTL-ECO5-03",
         "MTL-ECO5-03",
         "MTL-ECO5-03",
         "MTL-ECO5-03",
         null,
         null,
         null,
         null,
         "member"
        ]
       ],
       "shape": {
        "columns": 12,
        "rows": 2
       }
      },
      "text/html": [
       "<div>\n",
       "<style scoped>\n",
       "    .dataframe tbody tr th:only-of-type {\n",
       "        vertical-align: middle;\n",
       "    }\n",
       "\n",
       "    .dataframe tbody tr th {\n",
       "        vertical-align: top;\n",
       "    }\n",
       "\n",
       "    .dataframe thead th {\n",
       "        text-align: right;\n",
       "    }\n",
       "</style>\n",
       "<table border=\"1\" class=\"dataframe\">\n",
       "  <thead>\n",
       "    <tr style=\"text-align: right;\">\n",
       "      <th></th>\n",
       "      <th>rideable_type</th>\n",
       "      <th>started_at</th>\n",
       "      <th>ended_at</th>\n",
       "      <th>start_station_name</th>\n",
       "      <th>start_station_id</th>\n",
       "      <th>end_station_name</th>\n",
       "      <th>end_station_id</th>\n",
       "      <th>start_lat</th>\n",
       "      <th>start_lng</th>\n",
       "      <th>end_lat</th>\n",
       "      <th>end_lng</th>\n",
       "      <th>member_casual</th>\n",
       "    </tr>\n",
       "  </thead>\n",
       "  <tbody>\n",
       "    <tr>\n",
       "      <th>133129</th>\n",
       "      <td>docked_bike</td>\n",
       "      <td>2021-02-12 17:04:26</td>\n",
       "      <td>2021-02-12 17:12:10</td>\n",
       "      <td>MTL-ECO5-03</td>\n",
       "      <td>MTL-ECO5-03</td>\n",
       "      <td>MTL-ECO5-03</td>\n",
       "      <td>MTL-ECO5-03</td>\n",
       "      <td>NaN</td>\n",
       "      <td>NaN</td>\n",
       "      <td>NaN</td>\n",
       "      <td>NaN</td>\n",
       "      <td>member</td>\n",
       "    </tr>\n",
       "    <tr>\n",
       "      <th>143000</th>\n",
       "      <td>docked_bike</td>\n",
       "      <td>2021-02-17 00:54:05</td>\n",
       "      <td>2021-02-17 00:54:17</td>\n",
       "      <td>MTL-ECO5-03</td>\n",
       "      <td>MTL-ECO5-03</td>\n",
       "      <td>MTL-ECO5-03</td>\n",
       "      <td>MTL-ECO5-03</td>\n",
       "      <td>NaN</td>\n",
       "      <td>NaN</td>\n",
       "      <td>NaN</td>\n",
       "      <td>NaN</td>\n",
       "      <td>member</td>\n",
       "    </tr>\n",
       "  </tbody>\n",
       "</table>\n",
       "</div>"
      ],
      "text/plain": [
       "       rideable_type           started_at             ended_at  \\\n",
       "133129   docked_bike  2021-02-12 17:04:26  2021-02-12 17:12:10   \n",
       "143000   docked_bike  2021-02-17 00:54:05  2021-02-17 00:54:17   \n",
       "\n",
       "       start_station_name start_station_id end_station_name end_station_id  \\\n",
       "133129        MTL-ECO5-03      MTL-ECO5-03      MTL-ECO5-03    MTL-ECO5-03   \n",
       "143000        MTL-ECO5-03      MTL-ECO5-03      MTL-ECO5-03    MTL-ECO5-03   \n",
       "\n",
       "        start_lat  start_lng  end_lat  end_lng member_casual  \n",
       "133129        NaN        NaN      NaN      NaN        member  \n",
       "143000        NaN        NaN      NaN      NaN        member  "
      ]
     },
     "execution_count": 8,
     "metadata": {},
     "output_type": "execute_result"
    }
   ],
   "source": [
    "mask_start_loc_isna = df.start_lat.isna()\n",
    "df[mask_start_loc_isna]"
   ]
  },
  {
   "cell_type": "markdown",
   "id": "6a0632ad",
   "metadata": {},
   "source": [
    "The rides cannot be interpreted anymore. => Drop the entries!"
   ]
  },
  {
   "cell_type": "code",
   "execution_count": 9,
   "id": "e3b457f1",
   "metadata": {},
   "outputs": [],
   "source": [
    "df = df[~mask_start_loc_isna]"
   ]
  },
  {
   "cell_type": "markdown",
   "id": "b0f7ae1d",
   "metadata": {},
   "source": [
    "### End Coordinates are NaN: Lost Bikes"
   ]
  },
  {
   "cell_type": "code",
   "execution_count": 10,
   "id": "b4951fdd",
   "metadata": {},
   "outputs": [
    {
     "data": {
      "text/plain": [
       "(0, 12)"
      ]
     },
     "execution_count": 10,
     "metadata": {},
     "output_type": "execute_result"
    }
   ],
   "source": [
    "# check if end_lat, end_lng always appear together\n",
    "df[(df.end_lat.isna() & ~df.end_lng.isna()) | (~df.end_lat.isna() & df.end_lng.isna())].shape"
   ]
  },
  {
   "cell_type": "code",
   "execution_count": 11,
   "id": "3263d8a9",
   "metadata": {},
   "outputs": [
    {
     "data": {
      "application/vnd.microsoft.datawrangler.viewer.v0+json": {
       "columns": [
        {
         "name": "index",
         "rawType": "int64",
         "type": "integer"
        },
        {
         "name": "rideable_type",
         "rawType": "object",
         "type": "string"
        },
        {
         "name": "started_at",
         "rawType": "object",
         "type": "string"
        },
        {
         "name": "ended_at",
         "rawType": "object",
         "type": "string"
        },
        {
         "name": "start_station_name",
         "rawType": "object",
         "type": "string"
        },
        {
         "name": "start_station_id",
         "rawType": "object",
         "type": "string"
        },
        {
         "name": "end_station_name",
         "rawType": "object",
         "type": "unknown"
        },
        {
         "name": "end_station_id",
         "rawType": "object",
         "type": "unknown"
        },
        {
         "name": "start_lat",
         "rawType": "float64",
         "type": "float"
        },
        {
         "name": "start_lng",
         "rawType": "float64",
         "type": "float"
        },
        {
         "name": "end_lat",
         "rawType": "float64",
         "type": "float"
        },
        {
         "name": "end_lng",
         "rawType": "float64",
         "type": "float"
        },
        {
         "name": "member_casual",
         "rawType": "object",
         "type": "string"
        }
       ],
       "ref": "5ed53840-706f-468c-bea5-b4a9040fe462",
       "rows": [
        [
         "323",
         "classic_bike",
         "2021-01-01 09:30:20",
         "2021-01-01 11:21:33",
         "Tenleytown / Wisconsin Ave & Albemarle St NW",
         "31303.0",
         null,
         null,
         "38.947607",
         "-77.079382",
         null,
         null,
         "casual"
        ],
        [
         "561",
         "classic_bike",
         "2021-01-01 12:57:44",
         "2021-01-01 16:19:10",
         "Lincoln Memorial",
         "31258.0",
         null,
         null,
         "38.888255",
         "-77.0494365",
         null,
         null,
         "member"
        ],
        [
         "3631",
         "classic_bike",
         "2021-01-02 14:18:26",
         "2021-01-02 15:39:59",
         "Woodglen Dr & Executive Blvd",
         "32078.0",
         null,
         null,
         "39.04317",
         "-77.1135",
         null,
         null,
         "member"
        ],
        [
         "3634",
         "classic_bike",
         "2021-01-02 14:18:47",
         "2021-01-02 15:40:08",
         "Woodglen Dr & Executive Blvd",
         "32078.0",
         null,
         null,
         "39.04317",
         "-77.1135",
         null,
         null,
         "member"
        ],
        [
         "4170",
         "classic_bike",
         "2021-01-02 14:55:47",
         "2021-01-02 15:13:20",
         "Columbus Circle / Union Station",
         "31623.0",
         null,
         null,
         "38.89696",
         "-77.00493",
         null,
         null,
         "member"
        ],
        [
         "4415",
         "classic_bike",
         "2021-01-02 15:14:14",
         "2021-01-03 16:14:06",
         "Wisconsin Ave & Newark St NW",
         "31302.0",
         null,
         null,
         "38.934881",
         "-77.072755",
         null,
         null,
         "member"
        ],
        [
         "5143",
         "classic_bike",
         "2021-01-02 16:12:40",
         "2021-01-03 17:12:35",
         "Rockville Metro East",
         "32044.0",
         null,
         null,
         "39.085394",
         "-77.145803",
         null,
         null,
         "casual"
        ],
        [
         "5263",
         "classic_bike",
         "2021-01-02 16:24:12",
         "2021-01-02 16:25:26",
         "Maine Ave & 9th St SW",
         "31646.0",
         null,
         null,
         "38.88044",
         "-77.025236",
         null,
         null,
         "member"
        ],
        [
         "5707",
         "classic_bike",
         "2021-01-02 17:22:00",
         "2021-01-03 18:21:51",
         "4th St & Madison Dr NW",
         "31288.0",
         null,
         null,
         "38.8904955",
         "-77.0172465",
         null,
         null,
         "casual"
        ],
        [
         "6847",
         "classic_bike",
         "2021-01-03 09:08:08",
         "2021-01-04 10:08:04",
         "15th St & Constitution Ave NW",
         "31321.0",
         null,
         null,
         "38.892244",
         "-77.033234",
         null,
         null,
         "casual"
        ],
        [
         "8035",
         "classic_bike",
         "2021-01-03 18:41:34",
         "2021-01-04 19:41:23",
         "Fairfax Village",
         "31706.0",
         null,
         null,
         "38.86559",
         "-76.952103",
         null,
         null,
         "casual"
        ],
        [
         "8321",
         "classic_bike",
         "2021-01-04 00:56:11",
         "2021-01-05 01:56:06",
         "Benning Rd & East Capitol St NE / Benning Rd Metro",
         "31707.0",
         null,
         null,
         "38.889935",
         "-76.93723",
         null,
         null,
         "casual"
        ],
        [
         "8793",
         "classic_bike",
         "2021-01-04 09:10:23",
         "2021-01-05 10:10:19",
         "11th & S St NW",
         "31280.0",
         null,
         null,
         "38.913761",
         "-77.027025",
         null,
         null,
         "member"
        ],
        [
         "10973",
         "classic_bike",
         "2021-01-04 19:29:04",
         "2021-01-05 20:28:54",
         "4th St & Madison Dr NW",
         "31288.0",
         null,
         null,
         "38.8904955",
         "-77.0172465",
         null,
         null,
         "casual"
        ],
        [
         "11749",
         "classic_bike",
         "2021-01-05 08:54:57",
         "2021-01-05 09:08:44",
         "Eastern Market / 7th & North Carolina Ave SE",
         "31610.0",
         null,
         null,
         "38.886952",
         "-76.996806",
         null,
         null,
         "member"
        ],
        [
         "11897",
         "classic_bike",
         "2021-01-05 10:00:38",
         "2021-01-06 11:00:30",
         "14th St & New York Ave NW",
         "31216.0",
         null,
         null,
         "38.899632",
         "-77.031686",
         null,
         null,
         "casual"
        ],
        [
         "13050",
         "classic_bike",
         "2021-01-05 15:24:41",
         "2021-01-06 14:16:19",
         "12th & L St NW",
         "31251.0",
         null,
         null,
         "38.903819",
         "-77.0284",
         null,
         null,
         "member"
        ],
        [
         "13199",
         "classic_bike",
         "2021-01-05 15:55:59",
         "2021-01-06 16:55:52",
         "Constitution Ave & 2nd St NW/DOL",
         "31271.0",
         null,
         null,
         "38.892275",
         "-77.013917",
         null,
         null,
         "casual"
        ],
        [
         "13514",
         "classic_bike",
         "2021-01-05 17:21:55",
         "2021-01-06 18:21:48",
         "18th St & Wyoming Ave NW",
         "31114.0",
         null,
         null,
         "38.918809",
         "-77.041571",
         null,
         null,
         "casual"
        ],
        [
         "13759",
         "classic_bike",
         "2021-01-05 18:19:15",
         "2021-01-05 21:18:30",
         "Maine Ave & 7th St SW",
         "31609.0",
         null,
         null,
         "38.87869359939696",
         "-77.02305436134338",
         null,
         null,
         "casual"
        ],
        [
         "14060",
         "classic_bike",
         "2021-01-05 20:09:57",
         "2021-01-05 21:42:41",
         "15th & K St NW",
         "31254.0",
         null,
         null,
         "38.902",
         "-77.03353",
         null,
         null,
         "casual"
        ],
        [
         "14160",
         "classic_bike",
         "2021-01-05 21:05:28",
         "2021-01-05 21:16:26",
         "7th & F St NW / National Portrait Gallery",
         "31232.0",
         null,
         null,
         "38.89728304853854",
         "-77.02219069004059",
         null,
         null,
         "member"
        ],
        [
         "14303",
         "classic_bike",
         "2021-01-05 22:48:32",
         "2021-01-05 22:57:10",
         "1st St & Potomac Ave SE",
         "31668.0",
         null,
         null,
         "38.871841",
         "-77.00591",
         null,
         null,
         "member"
        ],
        [
         "14491",
         "classic_bike",
         "2021-01-06 06:24:27",
         "2021-01-06 13:33:08",
         "Iwo Jima Memorial / Meade & 14th St N",
         "31077.0",
         null,
         null,
         "38.88992",
         "-77.071301",
         null,
         null,
         "casual"
        ],
        [
         "14493",
         "classic_bike",
         "2021-01-06 06:24:44",
         "2021-01-07 07:24:31",
         "Iwo Jima Memorial / Meade & 14th St N",
         "31077.0",
         null,
         null,
         "38.88992",
         "-77.071301",
         null,
         null,
         "casual"
        ],
        [
         "14494",
         "classic_bike",
         "2021-01-06 06:25:09",
         "2021-01-07 07:25:03",
         "Iwo Jima Memorial / Meade & 14th St N",
         "31077.0",
         null,
         null,
         "38.88992",
         "-77.071301",
         null,
         null,
         "casual"
        ],
        [
         "14609",
         "classic_bike",
         "2021-01-06 07:24:43",
         "2021-01-07 08:24:32",
         "Pershing Dr & Wayne St",
         "31065.0",
         null,
         null,
         "38.880705",
         "-77.08596",
         null,
         null,
         "member"
        ],
        [
         "14630",
         "classic_bike",
         "2021-01-06 07:32:53",
         "2021-01-07 08:32:48",
         "New Jersey Ave & F St NW",
         "31655.0",
         null,
         null,
         "38.897108",
         "-77.011616",
         null,
         null,
         "casual"
        ],
        [
         "14740",
         "classic_bike",
         "2021-01-06 08:03:24",
         "2021-01-07 09:03:20",
         "Metro Center / 12th & G St NW",
         "31230.0",
         null,
         null,
         "38.898364",
         "-77.027869",
         null,
         null,
         "member"
        ],
        [
         "14987",
         "classic_bike",
         "2021-01-06 09:21:10",
         "2021-01-06 10:27:56",
         "16th & R St NW",
         "31282.0",
         null,
         null,
         "38.912652",
         "-77.036278",
         null,
         null,
         "member"
        ],
        [
         "15016",
         "classic_bike",
         "2021-01-06 09:30:51",
         "2021-01-06 17:11:23",
         "D St & Maryland Ave NE",
         "31612.0",
         null,
         null,
         "38.894758",
         "-76.997114",
         null,
         null,
         "member"
        ],
        [
         "15044",
         "classic_bike",
         "2021-01-06 09:43:08",
         "2021-01-06 11:17:41",
         "Constitution Ave & 2nd St NW/DOL",
         "31271.0",
         null,
         null,
         "38.892275",
         "-77.013917",
         null,
         null,
         "casual"
        ],
        [
         "15165",
         "classic_bike",
         "2021-01-06 10:24:09",
         "2021-01-06 11:36:43",
         "4th St & G St SW",
         "31666.0",
         null,
         null,
         "38.881123",
         "-77.017658",
         null,
         null,
         "member"
        ],
        [
         "15253",
         "classic_bike",
         "2021-01-06 10:45:01",
         "2021-01-07 11:44:45",
         "New York Ave & 15th St NW",
         "31222.0",
         null,
         null,
         "38.89903234416315",
         "-77.03335404396057",
         null,
         null,
         "casual"
        ],
        [
         "16027",
         "classic_bike",
         "2021-01-06 14:04:56",
         "2021-01-07 14:41:41",
         "8th & H St NW",
         "31228.0",
         null,
         null,
         "38.8997",
         "-77.023086",
         null,
         null,
         "casual"
        ],
        [
         "16066",
         "classic_bike",
         "2021-01-06 14:15:13",
         "2021-01-07 15:15:08",
         "Arlington Blvd & N Queen St",
         "31051.0",
         null,
         null,
         "38.889365",
         "-77.077294",
         null,
         null,
         "casual"
        ],
        [
         "16176",
         "classic_bike",
         "2021-01-06 14:37:03",
         "2021-01-06 14:51:36",
         "Wilson Blvd. & N. Vermont St.",
         "31926.0",
         null,
         null,
         "38.87947660895433",
         "-77.11456328630447",
         null,
         null,
         "member"
        ],
        [
         "16700",
         "classic_bike",
         "2021-01-06 16:08:25",
         "2021-01-07 17:08:08",
         "Constitution Ave & 2nd St NW/DOL",
         "31271.0",
         null,
         null,
         "38.892275",
         "-77.013917",
         null,
         null,
         "casual"
        ],
        [
         "17567",
         "classic_bike",
         "2021-01-07 06:53:38",
         "2021-01-08 07:53:29",
         "Braddock Rd Metro",
         "31047.0",
         null,
         null,
         "38.814577",
         "-77.052808",
         null,
         null,
         "casual"
        ],
        [
         "18103",
         "classic_bike",
         "2021-01-07 11:04:27",
         "2021-01-08 12:04:21",
         "Joliet St & MLK Ave SW/Bald Eagle Rec Ctr",
         "31819.0",
         null,
         null,
         "38.81909",
         "-77.01033",
         null,
         null,
         "casual"
        ],
        [
         "22159",
         "classic_bike",
         "2021-01-08 14:26:52",
         "2021-01-09 15:26:41",
         "6th St & Indiana Ave NW",
         "31264.0",
         null,
         null,
         "38.894573",
         "-77.01994",
         null,
         null,
         "casual"
        ],
        [
         "22897",
         "classic_bike",
         "2021-01-08 17:12:40",
         "2021-01-08 17:33:51",
         "Calvert & Biltmore St NW",
         "31106.0",
         null,
         null,
         "38.923203",
         "-77.047637",
         null,
         null,
         "member"
        ],
        [
         "23841",
         "classic_bike",
         "2021-01-09 06:28:02",
         "2021-01-09 06:47:15",
         "1st & H St NW",
         "31638.0",
         null,
         null,
         "38.900358",
         "-77.012108",
         null,
         null,
         "member"
        ],
        [
         "24386",
         "classic_bike",
         "2021-01-09 11:02:19",
         "2021-01-09 11:30:56",
         "Adams Mill & Columbia Rd NW",
         "31104.0",
         null,
         null,
         "38.922925",
         "-77.042581",
         null,
         null,
         "casual"
        ],
        [
         "24597",
         "classic_bike",
         "2021-01-09 11:47:15",
         "2021-01-09 12:14:00",
         "5th St & Massachusetts Ave NW",
         "31265.0",
         null,
         null,
         "38.90093",
         "-77.018677",
         null,
         null,
         "member"
        ],
        [
         "24598",
         "classic_bike",
         "2021-01-09 11:47:26",
         "2021-01-09 12:18:01",
         "5th St & Massachusetts Ave NW",
         "31265.0",
         null,
         null,
         "38.90093",
         "-77.018677",
         null,
         null,
         "member"
        ],
        [
         "24647",
         "classic_bike",
         "2021-01-09 11:58:50",
         "2021-01-09 15:12:21",
         "11th & F St NW",
         "31262.0",
         null,
         null,
         "38.897857",
         "-77.026975",
         null,
         null,
         "member"
        ],
        [
         "24648",
         "classic_bike",
         "2021-01-09 11:59:01",
         "2021-01-09 15:10:41",
         "11th & F St NW",
         "31262.0",
         null,
         null,
         "38.897857",
         "-77.026975",
         null,
         null,
         "member"
        ],
        [
         "25079",
         "classic_bike",
         "2021-01-09 13:08:27",
         "2021-01-09 13:20:10",
         "1st & M St SE",
         "31650.0",
         null,
         null,
         "38.876893",
         "-77.006072",
         null,
         null,
         "casual"
        ],
        [
         "25730",
         "classic_bike",
         "2021-01-09 14:37:52",
         "2021-01-09 17:22:47",
         "12th & L St NW",
         "31251.0",
         null,
         null,
         "38.903819",
         "-77.0284",
         null,
         null,
         "member"
        ]
       ],
       "shape": {
        "columns": 12,
        "rows": 16763
       }
      },
      "text/html": [
       "<div>\n",
       "<style scoped>\n",
       "    .dataframe tbody tr th:only-of-type {\n",
       "        vertical-align: middle;\n",
       "    }\n",
       "\n",
       "    .dataframe tbody tr th {\n",
       "        vertical-align: top;\n",
       "    }\n",
       "\n",
       "    .dataframe thead th {\n",
       "        text-align: right;\n",
       "    }\n",
       "</style>\n",
       "<table border=\"1\" class=\"dataframe\">\n",
       "  <thead>\n",
       "    <tr style=\"text-align: right;\">\n",
       "      <th></th>\n",
       "      <th>rideable_type</th>\n",
       "      <th>started_at</th>\n",
       "      <th>ended_at</th>\n",
       "      <th>start_station_name</th>\n",
       "      <th>start_station_id</th>\n",
       "      <th>end_station_name</th>\n",
       "      <th>end_station_id</th>\n",
       "      <th>start_lat</th>\n",
       "      <th>start_lng</th>\n",
       "      <th>end_lat</th>\n",
       "      <th>end_lng</th>\n",
       "      <th>member_casual</th>\n",
       "    </tr>\n",
       "  </thead>\n",
       "  <tbody>\n",
       "    <tr>\n",
       "      <th>323</th>\n",
       "      <td>classic_bike</td>\n",
       "      <td>2021-01-01 09:30:20</td>\n",
       "      <td>2021-01-01 11:21:33</td>\n",
       "      <td>Tenleytown / Wisconsin Ave &amp; Albemarle St NW</td>\n",
       "      <td>31303.0</td>\n",
       "      <td>NaN</td>\n",
       "      <td>NaN</td>\n",
       "      <td>38.947607</td>\n",
       "      <td>-77.079382</td>\n",
       "      <td>NaN</td>\n",
       "      <td>NaN</td>\n",
       "      <td>casual</td>\n",
       "    </tr>\n",
       "    <tr>\n",
       "      <th>561</th>\n",
       "      <td>classic_bike</td>\n",
       "      <td>2021-01-01 12:57:44</td>\n",
       "      <td>2021-01-01 16:19:10</td>\n",
       "      <td>Lincoln Memorial</td>\n",
       "      <td>31258.0</td>\n",
       "      <td>NaN</td>\n",
       "      <td>NaN</td>\n",
       "      <td>38.888255</td>\n",
       "      <td>-77.049436</td>\n",
       "      <td>NaN</td>\n",
       "      <td>NaN</td>\n",
       "      <td>member</td>\n",
       "    </tr>\n",
       "    <tr>\n",
       "      <th>3631</th>\n",
       "      <td>classic_bike</td>\n",
       "      <td>2021-01-02 14:18:26</td>\n",
       "      <td>2021-01-02 15:39:59</td>\n",
       "      <td>Woodglen Dr &amp; Executive Blvd</td>\n",
       "      <td>32078.0</td>\n",
       "      <td>NaN</td>\n",
       "      <td>NaN</td>\n",
       "      <td>39.043170</td>\n",
       "      <td>-77.113500</td>\n",
       "      <td>NaN</td>\n",
       "      <td>NaN</td>\n",
       "      <td>member</td>\n",
       "    </tr>\n",
       "    <tr>\n",
       "      <th>3634</th>\n",
       "      <td>classic_bike</td>\n",
       "      <td>2021-01-02 14:18:47</td>\n",
       "      <td>2021-01-02 15:40:08</td>\n",
       "      <td>Woodglen Dr &amp; Executive Blvd</td>\n",
       "      <td>32078.0</td>\n",
       "      <td>NaN</td>\n",
       "      <td>NaN</td>\n",
       "      <td>39.043170</td>\n",
       "      <td>-77.113500</td>\n",
       "      <td>NaN</td>\n",
       "      <td>NaN</td>\n",
       "      <td>member</td>\n",
       "    </tr>\n",
       "    <tr>\n",
       "      <th>4170</th>\n",
       "      <td>classic_bike</td>\n",
       "      <td>2021-01-02 14:55:47</td>\n",
       "      <td>2021-01-02 15:13:20</td>\n",
       "      <td>Columbus Circle / Union Station</td>\n",
       "      <td>31623.0</td>\n",
       "      <td>NaN</td>\n",
       "      <td>NaN</td>\n",
       "      <td>38.896960</td>\n",
       "      <td>-77.004930</td>\n",
       "      <td>NaN</td>\n",
       "      <td>NaN</td>\n",
       "      <td>member</td>\n",
       "    </tr>\n",
       "    <tr>\n",
       "      <th>...</th>\n",
       "      <td>...</td>\n",
       "      <td>...</td>\n",
       "      <td>...</td>\n",
       "      <td>...</td>\n",
       "      <td>...</td>\n",
       "      <td>...</td>\n",
       "      <td>...</td>\n",
       "      <td>...</td>\n",
       "      <td>...</td>\n",
       "      <td>...</td>\n",
       "      <td>...</td>\n",
       "      <td>...</td>\n",
       "    </tr>\n",
       "    <tr>\n",
       "      <th>10691132</th>\n",
       "      <td>classic_bike</td>\n",
       "      <td>2023-12-31 15:52:03</td>\n",
       "      <td>2024-01-01 16:51:59</td>\n",
       "      <td>1st &amp; Q St SW</td>\n",
       "      <td>31676.0</td>\n",
       "      <td>NaN</td>\n",
       "      <td>NaN</td>\n",
       "      <td>38.870824</td>\n",
       "      <td>-77.011915</td>\n",
       "      <td>NaN</td>\n",
       "      <td>NaN</td>\n",
       "      <td>casual</td>\n",
       "    </tr>\n",
       "    <tr>\n",
       "      <th>10691183</th>\n",
       "      <td>classic_bike</td>\n",
       "      <td>2023-12-31 15:57:04</td>\n",
       "      <td>2024-01-01 16:56:58</td>\n",
       "      <td>1st &amp; N St SE</td>\n",
       "      <td>31209.0</td>\n",
       "      <td>NaN</td>\n",
       "      <td>NaN</td>\n",
       "      <td>38.875023</td>\n",
       "      <td>-77.005754</td>\n",
       "      <td>NaN</td>\n",
       "      <td>NaN</td>\n",
       "      <td>member</td>\n",
       "    </tr>\n",
       "    <tr>\n",
       "      <th>10691725</th>\n",
       "      <td>classic_bike</td>\n",
       "      <td>2023-12-31 16:47:09</td>\n",
       "      <td>2024-01-01 17:47:02</td>\n",
       "      <td>Alabama Ave &amp; Stanton Rd SE / Shops at Park Vi...</td>\n",
       "      <td>31813.0</td>\n",
       "      <td>NaN</td>\n",
       "      <td>NaN</td>\n",
       "      <td>38.846270</td>\n",
       "      <td>-76.981850</td>\n",
       "      <td>NaN</td>\n",
       "      <td>NaN</td>\n",
       "      <td>casual</td>\n",
       "    </tr>\n",
       "    <tr>\n",
       "      <th>10693231</th>\n",
       "      <td>classic_bike</td>\n",
       "      <td>2023-12-31 20:33:50</td>\n",
       "      <td>2024-01-01 21:33:36</td>\n",
       "      <td>22nd St &amp; Constitution Ave NW</td>\n",
       "      <td>31292.0</td>\n",
       "      <td>NaN</td>\n",
       "      <td>NaN</td>\n",
       "      <td>38.892441</td>\n",
       "      <td>-77.048947</td>\n",
       "      <td>NaN</td>\n",
       "      <td>NaN</td>\n",
       "      <td>casual</td>\n",
       "    </tr>\n",
       "    <tr>\n",
       "      <th>10693950</th>\n",
       "      <td>classic_bike</td>\n",
       "      <td>2023-12-31 23:41:43</td>\n",
       "      <td>2024-01-02 00:41:36</td>\n",
       "      <td>Adams Mill &amp; Columbia Rd NW</td>\n",
       "      <td>31104.0</td>\n",
       "      <td>NaN</td>\n",
       "      <td>NaN</td>\n",
       "      <td>38.922849</td>\n",
       "      <td>-77.042525</td>\n",
       "      <td>NaN</td>\n",
       "      <td>NaN</td>\n",
       "      <td>member</td>\n",
       "    </tr>\n",
       "  </tbody>\n",
       "</table>\n",
       "<p>16763 rows × 12 columns</p>\n",
       "</div>"
      ],
      "text/plain": [
       "         rideable_type           started_at             ended_at  \\\n",
       "323       classic_bike  2021-01-01 09:30:20  2021-01-01 11:21:33   \n",
       "561       classic_bike  2021-01-01 12:57:44  2021-01-01 16:19:10   \n",
       "3631      classic_bike  2021-01-02 14:18:26  2021-01-02 15:39:59   \n",
       "3634      classic_bike  2021-01-02 14:18:47  2021-01-02 15:40:08   \n",
       "4170      classic_bike  2021-01-02 14:55:47  2021-01-02 15:13:20   \n",
       "...                ...                  ...                  ...   \n",
       "10691132  classic_bike  2023-12-31 15:52:03  2024-01-01 16:51:59   \n",
       "10691183  classic_bike  2023-12-31 15:57:04  2024-01-01 16:56:58   \n",
       "10691725  classic_bike  2023-12-31 16:47:09  2024-01-01 17:47:02   \n",
       "10693231  classic_bike  2023-12-31 20:33:50  2024-01-01 21:33:36   \n",
       "10693950  classic_bike  2023-12-31 23:41:43  2024-01-02 00:41:36   \n",
       "\n",
       "                                         start_station_name start_station_id  \\\n",
       "323            Tenleytown / Wisconsin Ave & Albemarle St NW          31303.0   \n",
       "561                                        Lincoln Memorial          31258.0   \n",
       "3631                           Woodglen Dr & Executive Blvd          32078.0   \n",
       "3634                           Woodglen Dr & Executive Blvd          32078.0   \n",
       "4170                        Columbus Circle / Union Station          31623.0   \n",
       "...                                                     ...              ...   \n",
       "10691132                                      1st & Q St SW          31676.0   \n",
       "10691183                                      1st & N St SE          31209.0   \n",
       "10691725  Alabama Ave & Stanton Rd SE / Shops at Park Vi...          31813.0   \n",
       "10693231                      22nd St & Constitution Ave NW          31292.0   \n",
       "10693950                        Adams Mill & Columbia Rd NW          31104.0   \n",
       "\n",
       "         end_station_name end_station_id  start_lat  start_lng  end_lat  \\\n",
       "323                   NaN            NaN  38.947607 -77.079382      NaN   \n",
       "561                   NaN            NaN  38.888255 -77.049436      NaN   \n",
       "3631                  NaN            NaN  39.043170 -77.113500      NaN   \n",
       "3634                  NaN            NaN  39.043170 -77.113500      NaN   \n",
       "4170                  NaN            NaN  38.896960 -77.004930      NaN   \n",
       "...                   ...            ...        ...        ...      ...   \n",
       "10691132              NaN            NaN  38.870824 -77.011915      NaN   \n",
       "10691183              NaN            NaN  38.875023 -77.005754      NaN   \n",
       "10691725              NaN            NaN  38.846270 -76.981850      NaN   \n",
       "10693231              NaN            NaN  38.892441 -77.048947      NaN   \n",
       "10693950              NaN            NaN  38.922849 -77.042525      NaN   \n",
       "\n",
       "          end_lng member_casual  \n",
       "323           NaN        casual  \n",
       "561           NaN        member  \n",
       "3631          NaN        member  \n",
       "3634          NaN        member  \n",
       "4170          NaN        member  \n",
       "...           ...           ...  \n",
       "10691132      NaN        casual  \n",
       "10691183      NaN        member  \n",
       "10691725      NaN        casual  \n",
       "10693231      NaN        casual  \n",
       "10693950      NaN        member  \n",
       "\n",
       "[16763 rows x 12 columns]"
      ]
     },
     "execution_count": 11,
     "metadata": {},
     "output_type": "execute_result"
    }
   ],
   "source": [
    "mask_lost_bikes = df.end_lat.isna()\n",
    "lost_bikes = df[mask_lost_bikes]\n",
    "lost_bikes"
   ]
  },
  {
   "cell_type": "markdown",
   "id": "b2e8ff3b",
   "metadata": {},
   "source": [
    "lost bikes: bikes that have been rented, ridden and returned, but could not be located after the ride.\n",
    "\n",
    "=> drop those entries"
   ]
  },
  {
   "cell_type": "code",
   "execution_count": 12,
   "id": "f2729b3d",
   "metadata": {},
   "outputs": [],
   "source": [
    "df = df[~mask_lost_bikes]"
   ]
  },
  {
   "cell_type": "markdown",
   "id": "ab5fec38",
   "metadata": {},
   "source": [
    "## Analyse Lost Bikes"
   ]
  },
  {
   "cell_type": "code",
   "execution_count": 13,
   "id": "d91e43e7",
   "metadata": {},
   "outputs": [],
   "source": [
    "# data type conversion"
   ]
  },
  {
   "cell_type": "code",
   "execution_count": 14,
   "id": "e3276124",
   "metadata": {},
   "outputs": [],
   "source": [
    "# lost_bikes.rideable_type.value_counts()"
   ]
  },
  {
   "cell_type": "code",
   "execution_count": 15,
   "id": "ce52b9a0",
   "metadata": {},
   "outputs": [],
   "source": [
    "# duration_lost_rides = (lost_bikes.ended_at - lost_bikes.started_at).dt.total_seconds()\n",
    "# sns.histplot(x=duration_lost_rides, binrange=[0, 8.999200e+04])"
   ]
  },
  {
   "cell_type": "markdown",
   "id": "2e54c69f",
   "metadata": {},
   "source": [
    "# Convert Data Types"
   ]
  },
  {
   "cell_type": "code",
   "execution_count": 16,
   "id": "7e69d816",
   "metadata": {},
   "outputs": [],
   "source": [
    "df_before_type_conversion = df.copy()\n",
    "unique_values_before_type_conversions = df.nunique()"
   ]
  },
  {
   "cell_type": "code",
   "execution_count": 17,
   "id": "0fe65963",
   "metadata": {},
   "outputs": [],
   "source": [
    "# drop id, reset index\n",
    "# df = df.drop(columns='ride_id').reset_index()"
   ]
  },
  {
   "cell_type": "code",
   "execution_count": 18,
   "id": "72d4b5f5",
   "metadata": {},
   "outputs": [],
   "source": [
    "# Convert categorical columns to category type for memory efficiency\n",
    "df[\"rideable_type\"]         = df[\"rideable_type\"     ].astype(\"category\")\n",
    "df[\"start_station_name\"]    = df[\"start_station_name\"].astype(\"category\")\n",
    "df[\"end_station_name\"]      = df[\"end_station_name\"  ].astype(\"category\")\n",
    "df[\"member_casual\"]         = df[\"member_casual\"     ].astype(\"category\")\n",
    "\n",
    "# Convert started_at and ended_at to datetime for memory efficiency\n",
    "df['started_at']   = pd.to_datetime(df['started_at'])\n",
    "df['ended_at']     = pd.to_datetime(df['ended_at'  ])\n",
    "\n",
    "df['started_at']   = pa.Array.from_pandas(df['started_at'], type=pa.timestamp('s'))\n",
    "df['ended_at']     = pa.Array.from_pandas(df['ended_at'  ], type=pa.timestamp('s'))\n",
    "\n",
    "df['start_station_id']  = df['start_station_id'].astype('uint32[pyarrow]')\n",
    "df['end_station_id']    = df['end_station_id'  ].astype('uint32[pyarrow]')\n"
   ]
  },
  {
   "cell_type": "code",
   "execution_count": 19,
   "id": "938f16c3",
   "metadata": {},
   "outputs": [],
   "source": [
    "df['start_lat'] = df['start_lat'].round(NDEC_LAT_LNG).astype('float32[pyarrow]') \n",
    "df['start_lng'] = df['start_lng'].round(NDEC_LAT_LNG).astype('float32[pyarrow]') \n",
    "df['end_lat']   = df['end_lat'  ].round(NDEC_LAT_LNG).astype('float32[pyarrow]') \n",
    "df['end_lng']   = df['end_lng'  ].round(NDEC_LAT_LNG).astype('float32[pyarrow]')"
   ]
  },
  {
   "cell_type": "code",
   "execution_count": 20,
   "id": "bc1de434",
   "metadata": {},
   "outputs": [],
   "source": [
    "unique_values_after_type_conversions = df.nunique()"
   ]
  },
  {
   "cell_type": "code",
   "execution_count": 21,
   "id": "6d27ad83",
   "metadata": {},
   "outputs": [
    {
     "data": {
      "application/vnd.microsoft.datawrangler.viewer.v0+json": {
       "columns": [
        {
         "name": "index",
         "rawType": "object",
         "type": "string"
        },
        {
         "name": "after",
         "rawType": "int64",
         "type": "integer"
        },
        {
         "name": "before",
         "rawType": "int64",
         "type": "integer"
        }
       ],
       "ref": "b6c69d1b-c2df-43bd-96cd-b3928d99dc5f",
       "rows": [
        [
         "rideable_type",
         "3",
         "3"
        ],
        [
         "started_at",
         "9635493",
         "9635493"
        ],
        [
         "ended_at",
         "9624325",
         "9624325"
        ],
        [
         "start_station_name",
         "859",
         "859"
        ],
        [
         "start_station_id",
         "773",
         "1320"
        ],
        [
         "end_station_name",
         "864",
         "864"
        ],
        [
         "end_station_id",
         "777",
         "1337"
        ],
        [
         "start_lat",
         "13057",
         "570109"
        ],
        [
         "start_lng",
         "14653",
         "617670"
        ],
        [
         "end_lat",
         "11635",
         "173835"
        ],
        [
         "end_lng",
         "12851",
         "183886"
        ],
        [
         "member_casual",
         "2",
         "2"
        ]
       ],
       "shape": {
        "columns": 2,
        "rows": 12
       }
      },
      "text/html": [
       "<div>\n",
       "<style scoped>\n",
       "    .dataframe tbody tr th:only-of-type {\n",
       "        vertical-align: middle;\n",
       "    }\n",
       "\n",
       "    .dataframe tbody tr th {\n",
       "        vertical-align: top;\n",
       "    }\n",
       "\n",
       "    .dataframe thead th {\n",
       "        text-align: right;\n",
       "    }\n",
       "</style>\n",
       "<table border=\"1\" class=\"dataframe\">\n",
       "  <thead>\n",
       "    <tr style=\"text-align: right;\">\n",
       "      <th></th>\n",
       "      <th>after</th>\n",
       "      <th>before</th>\n",
       "    </tr>\n",
       "  </thead>\n",
       "  <tbody>\n",
       "    <tr>\n",
       "      <th>rideable_type</th>\n",
       "      <td>3</td>\n",
       "      <td>3</td>\n",
       "    </tr>\n",
       "    <tr>\n",
       "      <th>started_at</th>\n",
       "      <td>9635493</td>\n",
       "      <td>9635493</td>\n",
       "    </tr>\n",
       "    <tr>\n",
       "      <th>ended_at</th>\n",
       "      <td>9624325</td>\n",
       "      <td>9624325</td>\n",
       "    </tr>\n",
       "    <tr>\n",
       "      <th>start_station_name</th>\n",
       "      <td>859</td>\n",
       "      <td>859</td>\n",
       "    </tr>\n",
       "    <tr>\n",
       "      <th>start_station_id</th>\n",
       "      <td>773</td>\n",
       "      <td>1320</td>\n",
       "    </tr>\n",
       "    <tr>\n",
       "      <th>end_station_name</th>\n",
       "      <td>864</td>\n",
       "      <td>864</td>\n",
       "    </tr>\n",
       "    <tr>\n",
       "      <th>end_station_id</th>\n",
       "      <td>777</td>\n",
       "      <td>1337</td>\n",
       "    </tr>\n",
       "    <tr>\n",
       "      <th>start_lat</th>\n",
       "      <td>13057</td>\n",
       "      <td>570109</td>\n",
       "    </tr>\n",
       "    <tr>\n",
       "      <th>start_lng</th>\n",
       "      <td>14653</td>\n",
       "      <td>617670</td>\n",
       "    </tr>\n",
       "    <tr>\n",
       "      <th>end_lat</th>\n",
       "      <td>11635</td>\n",
       "      <td>173835</td>\n",
       "    </tr>\n",
       "    <tr>\n",
       "      <th>end_lng</th>\n",
       "      <td>12851</td>\n",
       "      <td>183886</td>\n",
       "    </tr>\n",
       "    <tr>\n",
       "      <th>member_casual</th>\n",
       "      <td>2</td>\n",
       "      <td>2</td>\n",
       "    </tr>\n",
       "  </tbody>\n",
       "</table>\n",
       "</div>"
      ],
      "text/plain": [
       "                      after   before\n",
       "rideable_type             3        3\n",
       "started_at          9635493  9635493\n",
       "ended_at            9624325  9624325\n",
       "start_station_name      859      859\n",
       "start_station_id        773     1320\n",
       "end_station_name        864      864\n",
       "end_station_id          777     1337\n",
       "start_lat             13057   570109\n",
       "start_lng             14653   617670\n",
       "end_lat               11635   173835\n",
       "end_lng               12851   183886\n",
       "member_casual             2        2"
      ]
     },
     "execution_count": 21,
     "metadata": {},
     "output_type": "execute_result"
    }
   ],
   "source": [
    "pd.merge(\n",
    "    pd.DataFrame(unique_values_after_type_conversions),\n",
    "    pd.DataFrame(unique_values_before_type_conversions),\n",
    "    right_index=True, left_index=True\n",
    ").rename(columns={'0_x' : 'after', '0_y' : 'before'})"
   ]
  },
  {
   "cell_type": "code",
   "execution_count": 22,
   "id": "2aa14acb",
   "metadata": {},
   "outputs": [
    {
     "data": {
      "application/vnd.microsoft.datawrangler.viewer.v0+json": {
       "columns": [
        {
         "name": "index",
         "rawType": "object",
         "type": "string"
        },
        {
         "name": "0",
         "rawType": "object",
         "type": "unknown"
        }
       ],
       "ref": "b3dfdf4b-4b6e-4fdc-8639-3f3775e29d9a",
       "rows": [
        [
         "rideable_type",
         "category"
        ],
        [
         "started_at",
         "datetime64[s]"
        ],
        [
         "ended_at",
         "datetime64[s]"
        ],
        [
         "start_station_name",
         "category"
        ],
        [
         "start_station_id",
         "uint32[pyarrow]"
        ],
        [
         "end_station_name",
         "category"
        ],
        [
         "end_station_id",
         "uint32[pyarrow]"
        ],
        [
         "start_lat",
         "float[pyarrow]"
        ],
        [
         "start_lng",
         "float[pyarrow]"
        ],
        [
         "end_lat",
         "float[pyarrow]"
        ],
        [
         "end_lng",
         "float[pyarrow]"
        ],
        [
         "member_casual",
         "category"
        ]
       ],
       "shape": {
        "columns": 1,
        "rows": 12
       }
      },
      "text/plain": [
       "rideable_type                category\n",
       "started_at              datetime64[s]\n",
       "ended_at                datetime64[s]\n",
       "start_station_name           category\n",
       "start_station_id      uint32[pyarrow]\n",
       "end_station_name             category\n",
       "end_station_id        uint32[pyarrow]\n",
       "start_lat              float[pyarrow]\n",
       "start_lng              float[pyarrow]\n",
       "end_lat                float[pyarrow]\n",
       "end_lng                float[pyarrow]\n",
       "member_casual                category\n",
       "dtype: object"
      ]
     },
     "execution_count": 22,
     "metadata": {},
     "output_type": "execute_result"
    }
   ],
   "source": [
    "df.dtypes"
   ]
  },
  {
   "cell_type": "code",
   "execution_count": 23,
   "id": "bc60dabc",
   "metadata": {},
   "outputs": [],
   "source": [
    "# TODO due to type conversion: did I loose accuracy?"
   ]
  },
  {
   "cell_type": "markdown",
   "id": "3b5a75d4",
   "metadata": {},
   "source": [
    "# Export"
   ]
  },
  {
   "cell_type": "code",
   "execution_count": 24,
   "id": "7b8d163f",
   "metadata": {},
   "outputs": [],
   "source": [
    "df.to_parquet(config['processed_data_paths']['rides_init'])"
   ]
  }
 ],
 "metadata": {
  "kernelspec": {
   "display_name": "base_data_analysis",
   "language": "python",
   "name": "python3"
  },
  "language_info": {
   "codemirror_mode": {
    "name": "ipython",
    "version": 3
   },
   "file_extension": ".py",
   "mimetype": "text/x-python",
   "name": "python",
   "nbconvert_exporter": "python",
   "pygments_lexer": "ipython3",
   "version": "3.12.3"
  }
 },
 "nbformat": 4,
 "nbformat_minor": 5
}
