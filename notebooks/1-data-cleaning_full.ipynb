{
 "cells": [
  {
   "cell_type": "markdown",
   "id": "7445ead0",
   "metadata": {},
   "source": [
    "# Data Cleaning - full data set"
   ]
  },
  {
   "cell_type": "code",
   "execution_count": 8,
   "id": "8326833f",
   "metadata": {},
   "outputs": [],
   "source": [
    "import yaml\n",
    "\n",
    "import pandas as pd"
   ]
  },
  {
   "cell_type": "code",
   "execution_count": 14,
   "id": "a910d126",
   "metadata": {},
   "outputs": [
    {
     "data": {
      "text/plain": [
       "{'raw_data_paths': {'data_daily': '../data/raw/CBS_2021-2023_Daily_Weather.csv',\n",
       "  'data_hourly': '../data/raw/CBS_2021-2023_Hourly_Weather.csv',\n",
       "  'data_full': '../data/raw/CBS_2021-2023_Full.csv'}}"
      ]
     },
     "execution_count": 14,
     "metadata": {},
     "output_type": "execute_result"
    }
   ],
   "source": [
    "with open(\"../config/config.yaml\", \"r\") as file:\n",
    "    config = yaml.safe_load(file)\n",
    "config"
   ]
  },
  {
   "cell_type": "markdown",
   "id": "ffa62ac0",
   "metadata": {},
   "source": [
    "# Load"
   ]
  },
  {
   "cell_type": "code",
   "execution_count": null,
   "id": "35f4ebb0",
   "metadata": {},
   "outputs": [],
   "source": [
    "data = pd.read_csv(config['raw_data_paths']['full'])"
   ]
  },
  {
   "cell_type": "code",
   "execution_count": 12,
   "id": "db9a7de2",
   "metadata": {},
   "outputs": [
    {
     "data": {
      "application/vnd.microsoft.datawrangler.viewer.v0+json": {
       "columns": [
        {
         "name": "index",
         "rawType": "int64",
         "type": "integer"
        },
        {
         "name": "Casual",
         "rawType": "int64",
         "type": "integer"
        },
        {
         "name": "Date",
         "rawType": "object",
         "type": "string"
        },
        {
         "name": "Member",
         "rawType": "int64",
         "type": "integer"
        },
        {
         "name": "Total_rides",
         "rawType": "int64",
         "type": "integer"
        },
        {
         "name": "apparent_temperature_mean (°C)",
         "rawType": "float64",
         "type": "float"
        },
        {
         "name": "temperature_2m_mean (°C)",
         "rawType": "float64",
         "type": "float"
        },
        {
         "name": "weathercode (wmo code)",
         "rawType": "int64",
         "type": "integer"
        },
        {
         "name": "windspeed_10m_max (km/h)",
         "rawType": "float64",
         "type": "float"
        }
       ],
       "conversionMethod": "pd.DataFrame",
       "ref": "0bde7525-d401-4da4-98b7-3406847be362",
       "rows": [
        [
         "0",
         "371",
         "2021-01-01",
         "590",
         "961",
         "-0.9",
         "2.3",
         "63",
         "10.6"
        ],
        [
         "1",
         "2874",
         "2021-01-02",
         "2844",
         "5718",
         "4.8",
         "7.6",
         "61",
         "19.1"
        ],
        [
         "2",
         "495",
         "2021-01-03",
         "1133",
         "1628",
         "0.9",
         "3.9",
         "63",
         "13.0"
        ],
        [
         "3",
         "907",
         "2021-01-04",
         "2074",
         "2981",
         "1.0",
         "4.1",
         "3",
         "13.3"
        ],
        [
         "4",
         "1057",
         "2021-01-05",
         "2004",
         "3061",
         "1.4",
         "4.0",
         "51",
         "9.2"
        ]
       ],
       "shape": {
        "columns": 8,
        "rows": 5
       }
      },
      "text/html": [
       "<div>\n",
       "<style scoped>\n",
       "    .dataframe tbody tr th:only-of-type {\n",
       "        vertical-align: middle;\n",
       "    }\n",
       "\n",
       "    .dataframe tbody tr th {\n",
       "        vertical-align: top;\n",
       "    }\n",
       "\n",
       "    .dataframe thead th {\n",
       "        text-align: right;\n",
       "    }\n",
       "</style>\n",
       "<table border=\"1\" class=\"dataframe\">\n",
       "  <thead>\n",
       "    <tr style=\"text-align: right;\">\n",
       "      <th></th>\n",
       "      <th>Casual</th>\n",
       "      <th>Date</th>\n",
       "      <th>Member</th>\n",
       "      <th>Total_rides</th>\n",
       "      <th>apparent_temperature_mean (°C)</th>\n",
       "      <th>temperature_2m_mean (°C)</th>\n",
       "      <th>weathercode (wmo code)</th>\n",
       "      <th>windspeed_10m_max (km/h)</th>\n",
       "    </tr>\n",
       "  </thead>\n",
       "  <tbody>\n",
       "    <tr>\n",
       "      <th>0</th>\n",
       "      <td>371</td>\n",
       "      <td>2021-01-01</td>\n",
       "      <td>590</td>\n",
       "      <td>961</td>\n",
       "      <td>-0.9</td>\n",
       "      <td>2.3</td>\n",
       "      <td>63</td>\n",
       "      <td>10.6</td>\n",
       "    </tr>\n",
       "    <tr>\n",
       "      <th>1</th>\n",
       "      <td>2874</td>\n",
       "      <td>2021-01-02</td>\n",
       "      <td>2844</td>\n",
       "      <td>5718</td>\n",
       "      <td>4.8</td>\n",
       "      <td>7.6</td>\n",
       "      <td>61</td>\n",
       "      <td>19.1</td>\n",
       "    </tr>\n",
       "    <tr>\n",
       "      <th>2</th>\n",
       "      <td>495</td>\n",
       "      <td>2021-01-03</td>\n",
       "      <td>1133</td>\n",
       "      <td>1628</td>\n",
       "      <td>0.9</td>\n",
       "      <td>3.9</td>\n",
       "      <td>63</td>\n",
       "      <td>13.0</td>\n",
       "    </tr>\n",
       "    <tr>\n",
       "      <th>3</th>\n",
       "      <td>907</td>\n",
       "      <td>2021-01-04</td>\n",
       "      <td>2074</td>\n",
       "      <td>2981</td>\n",
       "      <td>1.0</td>\n",
       "      <td>4.1</td>\n",
       "      <td>3</td>\n",
       "      <td>13.3</td>\n",
       "    </tr>\n",
       "    <tr>\n",
       "      <th>4</th>\n",
       "      <td>1057</td>\n",
       "      <td>2021-01-05</td>\n",
       "      <td>2004</td>\n",
       "      <td>3061</td>\n",
       "      <td>1.4</td>\n",
       "      <td>4.0</td>\n",
       "      <td>51</td>\n",
       "      <td>9.2</td>\n",
       "    </tr>\n",
       "  </tbody>\n",
       "</table>\n",
       "</div>"
      ],
      "text/plain": [
       "   Casual        Date  Member  Total_rides  apparent_temperature_mean (°C)  \\\n",
       "0     371  2021-01-01     590          961                            -0.9   \n",
       "1    2874  2021-01-02    2844         5718                             4.8   \n",
       "2     495  2021-01-03    1133         1628                             0.9   \n",
       "3     907  2021-01-04    2074         2981                             1.0   \n",
       "4    1057  2021-01-05    2004         3061                             1.4   \n",
       "\n",
       "   temperature_2m_mean (°C)  weathercode (wmo code)  windspeed_10m_max (km/h)  \n",
       "0                       2.3                      63                      10.6  \n",
       "1                       7.6                      61                      19.1  \n",
       "2                       3.9                      63                      13.0  \n",
       "3                       4.1                       3                      13.3  \n",
       "4                       4.0                      51                       9.2  "
      ]
     },
     "execution_count": 12,
     "metadata": {},
     "output_type": "execute_result"
    }
   ],
   "source": [
    "data.head()"
   ]
  },
  {
   "cell_type": "code",
   "execution_count": 4,
   "id": "e22892cc",
   "metadata": {},
   "outputs": [
    {
     "name": "stdout",
     "output_type": "stream",
     "text": [
      "<class 'pandas.core.frame.DataFrame'>\n",
      "RangeIndex: 1000 entries, 0 to 999\n",
      "Data columns (total 13 columns):\n",
      " #   Column              Non-Null Count  Dtype  \n",
      "---  ------              --------------  -----  \n",
      " 0   ride_id             1000 non-null   object \n",
      " 1   rideable_type       1000 non-null   object \n",
      " 2   started_at          1000 non-null   object \n",
      " 3   ended_at            1000 non-null   object \n",
      " 4   start_station_name  871 non-null    object \n",
      " 5   start_station_id    871 non-null    float64\n",
      " 6   end_station_name    844 non-null    object \n",
      " 7   end_station_id      844 non-null    float64\n",
      " 8   start_lat           1000 non-null   float64\n",
      " 9   start_lng           1000 non-null   float64\n",
      " 10  end_lat             998 non-null    float64\n",
      " 11  end_lng             998 non-null    float64\n",
      " 12  member_casual       1000 non-null   object \n",
      "dtypes: float64(6), object(7)\n",
      "memory usage: 101.7+ KB\n"
     ]
    }
   ],
   "source": [
    "data.info()"
   ]
  },
  {
   "cell_type": "markdown",
   "id": "fea46932",
   "metadata": {},
   "source": [
    "# Cleaning\n",
    "\n",
    "- separate redundant information and create separate tables\n",
    "  - station table: station_id, lat, lng (lat, log as mean values)\n",
    "  - member table: \n",
    "- transform data \n",
    "  - rideable_type -> 0,1,2,... OR classic: True, False\n",
    "  - member_casual -> 0,1,2,...\n",
    "- reduce data type to reasonable precision"
   ]
  },
  {
   "cell_type": "code",
   "execution_count": null,
   "id": "8e4bcf03",
   "metadata": {},
   "outputs": [],
   "source": [
    "# TODO check number of values in each column\n",
    "# TODO calculate resolution by using timedelta and set accordingly\n",
    "# TODO consider int32 and float32"
   ]
  },
  {
   "cell_type": "markdown",
   "id": "ed76d5e7",
   "metadata": {},
   "source": [
    "# Processing"
   ]
  },
  {
   "cell_type": "markdown",
   "id": "9c906e19",
   "metadata": {},
   "source": [
    "## Analyse and check station data"
   ]
  },
  {
   "cell_type": "code",
   "execution_count": null,
   "id": "c5307a7b",
   "metadata": {},
   "outputs": [],
   "source": [
    "# if start and end station are not missing, then lat, lng should represent the location of the station\n",
    "#   remove outliers\n",
    "#   calc mean position\n",
    "#   check values"
   ]
  },
  {
   "cell_type": "markdown",
   "id": "2f4ef111",
   "metadata": {},
   "source": [
    "## Create Graph Data"
   ]
  },
  {
   "cell_type": "markdown",
   "id": "a8959e79",
   "metadata": {},
   "source": [
    "# Export to parquet"
   ]
  },
  {
   "cell_type": "code",
   "execution_count": null,
   "id": "331e60af",
   "metadata": {},
   "outputs": [],
   "source": [
    "# rides.to_parquet('../data/processed/rides.parquet')\n",
    "# stations.to_parquet('../data/processed/stations.parquet')\n",
    "# members.to_parquet('../data/processed/members.parquet')"
   ]
  }
 ],
 "metadata": {
  "kernelspec": {
   "display_name": "base_data_analysis",
   "language": "python",
   "name": "python3"
  },
  "language_info": {
   "codemirror_mode": {
    "name": "ipython",
    "version": 3
   },
   "file_extension": ".py",
   "mimetype": "text/x-python",
   "name": "python",
   "nbconvert_exporter": "python",
   "pygments_lexer": "ipython3",
   "version": "3.12.3"
  }
 },
 "nbformat": 4,
 "nbformat_minor": 5
}
