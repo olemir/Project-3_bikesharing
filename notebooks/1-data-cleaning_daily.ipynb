{
 "cells": [
  {
   "cell_type": "markdown",
   "id": "41821407",
   "metadata": {},
   "source": [
    "# Data Cleaning"
   ]
  },
  {
   "cell_type": "code",
   "execution_count": 1,
   "id": "24808c92",
   "metadata": {},
   "outputs": [],
   "source": [
    "import yaml\n",
    "\n",
    "import pandas as pd"
   ]
  },
  {
   "cell_type": "code",
   "execution_count": 2,
   "id": "9a36299e",
   "metadata": {},
   "outputs": [
    {
     "data": {
      "text/plain": [
       "{'raw_data_paths': {'daily': '../data/raw/CBS_2021-2023_Daily_Weather.csv',\n",
       "  'hourly': '../data/raw/CBS_2021-2023_Hourly_Weather.csv',\n",
       "  'full': '../data/raw/CBS_2021-2023_Full.csv'},\n",
       " 'processed_data_paths': {'data_daily': '../data/processed/daily_data.parquet',\n",
       "  'data_hourly': '../data/processed/hourly_data.parquet'}}"
      ]
     },
     "execution_count": 2,
     "metadata": {},
     "output_type": "execute_result"
    }
   ],
   "source": [
    "with open(\"../config/config.yaml\", \"r\") as file:\n",
    "    config = yaml.safe_load(file)\n",
    "config"
   ]
  },
  {
   "cell_type": "markdown",
   "id": "6008461f",
   "metadata": {},
   "source": [
    "# Load"
   ]
  },
  {
   "cell_type": "code",
   "execution_count": 5,
   "id": "c933db29",
   "metadata": {},
   "outputs": [],
   "source": [
    "data_daily  = pd.read_csv(config['raw_data_paths']['daily'])"
   ]
  },
  {
   "cell_type": "code",
   "execution_count": 49,
   "id": "9e19b469",
   "metadata": {},
   "outputs": [],
   "source": [
    "# import csv\n",
    "\n",
    "# weathercodes = pd.read_csv('../data/raw/WMO2011h.csv', sep=';', quotechar='\"', quoting=csv.QUOTE_NONNUMERIC, on_bad_lines='warn')\n",
    "# weathercodes"
   ]
  },
  {
   "cell_type": "code",
   "execution_count": 63,
   "id": "101fb8bb",
   "metadata": {},
   "outputs": [
    {
     "data": {
      "application/vnd.microsoft.datawrangler.viewer.v0+json": {
       "columns": [
        {
         "name": "index",
         "rawType": "int64",
         "type": "integer"
        },
        {
         "name": "Casual",
         "rawType": "int64",
         "type": "integer"
        },
        {
         "name": "Date",
         "rawType": "object",
         "type": "string"
        },
        {
         "name": "Member",
         "rawType": "int64",
         "type": "integer"
        },
        {
         "name": "Total_rides",
         "rawType": "int64",
         "type": "integer"
        },
        {
         "name": "apparent_temperature_mean (°C)",
         "rawType": "float64",
         "type": "float"
        },
        {
         "name": "temperature_2m_mean (°C)",
         "rawType": "float64",
         "type": "float"
        },
        {
         "name": "weathercode (wmo code)",
         "rawType": "int64",
         "type": "integer"
        },
        {
         "name": "windspeed_10m_max (km/h)",
         "rawType": "float64",
         "type": "float"
        }
       ],
       "conversionMethod": "pd.DataFrame",
       "ref": "2ca8be5f-8d0f-4ac1-ae46-e4b4df61f046",
       "rows": [
        [
         "0",
         "371",
         "2021-01-01",
         "590",
         "961",
         "-0.9",
         "2.3",
         "63",
         "10.6"
        ],
        [
         "1",
         "2874",
         "2021-01-02",
         "2844",
         "5718",
         "4.8",
         "7.6",
         "61",
         "19.1"
        ],
        [
         "2",
         "495",
         "2021-01-03",
         "1133",
         "1628",
         "0.9",
         "3.9",
         "63",
         "13.0"
        ],
        [
         "3",
         "907",
         "2021-01-04",
         "2074",
         "2981",
         "1.0",
         "4.1",
         "3",
         "13.3"
        ],
        [
         "4",
         "1057",
         "2021-01-05",
         "2004",
         "3061",
         "1.4",
         "4.0",
         "51",
         "9.2"
        ]
       ],
       "shape": {
        "columns": 8,
        "rows": 5
       }
      },
      "text/html": [
       "<div>\n",
       "<style scoped>\n",
       "    .dataframe tbody tr th:only-of-type {\n",
       "        vertical-align: middle;\n",
       "    }\n",
       "\n",
       "    .dataframe tbody tr th {\n",
       "        vertical-align: top;\n",
       "    }\n",
       "\n",
       "    .dataframe thead th {\n",
       "        text-align: right;\n",
       "    }\n",
       "</style>\n",
       "<table border=\"1\" class=\"dataframe\">\n",
       "  <thead>\n",
       "    <tr style=\"text-align: right;\">\n",
       "      <th></th>\n",
       "      <th>Casual</th>\n",
       "      <th>Date</th>\n",
       "      <th>Member</th>\n",
       "      <th>Total_rides</th>\n",
       "      <th>apparent_temperature_mean (°C)</th>\n",
       "      <th>temperature_2m_mean (°C)</th>\n",
       "      <th>weathercode (wmo code)</th>\n",
       "      <th>windspeed_10m_max (km/h)</th>\n",
       "    </tr>\n",
       "  </thead>\n",
       "  <tbody>\n",
       "    <tr>\n",
       "      <th>0</th>\n",
       "      <td>371</td>\n",
       "      <td>2021-01-01</td>\n",
       "      <td>590</td>\n",
       "      <td>961</td>\n",
       "      <td>-0.9</td>\n",
       "      <td>2.3</td>\n",
       "      <td>63</td>\n",
       "      <td>10.6</td>\n",
       "    </tr>\n",
       "    <tr>\n",
       "      <th>1</th>\n",
       "      <td>2874</td>\n",
       "      <td>2021-01-02</td>\n",
       "      <td>2844</td>\n",
       "      <td>5718</td>\n",
       "      <td>4.8</td>\n",
       "      <td>7.6</td>\n",
       "      <td>61</td>\n",
       "      <td>19.1</td>\n",
       "    </tr>\n",
       "    <tr>\n",
       "      <th>2</th>\n",
       "      <td>495</td>\n",
       "      <td>2021-01-03</td>\n",
       "      <td>1133</td>\n",
       "      <td>1628</td>\n",
       "      <td>0.9</td>\n",
       "      <td>3.9</td>\n",
       "      <td>63</td>\n",
       "      <td>13.0</td>\n",
       "    </tr>\n",
       "    <tr>\n",
       "      <th>3</th>\n",
       "      <td>907</td>\n",
       "      <td>2021-01-04</td>\n",
       "      <td>2074</td>\n",
       "      <td>2981</td>\n",
       "      <td>1.0</td>\n",
       "      <td>4.1</td>\n",
       "      <td>3</td>\n",
       "      <td>13.3</td>\n",
       "    </tr>\n",
       "    <tr>\n",
       "      <th>4</th>\n",
       "      <td>1057</td>\n",
       "      <td>2021-01-05</td>\n",
       "      <td>2004</td>\n",
       "      <td>3061</td>\n",
       "      <td>1.4</td>\n",
       "      <td>4.0</td>\n",
       "      <td>51</td>\n",
       "      <td>9.2</td>\n",
       "    </tr>\n",
       "  </tbody>\n",
       "</table>\n",
       "</div>"
      ],
      "text/plain": [
       "   Casual        Date  Member  Total_rides  apparent_temperature_mean (°C)  \\\n",
       "0     371  2021-01-01     590          961                            -0.9   \n",
       "1    2874  2021-01-02    2844         5718                             4.8   \n",
       "2     495  2021-01-03    1133         1628                             0.9   \n",
       "3     907  2021-01-04    2074         2981                             1.0   \n",
       "4    1057  2021-01-05    2004         3061                             1.4   \n",
       "\n",
       "   temperature_2m_mean (°C)  weathercode (wmo code)  windspeed_10m_max (km/h)  \n",
       "0                       2.3                      63                      10.6  \n",
       "1                       7.6                      61                      19.1  \n",
       "2                       3.9                      63                      13.0  \n",
       "3                       4.1                       3                      13.3  \n",
       "4                       4.0                      51                       9.2  "
      ]
     },
     "execution_count": 63,
     "metadata": {},
     "output_type": "execute_result"
    }
   ],
   "source": [
    "data_daily .head()"
   ]
  },
  {
   "cell_type": "code",
   "execution_count": 64,
   "id": "4d53ae23",
   "metadata": {},
   "outputs": [
    {
     "data": {
      "application/vnd.microsoft.datawrangler.viewer.v0+json": {
       "columns": [
        {
         "name": "index",
         "rawType": "int64",
         "type": "integer"
        },
        {
         "name": "Casual",
         "rawType": "float64",
         "type": "float"
        },
        {
         "name": "Date",
         "rawType": "object",
         "type": "string"
        },
        {
         "name": "Hour",
         "rawType": "int64",
         "type": "integer"
        },
        {
         "name": "Member",
         "rawType": "float64",
         "type": "float"
        },
        {
         "name": "Total_rides",
         "rawType": "float64",
         "type": "float"
        },
        {
         "name": "relativehumidity_2m (%)",
         "rawType": "int64",
         "type": "integer"
        },
        {
         "name": "temperature_2m (°C)",
         "rawType": "float64",
         "type": "float"
        },
        {
         "name": "weathercode (wmo code)",
         "rawType": "int64",
         "type": "integer"
        },
        {
         "name": "windspeed_10m (km/h)",
         "rawType": "float64",
         "type": "float"
        }
       ],
       "conversionMethod": "pd.DataFrame",
       "ref": "71970385-3d38-47ff-beb3-76b900af9b43",
       "rows": [
        [
         "0",
         "20.0",
         "2021-01-01",
         "0",
         "26.0",
         "46.0",
         "90",
         "2.4",
         "1",
         "10.2"
        ],
        [
         "1",
         "23.0",
         "2021-01-01",
         "1",
         "23.0",
         "46.0",
         "88",
         "1.8",
         "1",
         "10.0"
        ],
        [
         "2",
         "20.0",
         "2021-01-01",
         "2",
         "28.0",
         "48.0",
         "87",
         "1.1",
         "2",
         "10.1"
        ],
        [
         "3",
         "9.0",
         "2021-01-01",
         "3",
         "7.0",
         "16.0",
         "81",
         "1.6",
         "2",
         "10.6"
        ],
        [
         "4",
         "7.0",
         "2021-01-01",
         "4",
         "5.0",
         "12.0",
         "77",
         "1.6",
         "2",
         "9.9"
        ]
       ],
       "shape": {
        "columns": 9,
        "rows": 5
       }
      },
      "text/html": [
       "<div>\n",
       "<style scoped>\n",
       "    .dataframe tbody tr th:only-of-type {\n",
       "        vertical-align: middle;\n",
       "    }\n",
       "\n",
       "    .dataframe tbody tr th {\n",
       "        vertical-align: top;\n",
       "    }\n",
       "\n",
       "    .dataframe thead th {\n",
       "        text-align: right;\n",
       "    }\n",
       "</style>\n",
       "<table border=\"1\" class=\"dataframe\">\n",
       "  <thead>\n",
       "    <tr style=\"text-align: right;\">\n",
       "      <th></th>\n",
       "      <th>Casual</th>\n",
       "      <th>Date</th>\n",
       "      <th>Hour</th>\n",
       "      <th>Member</th>\n",
       "      <th>Total_rides</th>\n",
       "      <th>relativehumidity_2m (%)</th>\n",
       "      <th>temperature_2m (°C)</th>\n",
       "      <th>weathercode (wmo code)</th>\n",
       "      <th>windspeed_10m (km/h)</th>\n",
       "    </tr>\n",
       "  </thead>\n",
       "  <tbody>\n",
       "    <tr>\n",
       "      <th>0</th>\n",
       "      <td>20.0</td>\n",
       "      <td>2021-01-01</td>\n",
       "      <td>0</td>\n",
       "      <td>26.0</td>\n",
       "      <td>46.0</td>\n",
       "      <td>90</td>\n",
       "      <td>2.4</td>\n",
       "      <td>1</td>\n",
       "      <td>10.2</td>\n",
       "    </tr>\n",
       "    <tr>\n",
       "      <th>1</th>\n",
       "      <td>23.0</td>\n",
       "      <td>2021-01-01</td>\n",
       "      <td>1</td>\n",
       "      <td>23.0</td>\n",
       "      <td>46.0</td>\n",
       "      <td>88</td>\n",
       "      <td>1.8</td>\n",
       "      <td>1</td>\n",
       "      <td>10.0</td>\n",
       "    </tr>\n",
       "    <tr>\n",
       "      <th>2</th>\n",
       "      <td>20.0</td>\n",
       "      <td>2021-01-01</td>\n",
       "      <td>2</td>\n",
       "      <td>28.0</td>\n",
       "      <td>48.0</td>\n",
       "      <td>87</td>\n",
       "      <td>1.1</td>\n",
       "      <td>2</td>\n",
       "      <td>10.1</td>\n",
       "    </tr>\n",
       "    <tr>\n",
       "      <th>3</th>\n",
       "      <td>9.0</td>\n",
       "      <td>2021-01-01</td>\n",
       "      <td>3</td>\n",
       "      <td>7.0</td>\n",
       "      <td>16.0</td>\n",
       "      <td>81</td>\n",
       "      <td>1.6</td>\n",
       "      <td>2</td>\n",
       "      <td>10.6</td>\n",
       "    </tr>\n",
       "    <tr>\n",
       "      <th>4</th>\n",
       "      <td>7.0</td>\n",
       "      <td>2021-01-01</td>\n",
       "      <td>4</td>\n",
       "      <td>5.0</td>\n",
       "      <td>12.0</td>\n",
       "      <td>77</td>\n",
       "      <td>1.6</td>\n",
       "      <td>2</td>\n",
       "      <td>9.9</td>\n",
       "    </tr>\n",
       "  </tbody>\n",
       "</table>\n",
       "</div>"
      ],
      "text/plain": [
       "   Casual        Date  Hour  Member  Total_rides  relativehumidity_2m (%)  \\\n",
       "0    20.0  2021-01-01     0    26.0         46.0                       90   \n",
       "1    23.0  2021-01-01     1    23.0         46.0                       88   \n",
       "2    20.0  2021-01-01     2    28.0         48.0                       87   \n",
       "3     9.0  2021-01-01     3     7.0         16.0                       81   \n",
       "4     7.0  2021-01-01     4     5.0         12.0                       77   \n",
       "\n",
       "   temperature_2m (°C)  weathercode (wmo code)  windspeed_10m (km/h)  \n",
       "0                  2.4                       1                  10.2  \n",
       "1                  1.8                       1                  10.0  \n",
       "2                  1.1                       2                  10.1  \n",
       "3                  1.6                       2                  10.6  \n",
       "4                  1.6                       2                   9.9  "
      ]
     },
     "execution_count": 64,
     "metadata": {},
     "output_type": "execute_result"
    }
   ],
   "source": [
    "data_hourly.head()"
   ]
  },
  {
   "cell_type": "markdown",
   "id": "b1607ae0",
   "metadata": {},
   "source": [
    "# Data Cleaning"
   ]
  },
  {
   "cell_type": "code",
   "execution_count": null,
   "id": "63c81926",
   "metadata": {},
   "outputs": [],
   "source": [
    "# data_daily.Date = pd.to_datetime(data_daily.Date)\n",
    "data_daily.Date = data_daily.Date.values.astype('datetime64[D]')"
   ]
  },
  {
   "cell_type": "code",
   "execution_count": 55,
   "id": "f55f27bc",
   "metadata": {},
   "outputs": [],
   "source": [
    "rename_col = {\n",
    "    'apparent_temperature_mean (°C)':'apparent_temperature_mean',\n",
    "    'temperature_2m_mean (°C)'      :'temperature_2m_mean',\n",
    "    'weathercode (wmo code)'        :'wmo_code',\n",
    "    'windspeed_10m_max (km/h)'      :'windspeed_10m_max'\n",
    "    }\n",
    "data_daily = data_daily.rename(columns=rename_col)\n",
    "data_daily = data_daily.rename(columns=lambda x: x.lower())"
   ]
  },
  {
   "cell_type": "markdown",
   "id": "cd56983e",
   "metadata": {},
   "source": [
    "# Info, Head, Describe "
   ]
  },
  {
   "cell_type": "code",
   "execution_count": 56,
   "id": "04aafffd",
   "metadata": {},
   "outputs": [
    {
     "name": "stdout",
     "output_type": "stream",
     "text": [
      "<class 'pandas.core.frame.DataFrame'>\n",
      "RangeIndex: 1095 entries, 0 to 1094\n",
      "Data columns (total 8 columns):\n",
      " #   Column                     Non-Null Count  Dtype        \n",
      "---  ------                     --------------  -----        \n",
      " 0   casual                     1095 non-null   int64        \n",
      " 1   date                       1095 non-null   datetime64[s]\n",
      " 2   member                     1095 non-null   int64        \n",
      " 3   total_rides                1095 non-null   int64        \n",
      " 4   apparent_temperature_mean  1095 non-null   float64      \n",
      " 5   temperature_2m_mean        1095 non-null   float64      \n",
      " 6   wmo_code                   1095 non-null   int64        \n",
      " 7   windspeed_10m_max          1095 non-null   float64      \n",
      "dtypes: datetime64[s](1), float64(3), int64(4)\n",
      "memory usage: 68.6 KB\n"
     ]
    }
   ],
   "source": [
    "data_daily.info()"
   ]
  },
  {
   "cell_type": "code",
   "execution_count": 52,
   "id": "e59dfa1b",
   "metadata": {},
   "outputs": [
    {
     "data": {
      "application/vnd.microsoft.datawrangler.viewer.v0+json": {
       "columns": [
        {
         "name": "index",
         "rawType": "int64",
         "type": "integer"
        },
        {
         "name": "casual",
         "rawType": "int64",
         "type": "integer"
        },
        {
         "name": "date",
         "rawType": "datetime64[s]",
         "type": "unknown"
        },
        {
         "name": "member",
         "rawType": "int64",
         "type": "integer"
        },
        {
         "name": "total_rides",
         "rawType": "int64",
         "type": "integer"
        },
        {
         "name": "apparent_temperature_mean",
         "rawType": "float64",
         "type": "float"
        },
        {
         "name": "temperature_2m_mean",
         "rawType": "float64",
         "type": "float"
        },
        {
         "name": "wmo_code",
         "rawType": "int64",
         "type": "integer"
        },
        {
         "name": "windspeed_10m_max",
         "rawType": "float64",
         "type": "float"
        }
       ],
       "conversionMethod": "pd.DataFrame",
       "ref": "17091729-7ce3-47d6-9bea-ebe1c143fdff",
       "rows": [
        [
         "0",
         "371",
         "2021-01-01 00:00:00",
         "590",
         "961",
         "-0.9",
         "2.3",
         "63",
         "10.6"
        ],
        [
         "1",
         "2874",
         "2021-01-02 00:00:00",
         "2844",
         "5718",
         "4.8",
         "7.6",
         "61",
         "19.1"
        ],
        [
         "2",
         "495",
         "2021-01-03 00:00:00",
         "1133",
         "1628",
         "0.9",
         "3.9",
         "63",
         "13.0"
        ],
        [
         "3",
         "907",
         "2021-01-04 00:00:00",
         "2074",
         "2981",
         "1.0",
         "4.1",
         "3",
         "13.3"
        ],
        [
         "4",
         "1057",
         "2021-01-05 00:00:00",
         "2004",
         "3061",
         "1.4",
         "4.0",
         "51",
         "9.2"
        ]
       ],
       "shape": {
        "columns": 8,
        "rows": 5
       }
      },
      "text/html": [
       "<div>\n",
       "<style scoped>\n",
       "    .dataframe tbody tr th:only-of-type {\n",
       "        vertical-align: middle;\n",
       "    }\n",
       "\n",
       "    .dataframe tbody tr th {\n",
       "        vertical-align: top;\n",
       "    }\n",
       "\n",
       "    .dataframe thead th {\n",
       "        text-align: right;\n",
       "    }\n",
       "</style>\n",
       "<table border=\"1\" class=\"dataframe\">\n",
       "  <thead>\n",
       "    <tr style=\"text-align: right;\">\n",
       "      <th></th>\n",
       "      <th>casual</th>\n",
       "      <th>date</th>\n",
       "      <th>member</th>\n",
       "      <th>total_rides</th>\n",
       "      <th>apparent_temperature_mean</th>\n",
       "      <th>temperature_2m_mean</th>\n",
       "      <th>wmo_code</th>\n",
       "      <th>windspeed_10m_max</th>\n",
       "    </tr>\n",
       "  </thead>\n",
       "  <tbody>\n",
       "    <tr>\n",
       "      <th>0</th>\n",
       "      <td>371</td>\n",
       "      <td>2021-01-01</td>\n",
       "      <td>590</td>\n",
       "      <td>961</td>\n",
       "      <td>-0.9</td>\n",
       "      <td>2.3</td>\n",
       "      <td>63</td>\n",
       "      <td>10.6</td>\n",
       "    </tr>\n",
       "    <tr>\n",
       "      <th>1</th>\n",
       "      <td>2874</td>\n",
       "      <td>2021-01-02</td>\n",
       "      <td>2844</td>\n",
       "      <td>5718</td>\n",
       "      <td>4.8</td>\n",
       "      <td>7.6</td>\n",
       "      <td>61</td>\n",
       "      <td>19.1</td>\n",
       "    </tr>\n",
       "    <tr>\n",
       "      <th>2</th>\n",
       "      <td>495</td>\n",
       "      <td>2021-01-03</td>\n",
       "      <td>1133</td>\n",
       "      <td>1628</td>\n",
       "      <td>0.9</td>\n",
       "      <td>3.9</td>\n",
       "      <td>63</td>\n",
       "      <td>13.0</td>\n",
       "    </tr>\n",
       "    <tr>\n",
       "      <th>3</th>\n",
       "      <td>907</td>\n",
       "      <td>2021-01-04</td>\n",
       "      <td>2074</td>\n",
       "      <td>2981</td>\n",
       "      <td>1.0</td>\n",
       "      <td>4.1</td>\n",
       "      <td>3</td>\n",
       "      <td>13.3</td>\n",
       "    </tr>\n",
       "    <tr>\n",
       "      <th>4</th>\n",
       "      <td>1057</td>\n",
       "      <td>2021-01-05</td>\n",
       "      <td>2004</td>\n",
       "      <td>3061</td>\n",
       "      <td>1.4</td>\n",
       "      <td>4.0</td>\n",
       "      <td>51</td>\n",
       "      <td>9.2</td>\n",
       "    </tr>\n",
       "  </tbody>\n",
       "</table>\n",
       "</div>"
      ],
      "text/plain": [
       "   casual       date  member  total_rides  apparent_temperature_mean  \\\n",
       "0     371 2021-01-01     590          961                       -0.9   \n",
       "1    2874 2021-01-02    2844         5718                        4.8   \n",
       "2     495 2021-01-03    1133         1628                        0.9   \n",
       "3     907 2021-01-04    2074         2981                        1.0   \n",
       "4    1057 2021-01-05    2004         3061                        1.4   \n",
       "\n",
       "   temperature_2m_mean  wmo_code  windspeed_10m_max  \n",
       "0                  2.3        63               10.6  \n",
       "1                  7.6        61               19.1  \n",
       "2                  3.9        63               13.0  \n",
       "3                  4.1         3               13.3  \n",
       "4                  4.0        51                9.2  "
      ]
     },
     "execution_count": 52,
     "metadata": {},
     "output_type": "execute_result"
    }
   ],
   "source": [
    "data_daily.head()"
   ]
  },
  {
   "cell_type": "code",
   "execution_count": 53,
   "id": "d062d885",
   "metadata": {},
   "outputs": [
    {
     "data": {
      "application/vnd.microsoft.datawrangler.viewer.v0+json": {
       "columns": [
        {
         "name": "index",
         "rawType": "object",
         "type": "string"
        },
        {
         "name": "casual",
         "rawType": "float64",
         "type": "float"
        },
        {
         "name": "date",
         "rawType": "object",
         "type": "unknown"
        },
        {
         "name": "member",
         "rawType": "float64",
         "type": "float"
        },
        {
         "name": "total_rides",
         "rawType": "float64",
         "type": "float"
        },
        {
         "name": "apparent_temperature_mean",
         "rawType": "float64",
         "type": "float"
        },
        {
         "name": "temperature_2m_mean",
         "rawType": "float64",
         "type": "float"
        },
        {
         "name": "wmo_code",
         "rawType": "float64",
         "type": "float"
        },
        {
         "name": "windspeed_10m_max",
         "rawType": "float64",
         "type": "float"
        }
       ],
       "conversionMethod": "pd.DataFrame",
       "ref": "e918291c-7a59-4368-b185-45edc9b00cb8",
       "rows": [
        [
         "count",
         "1095.0",
         "1095",
         "1095.0",
         "1095.0",
         "1095.0",
         "1095.0",
         "1095.0",
         "1095.0"
        ],
        [
         "mean",
         "3836.7150684931507",
         "2022-07-02 00:00:00",
         "5929.4922374429225",
         "9766.207305936074",
         "12.836438356164384",
         "14.412785388127855",
         "24.39178082191781",
         "16.051050228310505"
        ],
        [
         "min",
         "174.0",
         "2021-01-01 00:00:00",
         "323.0",
         "497.0",
         "-15.2",
         "-9.1",
         "0.0",
         "5.6"
        ],
        [
         "25%",
         "2122.0",
         "2021-10-01 12:00:00",
         "4292.5",
         "6741.5",
         "2.7",
         "6.25",
         "1.0",
         "11.7"
        ],
        [
         "50%",
         "3595.0",
         "2022-07-02 00:00:00",
         "5848.0",
         "9759.0",
         "13.1",
         "14.9",
         "3.0",
         "14.7"
        ],
        [
         "75%",
         "5321.0",
         "2023-04-01 12:00:00",
         "7577.0",
         "13020.0",
         "23.4",
         "22.75",
         "53.0",
         "19.4"
        ],
        [
         "max",
         "12839.0",
         "2023-12-31 00:00:00",
         "12580.0",
         "20174.0",
         "34.7",
         "34.7",
         "75.0",
         "40.1"
        ],
        [
         "std",
         "2114.8953045215203",
         null,
         "2419.273170665071",
         "4129.630134907347",
         "11.88942027781784",
         "9.667674562603723",
         "27.774439573580956",
         "5.880357745419152"
        ]
       ],
       "shape": {
        "columns": 8,
        "rows": 8
       }
      },
      "text/html": [
       "<div>\n",
       "<style scoped>\n",
       "    .dataframe tbody tr th:only-of-type {\n",
       "        vertical-align: middle;\n",
       "    }\n",
       "\n",
       "    .dataframe tbody tr th {\n",
       "        vertical-align: top;\n",
       "    }\n",
       "\n",
       "    .dataframe thead th {\n",
       "        text-align: right;\n",
       "    }\n",
       "</style>\n",
       "<table border=\"1\" class=\"dataframe\">\n",
       "  <thead>\n",
       "    <tr style=\"text-align: right;\">\n",
       "      <th></th>\n",
       "      <th>casual</th>\n",
       "      <th>date</th>\n",
       "      <th>member</th>\n",
       "      <th>total_rides</th>\n",
       "      <th>apparent_temperature_mean</th>\n",
       "      <th>temperature_2m_mean</th>\n",
       "      <th>wmo_code</th>\n",
       "      <th>windspeed_10m_max</th>\n",
       "    </tr>\n",
       "  </thead>\n",
       "  <tbody>\n",
       "    <tr>\n",
       "      <th>count</th>\n",
       "      <td>1095.000000</td>\n",
       "      <td>1095</td>\n",
       "      <td>1095.000000</td>\n",
       "      <td>1095.000000</td>\n",
       "      <td>1095.000000</td>\n",
       "      <td>1095.000000</td>\n",
       "      <td>1095.000000</td>\n",
       "      <td>1095.000000</td>\n",
       "    </tr>\n",
       "    <tr>\n",
       "      <th>mean</th>\n",
       "      <td>3836.715068</td>\n",
       "      <td>2022-07-02 00:00:00</td>\n",
       "      <td>5929.492237</td>\n",
       "      <td>9766.207306</td>\n",
       "      <td>12.836438</td>\n",
       "      <td>14.412785</td>\n",
       "      <td>24.391781</td>\n",
       "      <td>16.051050</td>\n",
       "    </tr>\n",
       "    <tr>\n",
       "      <th>min</th>\n",
       "      <td>174.000000</td>\n",
       "      <td>2021-01-01 00:00:00</td>\n",
       "      <td>323.000000</td>\n",
       "      <td>497.000000</td>\n",
       "      <td>-15.200000</td>\n",
       "      <td>-9.100000</td>\n",
       "      <td>0.000000</td>\n",
       "      <td>5.600000</td>\n",
       "    </tr>\n",
       "    <tr>\n",
       "      <th>25%</th>\n",
       "      <td>2122.000000</td>\n",
       "      <td>2021-10-01 12:00:00</td>\n",
       "      <td>4292.500000</td>\n",
       "      <td>6741.500000</td>\n",
       "      <td>2.700000</td>\n",
       "      <td>6.250000</td>\n",
       "      <td>1.000000</td>\n",
       "      <td>11.700000</td>\n",
       "    </tr>\n",
       "    <tr>\n",
       "      <th>50%</th>\n",
       "      <td>3595.000000</td>\n",
       "      <td>2022-07-02 00:00:00</td>\n",
       "      <td>5848.000000</td>\n",
       "      <td>9759.000000</td>\n",
       "      <td>13.100000</td>\n",
       "      <td>14.900000</td>\n",
       "      <td>3.000000</td>\n",
       "      <td>14.700000</td>\n",
       "    </tr>\n",
       "    <tr>\n",
       "      <th>75%</th>\n",
       "      <td>5321.000000</td>\n",
       "      <td>2023-04-01 12:00:00</td>\n",
       "      <td>7577.000000</td>\n",
       "      <td>13020.000000</td>\n",
       "      <td>23.400000</td>\n",
       "      <td>22.750000</td>\n",
       "      <td>53.000000</td>\n",
       "      <td>19.400000</td>\n",
       "    </tr>\n",
       "    <tr>\n",
       "      <th>max</th>\n",
       "      <td>12839.000000</td>\n",
       "      <td>2023-12-31 00:00:00</td>\n",
       "      <td>12580.000000</td>\n",
       "      <td>20174.000000</td>\n",
       "      <td>34.700000</td>\n",
       "      <td>34.700000</td>\n",
       "      <td>75.000000</td>\n",
       "      <td>40.100000</td>\n",
       "    </tr>\n",
       "    <tr>\n",
       "      <th>std</th>\n",
       "      <td>2114.895305</td>\n",
       "      <td>NaN</td>\n",
       "      <td>2419.273171</td>\n",
       "      <td>4129.630135</td>\n",
       "      <td>11.889420</td>\n",
       "      <td>9.667675</td>\n",
       "      <td>27.774440</td>\n",
       "      <td>5.880358</td>\n",
       "    </tr>\n",
       "  </tbody>\n",
       "</table>\n",
       "</div>"
      ],
      "text/plain": [
       "             casual                 date        member   total_rides  \\\n",
       "count   1095.000000                 1095   1095.000000   1095.000000   \n",
       "mean    3836.715068  2022-07-02 00:00:00   5929.492237   9766.207306   \n",
       "min      174.000000  2021-01-01 00:00:00    323.000000    497.000000   \n",
       "25%     2122.000000  2021-10-01 12:00:00   4292.500000   6741.500000   \n",
       "50%     3595.000000  2022-07-02 00:00:00   5848.000000   9759.000000   \n",
       "75%     5321.000000  2023-04-01 12:00:00   7577.000000  13020.000000   \n",
       "max    12839.000000  2023-12-31 00:00:00  12580.000000  20174.000000   \n",
       "std     2114.895305                  NaN   2419.273171   4129.630135   \n",
       "\n",
       "       apparent_temperature_mean  temperature_2m_mean     wmo_code  \\\n",
       "count                1095.000000          1095.000000  1095.000000   \n",
       "mean                   12.836438            14.412785    24.391781   \n",
       "min                   -15.200000            -9.100000     0.000000   \n",
       "25%                     2.700000             6.250000     1.000000   \n",
       "50%                    13.100000            14.900000     3.000000   \n",
       "75%                    23.400000            22.750000    53.000000   \n",
       "max                    34.700000            34.700000    75.000000   \n",
       "std                    11.889420             9.667675    27.774440   \n",
       "\n",
       "       windspeed_10m_max  \n",
       "count        1095.000000  \n",
       "mean           16.051050  \n",
       "min             5.600000  \n",
       "25%            11.700000  \n",
       "50%            14.700000  \n",
       "75%            19.400000  \n",
       "max            40.100000  \n",
       "std             5.880358  "
      ]
     },
     "execution_count": 53,
     "metadata": {},
     "output_type": "execute_result"
    }
   ],
   "source": [
    "data_daily.describe()"
   ]
  },
  {
   "cell_type": "markdown",
   "id": "5e83b5c4",
   "metadata": {},
   "source": [
    "# Export / Variable sharing"
   ]
  },
  {
   "cell_type": "code",
   "execution_count": 57,
   "id": "1e6dd192",
   "metadata": {},
   "outputs": [
    {
     "name": "stdout",
     "output_type": "stream",
     "text": [
      "Stored 'data_daily' (DataFrame)\n"
     ]
    }
   ],
   "source": [
    "%store data_daily"
   ]
  },
  {
   "cell_type": "code",
   "execution_count": 58,
   "id": "3fd5d9a0",
   "metadata": {},
   "outputs": [],
   "source": [
    "data_daily.to_parquet('../data/processed/CBS_2021-2023_Daily_Weather.parquet')"
   ]
  },
  {
   "cell_type": "code",
   "execution_count": null,
   "id": "e64774bd",
   "metadata": {},
   "outputs": [],
   "source": []
  }
 ],
 "metadata": {
  "kernelspec": {
   "display_name": "base_data_analysis",
   "language": "python",
   "name": "python3"
  },
  "language_info": {
   "codemirror_mode": {
    "name": "ipython",
    "version": 3
   },
   "file_extension": ".py",
   "mimetype": "text/x-python",
   "name": "python",
   "nbconvert_exporter": "python",
   "pygments_lexer": "ipython3",
   "version": "3.12.3"
  }
 },
 "nbformat": 4,
 "nbformat_minor": 5
}
