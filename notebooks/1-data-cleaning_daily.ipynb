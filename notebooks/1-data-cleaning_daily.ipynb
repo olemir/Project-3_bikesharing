{
 "cells": [
  {
   "cell_type": "markdown",
   "id": "41821407",
   "metadata": {},
   "source": [
    "# Data Cleaning"
   ]
  },
  {
   "cell_type": "code",
   "execution_count": 21,
   "id": "24808c92",
   "metadata": {},
   "outputs": [],
   "source": [
    "import yaml\n",
    "\n",
    "import pandas as pd"
   ]
  },
  {
   "cell_type": "code",
   "execution_count": 38,
   "id": "9a36299e",
   "metadata": {},
   "outputs": [
    {
     "data": {
      "text/plain": [
       "{'raw_data_paths': {'daily': '../data/raw/CBS_2021-2023_Daily_Weather.csv',\n",
       "  'hourly': '../data/raw/CBS_2021-2023_Hourly_Weather.csv',\n",
       "  'full': '../data/raw/CBS_2021-2023_Full.csv',\n",
       "  'wmo_codes': '../data/raw/WMO2011h.csv'},\n",
       " 'processed_data_paths': {'daily': '../data/processed/daily_data.parquet',\n",
       "  'hourly': '../data/processed/hourly_data.parquet'}}"
      ]
     },
     "execution_count": 38,
     "metadata": {},
     "output_type": "execute_result"
    }
   ],
   "source": [
    "with open(\"../config/config.yaml\", \"r\") as file:\n",
    "    config = yaml.safe_load(file)\n",
    "config"
   ]
  },
  {
   "cell_type": "markdown",
   "id": "6008461f",
   "metadata": {},
   "source": [
    "# Load"
   ]
  },
  {
   "cell_type": "code",
   "execution_count": 39,
   "id": "c933db29",
   "metadata": {},
   "outputs": [],
   "source": [
    "data_daily  = pd.read_csv(config['raw_data_paths']['daily'])"
   ]
  },
  {
   "cell_type": "code",
   "execution_count": 40,
   "id": "9e19b469",
   "metadata": {},
   "outputs": [
    {
     "name": "stderr",
     "output_type": "stream",
     "text": [
      "C:\\Users\\olive\\AppData\\Local\\Temp\\ipykernel_10512\\1895932221.py:3: ParserWarning: Skipping line 9: expected 2 fields, saw 3\n",
      "Skipping line 25: expected 2 fields, saw 3\n",
      "Skipping line 26: expected 2 fields, saw 3\n",
      "\n",
      "  weathercodes = pd.read_csv(config['raw_data_paths']['wmo_codes'], sep=';', quotechar='\"', quoting=csv.QUOTE_NONNUMERIC, on_bad_lines='warn')\n"
     ]
    },
    {
     "data": {
      "application/vnd.microsoft.datawrangler.viewer.v0+json": {
       "columns": [
        {
         "name": "index",
         "rawType": "int64",
         "type": "integer"
        },
        {
         "name": "WMO Code",
         "rawType": "float64",
         "type": "float"
        },
        {
         "name": " Description",
         "rawType": "object",
         "type": "string"
        }
       ],
       "conversionMethod": "pd.DataFrame",
       "ref": "d132d5b0-e068-48e8-94f7-6ece0d2964ce",
       "rows": [
        [
         "0",
         "0.0",
         " \"Cloud development not observed or not observable\""
        ],
        [
         "1",
         "1.0",
         " \"Cloud generally dissolving or becoming less developed\""
        ],
        [
         "2",
         "2.0",
         " \"State of sky on the whole unchanged\""
        ],
        [
         "3",
         "3.0",
         " \"Clouds generally forming or developing\""
        ],
        [
         "4",
         "4.0",
         " \"Visibility reduced by smoke, e.g. veldt or forest fires, industrial smoke or volcanic ashes\""
        ],
        [
         "5",
         "5.0",
         " \"Haze\""
        ],
        [
         "6",
         "6.0",
         " \"Widespread dust in suspension in the air, not raised by wind at or near the station at the time of observation\""
        ],
        [
         "7",
         "8.0",
         " \"Well-developed dust or sand whirl(s) seen at or near the station during the preceding hour or at the time of observation, but no dust storm or sandstorm\""
        ],
        [
         "8",
         "9.0",
         " \"Duststorm or sandstorm within sight at the time of observation, or at the station during the preceding hour\""
        ],
        [
         "9",
         "10.0",
         " \"Mist\""
        ],
        [
         "10",
         "11.0",
         " \"Patches of shallow fog or ice fog at the station, whether on land or sea not deeper than about 2 metres on land or 10 metres at sea\""
        ],
        [
         "11",
         "12.0",
         " \"More or less continuous shallow fog or ice fog at the station, whether on land or sea, not deeper than about 2m/land or 10m/sea\""
        ],
        [
         "12",
         "13.0",
         " \"Lightning visible, or thunder heard\""
        ],
        [
         "13",
         "14.0",
         " \"Precipitation within sight, not reaching the ground or the surface of the sea\""
        ],
        [
         "14",
         "15.0",
         " \"Precipitation within sight, reaching the ground or the surface of the sea, but distant, i.e. > 5 km from the station\""
        ],
        [
         "15",
         "16.0",
         " \"Precipitation within sight, reaching the ground or the surface of the sea, near to, but not at the station\""
        ],
        [
         "16",
         "17.0",
         " \"Thunderstorm, but no precipitation at the time of observation\""
        ],
        [
         "17",
         "18.0",
         " \"Squalls at or within sight of the station during the preceding hour or at the time of observation\""
        ],
        [
         "18",
         "19.0",
         " \"Funnel clouds at or within sight of the station during the preceding hour or at the time of observation\""
        ],
        [
         "19",
         "20.0",
         " \"Drizzle (not freezing) or snow grains, not falling as showers, during the preceding hour but not at the time of observation\""
        ],
        [
         "20",
         "21.0",
         " \"Rain (not freezing), not falling as showers, during the preceding hour but not at the time of observation\""
        ],
        [
         "21",
         "22.0",
         " \"Snow, not falling as showers, during the preceding hour but not at the time of observation\""
        ],
        [
         "22",
         "25.0",
         " \"Shower(s) of rain during the preceding hour but not at the time of observation\""
        ],
        [
         "23",
         "26.0",
         " \"Shower(s) of snow, or of rain and snow during the preceding hour but not atthe time of observation\""
        ],
        [
         "24",
         "27.0",
         " \"Shower(s) of hail, or of rain and hail during the preceding hour but not at the time of observation\""
        ],
        [
         "25",
         "28.0",
         " \"Fog or ice fog during the preceding hour but not at the time of observation\""
        ],
        [
         "26",
         "29.0",
         " \"Thunderstorm (with or without precipitation) during the preceding hour but not at the time of observation\""
        ],
        [
         "27",
         "30.0",
         " \"Slight or moderate duststorm or sandstorm - has decreased during the preceding hour\""
        ],
        [
         "28",
         "31.0",
         " \"Slight or moderate duststorm or sandstorm - no appreciable change during the preceding hour\""
        ],
        [
         "29",
         "32.0",
         " \"Slight or moderate duststorm or sandstorm - has begun or has increased during the preceding hour\""
        ],
        [
         "30",
         "33.0",
         " \"Severe duststorm or sandstorm - has decreased during the preceding hour\""
        ],
        [
         "31",
         "34.0",
         " \"Severe duststorm or sandstorm - no appreciable change during the preceding hour\""
        ],
        [
         "32",
         "35.0",
         " \"Severe duststorm or sandstorm - has begun or has increased during the preceding hour\""
        ],
        [
         "33",
         "36.0",
         " \"Slight/moderate drifting snow - generally low (below eye level)\""
        ],
        [
         "34",
         "37.0",
         " \"Heavy drifting snow - generally low (below eye level)\""
        ],
        [
         "35",
         "38.0",
         " \"Slight/moderate blowing snow - generally high (above eye level)\""
        ],
        [
         "36",
         "39.0",
         " \"Heavy blowing snow - generally high (above eye level)\""
        ],
        [
         "37",
         "40.0",
         " \"Fog or ice fog at a a distance at the time of observation, but not at station during the preceding hour, the fog or ice fog extending to a level above that of the observer\""
        ],
        [
         "38",
         "41.0",
         " \"Fog or ice fog in patches\""
        ],
        [
         "39",
         "42.0",
         " \"Fog/ice fog, sky visible, has become thinner during the preceding hour\""
        ],
        [
         "40",
         "43.0",
         " \"Fog/ice fog, sky invisible, has become thinner during the preceding hour\""
        ],
        [
         "41",
         "44.0",
         " \"Fog or ice fog, sky visible, no appreciable change during the past hour\""
        ],
        [
         "42",
         "45.0",
         " \"Fog or ice fog, sky invisible, no appreciable change during the preceding hour\""
        ],
        [
         "43",
         "46.0",
         " \"Fog or ice fog, sky visible, has begun or has become thicker during preceding hour\""
        ],
        [
         "44",
         "47.0",
         " \"Fog or ice fog, sky invisible, has begun or has become thicker during the preceding hour\""
        ],
        [
         "45",
         "48.0",
         " \"Fog, depositing rime, sky visible\""
        ],
        [
         "46",
         "49.0",
         " \"Fog, depositing rime, sky invisible\""
        ],
        [
         "47",
         "50.0",
         " \"Drizzle, not freezing, intermittent, slight at time of ob.\""
        ],
        [
         "48",
         "51.0",
         " \"Drizzle, not freezing, continuous, slight at time of ob.\""
        ],
        [
         "49",
         "52.0",
         " \"Drizzle, not freezing, intermittent, moderate at time of ob.\""
        ]
       ],
       "shape": {
        "columns": 2,
        "rows": 96
       }
      },
      "text/html": [
       "<div>\n",
       "<style scoped>\n",
       "    .dataframe tbody tr th:only-of-type {\n",
       "        vertical-align: middle;\n",
       "    }\n",
       "\n",
       "    .dataframe tbody tr th {\n",
       "        vertical-align: top;\n",
       "    }\n",
       "\n",
       "    .dataframe thead th {\n",
       "        text-align: right;\n",
       "    }\n",
       "</style>\n",
       "<table border=\"1\" class=\"dataframe\">\n",
       "  <thead>\n",
       "    <tr style=\"text-align: right;\">\n",
       "      <th></th>\n",
       "      <th>WMO Code</th>\n",
       "      <th>Description</th>\n",
       "    </tr>\n",
       "  </thead>\n",
       "  <tbody>\n",
       "    <tr>\n",
       "      <th>0</th>\n",
       "      <td>0.0</td>\n",
       "      <td>\"Cloud development not observed or not observ...</td>\n",
       "    </tr>\n",
       "    <tr>\n",
       "      <th>1</th>\n",
       "      <td>1.0</td>\n",
       "      <td>\"Cloud generally dissolving or becoming less ...</td>\n",
       "    </tr>\n",
       "    <tr>\n",
       "      <th>2</th>\n",
       "      <td>2.0</td>\n",
       "      <td>\"State of sky on the whole unchanged\"</td>\n",
       "    </tr>\n",
       "    <tr>\n",
       "      <th>3</th>\n",
       "      <td>3.0</td>\n",
       "      <td>\"Clouds generally forming or developing\"</td>\n",
       "    </tr>\n",
       "    <tr>\n",
       "      <th>4</th>\n",
       "      <td>4.0</td>\n",
       "      <td>\"Visibility reduced by smoke, e.g. veldt or f...</td>\n",
       "    </tr>\n",
       "    <tr>\n",
       "      <th>...</th>\n",
       "      <td>...</td>\n",
       "      <td>...</td>\n",
       "    </tr>\n",
       "    <tr>\n",
       "      <th>91</th>\n",
       "      <td>95.0</td>\n",
       "      <td>\"Thunderstorm, slight or moderate, without ha...</td>\n",
       "    </tr>\n",
       "    <tr>\n",
       "      <th>92</th>\n",
       "      <td>96.0</td>\n",
       "      <td>\"Thunderstorm, slight or moderate, with hail ...</td>\n",
       "    </tr>\n",
       "    <tr>\n",
       "      <th>93</th>\n",
       "      <td>97.0</td>\n",
       "      <td>\"Thunderstorm, heavy, without hail, but with ...</td>\n",
       "    </tr>\n",
       "    <tr>\n",
       "      <th>94</th>\n",
       "      <td>98.0</td>\n",
       "      <td>\"Thunderstorm combined with dust/sandstorm at...</td>\n",
       "    </tr>\n",
       "    <tr>\n",
       "      <th>95</th>\n",
       "      <td>99.0</td>\n",
       "      <td>\"Thunderstorm, heavy with hail at time of obs...</td>\n",
       "    </tr>\n",
       "  </tbody>\n",
       "</table>\n",
       "<p>96 rows × 2 columns</p>\n",
       "</div>"
      ],
      "text/plain": [
       "    WMO Code                                        Description\n",
       "0        0.0   \"Cloud development not observed or not observ...\n",
       "1        1.0   \"Cloud generally dissolving or becoming less ...\n",
       "2        2.0              \"State of sky on the whole unchanged\"\n",
       "3        3.0           \"Clouds generally forming or developing\"\n",
       "4        4.0   \"Visibility reduced by smoke, e.g. veldt or f...\n",
       "..       ...                                                ...\n",
       "91      95.0   \"Thunderstorm, slight or moderate, without ha...\n",
       "92      96.0   \"Thunderstorm, slight or moderate, with hail ...\n",
       "93      97.0   \"Thunderstorm, heavy, without hail, but with ...\n",
       "94      98.0   \"Thunderstorm combined with dust/sandstorm at...\n",
       "95      99.0   \"Thunderstorm, heavy with hail at time of obs...\n",
       "\n",
       "[96 rows x 2 columns]"
      ]
     },
     "execution_count": 40,
     "metadata": {},
     "output_type": "execute_result"
    }
   ],
   "source": [
    "import csv\n",
    "\n",
    "weathercodes = pd.read_csv(config['raw_data_paths']['wmo_codes'], sep=';', quotechar='\"', quoting=csv.QUOTE_NONNUMERIC, on_bad_lines='warn')\n",
    "weathercodes"
   ]
  },
  {
   "cell_type": "code",
   "execution_count": 25,
   "id": "101fb8bb",
   "metadata": {},
   "outputs": [
    {
     "data": {
      "application/vnd.microsoft.datawrangler.viewer.v0+json": {
       "columns": [
        {
         "name": "index",
         "rawType": "int64",
         "type": "integer"
        },
        {
         "name": "Casual",
         "rawType": "int64",
         "type": "integer"
        },
        {
         "name": "Date",
         "rawType": "object",
         "type": "string"
        },
        {
         "name": "Member",
         "rawType": "int64",
         "type": "integer"
        },
        {
         "name": "Total_rides",
         "rawType": "int64",
         "type": "integer"
        },
        {
         "name": "apparent_temperature_mean (°C)",
         "rawType": "float64",
         "type": "float"
        },
        {
         "name": "temperature_2m_mean (°C)",
         "rawType": "float64",
         "type": "float"
        },
        {
         "name": "weathercode (wmo code)",
         "rawType": "int64",
         "type": "integer"
        },
        {
         "name": "windspeed_10m_max (km/h)",
         "rawType": "float64",
         "type": "float"
        }
       ],
       "conversionMethod": "pd.DataFrame",
       "ref": "2d42e199-1f54-47fd-a76f-50b95761fcde",
       "rows": [
        [
         "0",
         "371",
         "2021-01-01",
         "590",
         "961",
         "-0.9",
         "2.3",
         "63",
         "10.6"
        ],
        [
         "1",
         "2874",
         "2021-01-02",
         "2844",
         "5718",
         "4.8",
         "7.6",
         "61",
         "19.1"
        ],
        [
         "2",
         "495",
         "2021-01-03",
         "1133",
         "1628",
         "0.9",
         "3.9",
         "63",
         "13.0"
        ],
        [
         "3",
         "907",
         "2021-01-04",
         "2074",
         "2981",
         "1.0",
         "4.1",
         "3",
         "13.3"
        ],
        [
         "4",
         "1057",
         "2021-01-05",
         "2004",
         "3061",
         "1.4",
         "4.0",
         "51",
         "9.2"
        ]
       ],
       "shape": {
        "columns": 8,
        "rows": 5
       }
      },
      "text/html": [
       "<div>\n",
       "<style scoped>\n",
       "    .dataframe tbody tr th:only-of-type {\n",
       "        vertical-align: middle;\n",
       "    }\n",
       "\n",
       "    .dataframe tbody tr th {\n",
       "        vertical-align: top;\n",
       "    }\n",
       "\n",
       "    .dataframe thead th {\n",
       "        text-align: right;\n",
       "    }\n",
       "</style>\n",
       "<table border=\"1\" class=\"dataframe\">\n",
       "  <thead>\n",
       "    <tr style=\"text-align: right;\">\n",
       "      <th></th>\n",
       "      <th>Casual</th>\n",
       "      <th>Date</th>\n",
       "      <th>Member</th>\n",
       "      <th>Total_rides</th>\n",
       "      <th>apparent_temperature_mean (°C)</th>\n",
       "      <th>temperature_2m_mean (°C)</th>\n",
       "      <th>weathercode (wmo code)</th>\n",
       "      <th>windspeed_10m_max (km/h)</th>\n",
       "    </tr>\n",
       "  </thead>\n",
       "  <tbody>\n",
       "    <tr>\n",
       "      <th>0</th>\n",
       "      <td>371</td>\n",
       "      <td>2021-01-01</td>\n",
       "      <td>590</td>\n",
       "      <td>961</td>\n",
       "      <td>-0.9</td>\n",
       "      <td>2.3</td>\n",
       "      <td>63</td>\n",
       "      <td>10.6</td>\n",
       "    </tr>\n",
       "    <tr>\n",
       "      <th>1</th>\n",
       "      <td>2874</td>\n",
       "      <td>2021-01-02</td>\n",
       "      <td>2844</td>\n",
       "      <td>5718</td>\n",
       "      <td>4.8</td>\n",
       "      <td>7.6</td>\n",
       "      <td>61</td>\n",
       "      <td>19.1</td>\n",
       "    </tr>\n",
       "    <tr>\n",
       "      <th>2</th>\n",
       "      <td>495</td>\n",
       "      <td>2021-01-03</td>\n",
       "      <td>1133</td>\n",
       "      <td>1628</td>\n",
       "      <td>0.9</td>\n",
       "      <td>3.9</td>\n",
       "      <td>63</td>\n",
       "      <td>13.0</td>\n",
       "    </tr>\n",
       "    <tr>\n",
       "      <th>3</th>\n",
       "      <td>907</td>\n",
       "      <td>2021-01-04</td>\n",
       "      <td>2074</td>\n",
       "      <td>2981</td>\n",
       "      <td>1.0</td>\n",
       "      <td>4.1</td>\n",
       "      <td>3</td>\n",
       "      <td>13.3</td>\n",
       "    </tr>\n",
       "    <tr>\n",
       "      <th>4</th>\n",
       "      <td>1057</td>\n",
       "      <td>2021-01-05</td>\n",
       "      <td>2004</td>\n",
       "      <td>3061</td>\n",
       "      <td>1.4</td>\n",
       "      <td>4.0</td>\n",
       "      <td>51</td>\n",
       "      <td>9.2</td>\n",
       "    </tr>\n",
       "  </tbody>\n",
       "</table>\n",
       "</div>"
      ],
      "text/plain": [
       "   Casual        Date  Member  Total_rides  apparent_temperature_mean (°C)  \\\n",
       "0     371  2021-01-01     590          961                            -0.9   \n",
       "1    2874  2021-01-02    2844         5718                             4.8   \n",
       "2     495  2021-01-03    1133         1628                             0.9   \n",
       "3     907  2021-01-04    2074         2981                             1.0   \n",
       "4    1057  2021-01-05    2004         3061                             1.4   \n",
       "\n",
       "   temperature_2m_mean (°C)  weathercode (wmo code)  windspeed_10m_max (km/h)  \n",
       "0                       2.3                      63                      10.6  \n",
       "1                       7.6                      61                      19.1  \n",
       "2                       3.9                      63                      13.0  \n",
       "3                       4.1                       3                      13.3  \n",
       "4                       4.0                      51                       9.2  "
      ]
     },
     "execution_count": 25,
     "metadata": {},
     "output_type": "execute_result"
    }
   ],
   "source": [
    "data_daily .head()"
   ]
  },
  {
   "cell_type": "markdown",
   "id": "b1607ae0",
   "metadata": {},
   "source": [
    "# Data Cleaning"
   ]
  },
  {
   "cell_type": "code",
   "execution_count": 26,
   "id": "63c81926",
   "metadata": {},
   "outputs": [],
   "source": [
    "# data_daily.Date = pd.to_datetime(data_daily.Date)\n",
    "data_daily.Date = data_daily.Date.values.astype('datetime64[D]')"
   ]
  },
  {
   "cell_type": "code",
   "execution_count": 27,
   "id": "f55f27bc",
   "metadata": {},
   "outputs": [],
   "source": [
    "rename_col = {\n",
    "    'apparent_temperature_mean (°C)':'apparent_temperature_mean',\n",
    "    'temperature_2m_mean (°C)'      :'temperature_2m_mean',\n",
    "    'weathercode (wmo code)'        :'wmo_code',\n",
    "    'windspeed_10m_max (km/h)'      :'windspeed_10m_max'\n",
    "    }\n",
    "data_daily = data_daily.rename(columns=rename_col)\n",
    "data_daily = data_daily.rename(columns=lambda x: x.lower())"
   ]
  },
  {
   "cell_type": "markdown",
   "id": "cd56983e",
   "metadata": {},
   "source": [
    "# Info, Head, Describe "
   ]
  },
  {
   "cell_type": "code",
   "execution_count": 28,
   "id": "04aafffd",
   "metadata": {},
   "outputs": [
    {
     "name": "stdout",
     "output_type": "stream",
     "text": [
      "<class 'pandas.core.frame.DataFrame'>\n",
      "RangeIndex: 1095 entries, 0 to 1094\n",
      "Data columns (total 8 columns):\n",
      " #   Column                     Non-Null Count  Dtype        \n",
      "---  ------                     --------------  -----        \n",
      " 0   casual                     1095 non-null   int64        \n",
      " 1   date                       1095 non-null   datetime64[s]\n",
      " 2   member                     1095 non-null   int64        \n",
      " 3   total_rides                1095 non-null   int64        \n",
      " 4   apparent_temperature_mean  1095 non-null   float64      \n",
      " 5   temperature_2m_mean        1095 non-null   float64      \n",
      " 6   wmo_code                   1095 non-null   int64        \n",
      " 7   windspeed_10m_max          1095 non-null   float64      \n",
      "dtypes: datetime64[s](1), float64(3), int64(4)\n",
      "memory usage: 68.6 KB\n"
     ]
    }
   ],
   "source": [
    "data_daily.info()"
   ]
  },
  {
   "cell_type": "code",
   "execution_count": 29,
   "id": "e59dfa1b",
   "metadata": {},
   "outputs": [
    {
     "data": {
      "application/vnd.microsoft.datawrangler.viewer.v0+json": {
       "columns": [
        {
         "name": "index",
         "rawType": "int64",
         "type": "integer"
        },
        {
         "name": "casual",
         "rawType": "int64",
         "type": "integer"
        },
        {
         "name": "date",
         "rawType": "datetime64[s]",
         "type": "unknown"
        },
        {
         "name": "member",
         "rawType": "int64",
         "type": "integer"
        },
        {
         "name": "total_rides",
         "rawType": "int64",
         "type": "integer"
        },
        {
         "name": "apparent_temperature_mean",
         "rawType": "float64",
         "type": "float"
        },
        {
         "name": "temperature_2m_mean",
         "rawType": "float64",
         "type": "float"
        },
        {
         "name": "wmo_code",
         "rawType": "int64",
         "type": "integer"
        },
        {
         "name": "windspeed_10m_max",
         "rawType": "float64",
         "type": "float"
        }
       ],
       "conversionMethod": "pd.DataFrame",
       "ref": "7b7467db-7cda-43da-a128-332f5075004c",
       "rows": [
        [
         "0",
         "371",
         "2021-01-01 00:00:00",
         "590",
         "961",
         "-0.9",
         "2.3",
         "63",
         "10.6"
        ],
        [
         "1",
         "2874",
         "2021-01-02 00:00:00",
         "2844",
         "5718",
         "4.8",
         "7.6",
         "61",
         "19.1"
        ],
        [
         "2",
         "495",
         "2021-01-03 00:00:00",
         "1133",
         "1628",
         "0.9",
         "3.9",
         "63",
         "13.0"
        ],
        [
         "3",
         "907",
         "2021-01-04 00:00:00",
         "2074",
         "2981",
         "1.0",
         "4.1",
         "3",
         "13.3"
        ],
        [
         "4",
         "1057",
         "2021-01-05 00:00:00",
         "2004",
         "3061",
         "1.4",
         "4.0",
         "51",
         "9.2"
        ]
       ],
       "shape": {
        "columns": 8,
        "rows": 5
       }
      },
      "text/html": [
       "<div>\n",
       "<style scoped>\n",
       "    .dataframe tbody tr th:only-of-type {\n",
       "        vertical-align: middle;\n",
       "    }\n",
       "\n",
       "    .dataframe tbody tr th {\n",
       "        vertical-align: top;\n",
       "    }\n",
       "\n",
       "    .dataframe thead th {\n",
       "        text-align: right;\n",
       "    }\n",
       "</style>\n",
       "<table border=\"1\" class=\"dataframe\">\n",
       "  <thead>\n",
       "    <tr style=\"text-align: right;\">\n",
       "      <th></th>\n",
       "      <th>casual</th>\n",
       "      <th>date</th>\n",
       "      <th>member</th>\n",
       "      <th>total_rides</th>\n",
       "      <th>apparent_temperature_mean</th>\n",
       "      <th>temperature_2m_mean</th>\n",
       "      <th>wmo_code</th>\n",
       "      <th>windspeed_10m_max</th>\n",
       "    </tr>\n",
       "  </thead>\n",
       "  <tbody>\n",
       "    <tr>\n",
       "      <th>0</th>\n",
       "      <td>371</td>\n",
       "      <td>2021-01-01</td>\n",
       "      <td>590</td>\n",
       "      <td>961</td>\n",
       "      <td>-0.9</td>\n",
       "      <td>2.3</td>\n",
       "      <td>63</td>\n",
       "      <td>10.6</td>\n",
       "    </tr>\n",
       "    <tr>\n",
       "      <th>1</th>\n",
       "      <td>2874</td>\n",
       "      <td>2021-01-02</td>\n",
       "      <td>2844</td>\n",
       "      <td>5718</td>\n",
       "      <td>4.8</td>\n",
       "      <td>7.6</td>\n",
       "      <td>61</td>\n",
       "      <td>19.1</td>\n",
       "    </tr>\n",
       "    <tr>\n",
       "      <th>2</th>\n",
       "      <td>495</td>\n",
       "      <td>2021-01-03</td>\n",
       "      <td>1133</td>\n",
       "      <td>1628</td>\n",
       "      <td>0.9</td>\n",
       "      <td>3.9</td>\n",
       "      <td>63</td>\n",
       "      <td>13.0</td>\n",
       "    </tr>\n",
       "    <tr>\n",
       "      <th>3</th>\n",
       "      <td>907</td>\n",
       "      <td>2021-01-04</td>\n",
       "      <td>2074</td>\n",
       "      <td>2981</td>\n",
       "      <td>1.0</td>\n",
       "      <td>4.1</td>\n",
       "      <td>3</td>\n",
       "      <td>13.3</td>\n",
       "    </tr>\n",
       "    <tr>\n",
       "      <th>4</th>\n",
       "      <td>1057</td>\n",
       "      <td>2021-01-05</td>\n",
       "      <td>2004</td>\n",
       "      <td>3061</td>\n",
       "      <td>1.4</td>\n",
       "      <td>4.0</td>\n",
       "      <td>51</td>\n",
       "      <td>9.2</td>\n",
       "    </tr>\n",
       "  </tbody>\n",
       "</table>\n",
       "</div>"
      ],
      "text/plain": [
       "   casual       date  member  total_rides  apparent_temperature_mean  \\\n",
       "0     371 2021-01-01     590          961                       -0.9   \n",
       "1    2874 2021-01-02    2844         5718                        4.8   \n",
       "2     495 2021-01-03    1133         1628                        0.9   \n",
       "3     907 2021-01-04    2074         2981                        1.0   \n",
       "4    1057 2021-01-05    2004         3061                        1.4   \n",
       "\n",
       "   temperature_2m_mean  wmo_code  windspeed_10m_max  \n",
       "0                  2.3        63               10.6  \n",
       "1                  7.6        61               19.1  \n",
       "2                  3.9        63               13.0  \n",
       "3                  4.1         3               13.3  \n",
       "4                  4.0        51                9.2  "
      ]
     },
     "execution_count": 29,
     "metadata": {},
     "output_type": "execute_result"
    }
   ],
   "source": [
    "data_daily.head()"
   ]
  },
  {
   "cell_type": "code",
   "execution_count": 30,
   "id": "d062d885",
   "metadata": {},
   "outputs": [
    {
     "data": {
      "application/vnd.microsoft.datawrangler.viewer.v0+json": {
       "columns": [
        {
         "name": "index",
         "rawType": "object",
         "type": "string"
        },
        {
         "name": "casual",
         "rawType": "float64",
         "type": "float"
        },
        {
         "name": "date",
         "rawType": "object",
         "type": "unknown"
        },
        {
         "name": "member",
         "rawType": "float64",
         "type": "float"
        },
        {
         "name": "total_rides",
         "rawType": "float64",
         "type": "float"
        },
        {
         "name": "apparent_temperature_mean",
         "rawType": "float64",
         "type": "float"
        },
        {
         "name": "temperature_2m_mean",
         "rawType": "float64",
         "type": "float"
        },
        {
         "name": "wmo_code",
         "rawType": "float64",
         "type": "float"
        },
        {
         "name": "windspeed_10m_max",
         "rawType": "float64",
         "type": "float"
        }
       ],
       "conversionMethod": "pd.DataFrame",
       "ref": "5f051d72-9b4d-407e-a8f8-892cf5d92f77",
       "rows": [
        [
         "count",
         "1095.0",
         "1095",
         "1095.0",
         "1095.0",
         "1095.0",
         "1095.0",
         "1095.0",
         "1095.0"
        ],
        [
         "mean",
         "3836.7150684931507",
         "2022-07-02 00:00:00",
         "5929.4922374429225",
         "9766.207305936074",
         "12.836438356164384",
         "14.412785388127855",
         "24.39178082191781",
         "16.051050228310505"
        ],
        [
         "min",
         "174.0",
         "2021-01-01 00:00:00",
         "323.0",
         "497.0",
         "-15.2",
         "-9.1",
         "0.0",
         "5.6"
        ],
        [
         "25%",
         "2122.0",
         "2021-10-01 12:00:00",
         "4292.5",
         "6741.5",
         "2.7",
         "6.25",
         "1.0",
         "11.7"
        ],
        [
         "50%",
         "3595.0",
         "2022-07-02 00:00:00",
         "5848.0",
         "9759.0",
         "13.1",
         "14.9",
         "3.0",
         "14.7"
        ],
        [
         "75%",
         "5321.0",
         "2023-04-01 12:00:00",
         "7577.0",
         "13020.0",
         "23.4",
         "22.75",
         "53.0",
         "19.4"
        ],
        [
         "max",
         "12839.0",
         "2023-12-31 00:00:00",
         "12580.0",
         "20174.0",
         "34.7",
         "34.7",
         "75.0",
         "40.1"
        ],
        [
         "std",
         "2114.8953045215203",
         null,
         "2419.273170665071",
         "4129.630134907347",
         "11.88942027781784",
         "9.667674562603723",
         "27.774439573580956",
         "5.880357745419152"
        ]
       ],
       "shape": {
        "columns": 8,
        "rows": 8
       }
      },
      "text/html": [
       "<div>\n",
       "<style scoped>\n",
       "    .dataframe tbody tr th:only-of-type {\n",
       "        vertical-align: middle;\n",
       "    }\n",
       "\n",
       "    .dataframe tbody tr th {\n",
       "        vertical-align: top;\n",
       "    }\n",
       "\n",
       "    .dataframe thead th {\n",
       "        text-align: right;\n",
       "    }\n",
       "</style>\n",
       "<table border=\"1\" class=\"dataframe\">\n",
       "  <thead>\n",
       "    <tr style=\"text-align: right;\">\n",
       "      <th></th>\n",
       "      <th>casual</th>\n",
       "      <th>date</th>\n",
       "      <th>member</th>\n",
       "      <th>total_rides</th>\n",
       "      <th>apparent_temperature_mean</th>\n",
       "      <th>temperature_2m_mean</th>\n",
       "      <th>wmo_code</th>\n",
       "      <th>windspeed_10m_max</th>\n",
       "    </tr>\n",
       "  </thead>\n",
       "  <tbody>\n",
       "    <tr>\n",
       "      <th>count</th>\n",
       "      <td>1095.000000</td>\n",
       "      <td>1095</td>\n",
       "      <td>1095.000000</td>\n",
       "      <td>1095.000000</td>\n",
       "      <td>1095.000000</td>\n",
       "      <td>1095.000000</td>\n",
       "      <td>1095.000000</td>\n",
       "      <td>1095.000000</td>\n",
       "    </tr>\n",
       "    <tr>\n",
       "      <th>mean</th>\n",
       "      <td>3836.715068</td>\n",
       "      <td>2022-07-02 00:00:00</td>\n",
       "      <td>5929.492237</td>\n",
       "      <td>9766.207306</td>\n",
       "      <td>12.836438</td>\n",
       "      <td>14.412785</td>\n",
       "      <td>24.391781</td>\n",
       "      <td>16.051050</td>\n",
       "    </tr>\n",
       "    <tr>\n",
       "      <th>min</th>\n",
       "      <td>174.000000</td>\n",
       "      <td>2021-01-01 00:00:00</td>\n",
       "      <td>323.000000</td>\n",
       "      <td>497.000000</td>\n",
       "      <td>-15.200000</td>\n",
       "      <td>-9.100000</td>\n",
       "      <td>0.000000</td>\n",
       "      <td>5.600000</td>\n",
       "    </tr>\n",
       "    <tr>\n",
       "      <th>25%</th>\n",
       "      <td>2122.000000</td>\n",
       "      <td>2021-10-01 12:00:00</td>\n",
       "      <td>4292.500000</td>\n",
       "      <td>6741.500000</td>\n",
       "      <td>2.700000</td>\n",
       "      <td>6.250000</td>\n",
       "      <td>1.000000</td>\n",
       "      <td>11.700000</td>\n",
       "    </tr>\n",
       "    <tr>\n",
       "      <th>50%</th>\n",
       "      <td>3595.000000</td>\n",
       "      <td>2022-07-02 00:00:00</td>\n",
       "      <td>5848.000000</td>\n",
       "      <td>9759.000000</td>\n",
       "      <td>13.100000</td>\n",
       "      <td>14.900000</td>\n",
       "      <td>3.000000</td>\n",
       "      <td>14.700000</td>\n",
       "    </tr>\n",
       "    <tr>\n",
       "      <th>75%</th>\n",
       "      <td>5321.000000</td>\n",
       "      <td>2023-04-01 12:00:00</td>\n",
       "      <td>7577.000000</td>\n",
       "      <td>13020.000000</td>\n",
       "      <td>23.400000</td>\n",
       "      <td>22.750000</td>\n",
       "      <td>53.000000</td>\n",
       "      <td>19.400000</td>\n",
       "    </tr>\n",
       "    <tr>\n",
       "      <th>max</th>\n",
       "      <td>12839.000000</td>\n",
       "      <td>2023-12-31 00:00:00</td>\n",
       "      <td>12580.000000</td>\n",
       "      <td>20174.000000</td>\n",
       "      <td>34.700000</td>\n",
       "      <td>34.700000</td>\n",
       "      <td>75.000000</td>\n",
       "      <td>40.100000</td>\n",
       "    </tr>\n",
       "    <tr>\n",
       "      <th>std</th>\n",
       "      <td>2114.895305</td>\n",
       "      <td>NaN</td>\n",
       "      <td>2419.273171</td>\n",
       "      <td>4129.630135</td>\n",
       "      <td>11.889420</td>\n",
       "      <td>9.667675</td>\n",
       "      <td>27.774440</td>\n",
       "      <td>5.880358</td>\n",
       "    </tr>\n",
       "  </tbody>\n",
       "</table>\n",
       "</div>"
      ],
      "text/plain": [
       "             casual                 date        member   total_rides  \\\n",
       "count   1095.000000                 1095   1095.000000   1095.000000   \n",
       "mean    3836.715068  2022-07-02 00:00:00   5929.492237   9766.207306   \n",
       "min      174.000000  2021-01-01 00:00:00    323.000000    497.000000   \n",
       "25%     2122.000000  2021-10-01 12:00:00   4292.500000   6741.500000   \n",
       "50%     3595.000000  2022-07-02 00:00:00   5848.000000   9759.000000   \n",
       "75%     5321.000000  2023-04-01 12:00:00   7577.000000  13020.000000   \n",
       "max    12839.000000  2023-12-31 00:00:00  12580.000000  20174.000000   \n",
       "std     2114.895305                  NaN   2419.273171   4129.630135   \n",
       "\n",
       "       apparent_temperature_mean  temperature_2m_mean     wmo_code  \\\n",
       "count                1095.000000          1095.000000  1095.000000   \n",
       "mean                   12.836438            14.412785    24.391781   \n",
       "min                   -15.200000            -9.100000     0.000000   \n",
       "25%                     2.700000             6.250000     1.000000   \n",
       "50%                    13.100000            14.900000     3.000000   \n",
       "75%                    23.400000            22.750000    53.000000   \n",
       "max                    34.700000            34.700000    75.000000   \n",
       "std                    11.889420             9.667675    27.774440   \n",
       "\n",
       "       windspeed_10m_max  \n",
       "count        1095.000000  \n",
       "mean           16.051050  \n",
       "min             5.600000  \n",
       "25%            11.700000  \n",
       "50%            14.700000  \n",
       "75%            19.400000  \n",
       "max            40.100000  \n",
       "std             5.880358  "
      ]
     },
     "execution_count": 30,
     "metadata": {},
     "output_type": "execute_result"
    }
   ],
   "source": [
    "data_daily.describe()"
   ]
  },
  {
   "cell_type": "markdown",
   "id": "2ec6a27d",
   "metadata": {},
   "source": [
    "# Checks"
   ]
  },
  {
   "cell_type": "code",
   "execution_count": 37,
   "id": "2b68f133",
   "metadata": {},
   "outputs": [
    {
     "data": {
      "text/plain": [
       "0"
      ]
     },
     "execution_count": 37,
     "metadata": {},
     "output_type": "execute_result"
    }
   ],
   "source": [
    "# casual rides + member rides == total rides\n",
    "check_rides = data_daily.casual + data_daily.member != data_daily.total_rides\n",
    "sum(check_rides)"
   ]
  },
  {
   "cell_type": "markdown",
   "id": "5e83b5c4",
   "metadata": {},
   "source": [
    "# Export / Variable sharing"
   ]
  },
  {
   "cell_type": "code",
   "execution_count": 31,
   "id": "1e6dd192",
   "metadata": {},
   "outputs": [
    {
     "name": "stdout",
     "output_type": "stream",
     "text": [
      "Stored 'data_daily' (DataFrame)\n"
     ]
    }
   ],
   "source": [
    "%store data_daily"
   ]
  },
  {
   "cell_type": "code",
   "execution_count": 32,
   "id": "3fd5d9a0",
   "metadata": {},
   "outputs": [],
   "source": [
    "data_daily.to_parquet(config['processed_data_paths']['daily'])"
   ]
  }
 ],
 "metadata": {
  "kernelspec": {
   "display_name": "base_data_analysis",
   "language": "python",
   "name": "python3"
  },
  "language_info": {
   "codemirror_mode": {
    "name": "ipython",
    "version": 3
   },
   "file_extension": ".py",
   "mimetype": "text/x-python",
   "name": "python",
   "nbconvert_exporter": "python",
   "pygments_lexer": "ipython3",
   "version": "3.12.3"
  }
 },
 "nbformat": 4,
 "nbformat_minor": 5
}
