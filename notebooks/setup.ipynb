{
 "cells": [
  {
   "cell_type": "code",
   "execution_count": null,
   "id": "f7cc4c74",
   "metadata": {},
   "outputs": [],
   "source": [
    "# common packages for analysis\n",
    "import seaborn as sns\n",
    "import pandas as pd\n",
    "import matplotlib.pyplot as plt\n",
    "import numpy as np\n",
    "import yaml"
   ]
  },
  {
   "cell_type": "code",
   "execution_count": null,
   "id": "f1260d5d",
   "metadata": {},
   "outputs": [],
   "source": [
    "# settings to work with src files\n",
    "%load_ext autoreload\n",
    "%autoreload 2\n",
    "\n",
    "import os\n",
    "import sys\n",
    "\n",
    "module_path = os.path.abspath(os.path.join('../src')) # or the path to your source code\n",
    "sys.path.insert(0, module_path)"
   ]
  },
  {
   "cell_type": "code",
   "execution_count": null,
   "id": "b4a80ef3",
   "metadata": {},
   "outputs": [],
   "source": [
    "# constants and utils\n",
    "import utils"
   ]
  },
  {
   "cell_type": "code",
   "execution_count": null,
   "id": "058eabf2",
   "metadata": {},
   "outputs": [],
   "source": [
    "# load project config yaml\n",
    "with open(\"../config/config.yaml\", \"r\") as file:\n",
    "    config = yaml.safe_load(file)\n",
    "config"
   ]
  }
 ],
 "metadata": {
  "language_info": {
   "name": "python"
  }
 },
 "nbformat": 4,
 "nbformat_minor": 5
}
