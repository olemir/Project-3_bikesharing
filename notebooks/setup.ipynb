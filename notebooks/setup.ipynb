{
 "cells": [
  {
   "cell_type": "code",
   "execution_count": 2,
   "id": "4535f7a6",
   "metadata": {},
   "outputs": [],
   "source": [
    "# basics\n",
    "import datetime\n",
    "import calendar\n",
    "\n",
    "import os\n",
    "import sys\n",
    "import yaml\n",
    "import json # To convert GeoDataFrame to GeoJSON"
   ]
  },
  {
   "cell_type": "code",
   "execution_count": null,
   "id": "f7cc4c74",
   "metadata": {},
   "outputs": [],
   "source": [
    "# common packages for analysis\n",
    "import pandas as pd\n",
    "import numpy as np\n",
    "import pyarrow as pa\n",
    "\n",
    "import seaborn as sns\n",
    "import matplotlib.pyplot as plt\n",
    "import plotly.express as px\n",
    "\n",
    "import geopandas as gpd\n",
    "from geopy.distance import geodesic\n",
    "from geopy.point import Point as gPoint\n",
    "from shapely.geometry import Point, LineString, Polygon\n",
    "\n",
    "import folium\n",
    "from folium import plugins\n",
    "\n",
    "import thermofeel"
   ]
  },
  {
   "cell_type": "code",
   "execution_count": 4,
   "id": "f1260d5d",
   "metadata": {},
   "outputs": [],
   "source": [
    "# settings to work with src files\n",
    "%load_ext autoreload\n",
    "%autoreload 2\n",
    "\n",
    "module_path = os.path.abspath(os.path.join('../src')) # or the path to your source code\n",
    "sys.path.insert(0, module_path)"
   ]
  },
  {
   "cell_type": "code",
   "execution_count": 5,
   "id": "b4a80ef3",
   "metadata": {},
   "outputs": [],
   "source": [
    "# utils\n",
    "import utils"
   ]
  },
  {
   "cell_type": "code",
   "execution_count": 6,
   "id": "11f510bc",
   "metadata": {},
   "outputs": [
    {
     "data": {
      "text/plain": [
       "14.08820970604183"
      ]
     },
     "execution_count": 6,
     "metadata": {},
     "output_type": "execute_result"
    }
   ],
   "source": [
    "# precision \n",
    "\n",
    "TOL_LAT_LNG = 1e-4\n",
    "\n",
    "LAT_DC = 38.9072\n",
    "LNG_DC = -77.0369\n",
    "\n",
    "# lat_dc = 38.89511000  \n",
    "# lng_dc = -77.03637000\n",
    "coord_dc = (LAT_DC, LNG_DC)\n",
    "\n",
    "# calc precision for 1m resolution\n",
    "coord_test = (coord_dc[0] + TOL_LAT_LNG, coord_dc[1] + TOL_LAT_LNG)\n",
    "geodesic(coord_dc, coord_test).m"
   ]
  },
  {
   "cell_type": "code",
   "execution_count": 7,
   "id": "2f630cd8",
   "metadata": {},
   "outputs": [],
   "source": [
    "# constants\n",
    "from pandas.tseries.holiday import USFederalHolidayCalendar\n",
    "\n",
    "MONTHS = list(calendar.month_name)[1:]\n",
    "MONTHS_ABBR = list(calendar.month_abbr)[1:]\n",
    "US_HOLIDAYS = USFederalHolidayCalendar().holidays(start=pd.to_datetime('2021-01-01'), end=pd.to_datetime('2024-01-01'))\n",
    "\n",
    "EARTH_RADIUS_M = 6371000\n",
    "\n",
    "TOL_LAT_LNG = 1e-5\n",
    "NDEC_LAT_LNG = 5"
   ]
  },
  {
   "cell_type": "code",
   "execution_count": 8,
   "id": "058eabf2",
   "metadata": {},
   "outputs": [
    {
     "data": {
      "text/plain": [
       "{'raw_data_paths': {'daily': '../data/raw/CBS_2021-2023_Daily_Weather.csv',\n",
       "  'hourly': '../data/raw/CBS_2021-2023_Hourly_Weather.csv',\n",
       "  'full': '../data/raw/CBS_2021-2023_Full.csv',\n",
       "  'wmo_codes': '../data/raw/WMO2011h.csv',\n",
       "  'washington_outline': '../data/raw/Washington_DC_Boundary.geojson',\n",
       "  'washington_wards': '../data/raw/Wards_from_2022.geojson',\n",
       "  'washington_bicycle_lanes': '../data/raw/Bicycle_Lanes.geojson',\n",
       "  'washington_metro_stations': '../data/raw/Metro_Stations_Regional.geojson'},\n",
       " 'processed_data_paths': {'daily': '../data/processed/daily_data.parquet',\n",
       "  'hourly': '../data/processed/hourly_data.parquet'},\n",
       " 'reports_data_paths': {'network_graph': '../reports/pyvis_station_graph.html',\n",
       "  'network_graph_on_map': '../reports/network_map_folium.html',\n",
       "  'daily': '../data/raw/CBS_2021-2023_Daily_Weather.csv',\n",
       "  'hourly': '../data/raw/CBS_2021-2023_Hourly_Weather.csv',\n",
       "  'full': '../data/raw/CBS_2021-2023_Full.csv',\n",
       "  'wmo_codes': '../data/raw/WMO2011h.csv'}}"
      ]
     },
     "execution_count": 8,
     "metadata": {},
     "output_type": "execute_result"
    }
   ],
   "source": [
    "# load project config yaml\n",
    "with open(\"../config/config.yaml\", \"r\") as file:\n",
    "    config = yaml.safe_load(file)\n",
    "config"
   ]
  },
  {
   "cell_type": "code",
   "execution_count": null,
   "id": "855c2d79",
   "metadata": {},
   "outputs": [],
   "source": []
  }
 ],
 "metadata": {
  "kernelspec": {
   "display_name": "base_data_analysis",
   "language": "python",
   "name": "python3"
  },
  "language_info": {
   "codemirror_mode": {
    "name": "ipython",
    "version": 3
   },
   "file_extension": ".py",
   "mimetype": "text/x-python",
   "name": "python",
   "nbconvert_exporter": "python",
   "pygments_lexer": "ipython3",
   "version": "3.12.3"
  }
 },
 "nbformat": 4,
 "nbformat_minor": 5
}
