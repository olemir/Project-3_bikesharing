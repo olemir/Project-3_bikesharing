{
 "cells": [
  {
   "cell_type": "code",
   "execution_count": null,
   "id": "4535f7a6",
   "metadata": {},
   "outputs": [],
   "source": [
    "# basics\n",
    "import calendar\n",
    "import datetime\n",
    "import json  # To convert GeoDataFrame to GeoJSON\n",
    "import os\n",
    "import sys\n",
    "\n",
    "import yaml"
   ]
  },
  {
   "cell_type": "code",
   "execution_count": null,
   "id": "f7cc4c74",
   "metadata": {},
   "outputs": [],
   "source": [
    "# common packages for analysis\n",
    "import folium\n",
    "import geopandas as gpd\n",
    "import matplotlib.pyplot as plt\n",
    "import numpy as np\n",
    "import pandas as pd\n",
    "import plotly.express as px\n",
    "import pyarrow as pa\n",
    "import seaborn as sns\n",
    "import thermofeel\n",
    "from folium import plugins\n",
    "from geopy.distance import geodesic\n",
    "from geopy.point import Point as gPoint\n",
    "from shapely.geometry import LineString, Point, Polygon"
   ]
  },
  {
   "cell_type": "code",
   "execution_count": 3,
   "id": "f1260d5d",
   "metadata": {},
   "outputs": [],
   "source": [
    "# settings to work with src files\n",
    "%load_ext autoreload\n",
    "%autoreload 2\n",
    "\n",
    "module_path = os.path.abspath(os.path.join('../src')) # or the path to your source code\n",
    "sys.path.insert(0, module_path)"
   ]
  },
  {
   "cell_type": "code",
   "execution_count": 4,
   "id": "b4a80ef3",
   "metadata": {},
   "outputs": [],
   "source": [
    "# utils\n",
    "import utils"
   ]
  },
  {
   "cell_type": "code",
   "execution_count": null,
   "id": "11f510bc",
   "metadata": {},
   "outputs": [],
   "source": [
    "# precision \n",
    "\n",
    "TOL_LAT_LNG = 1e-4\n",
    "\n",
    "LAT_DC = 38.9072\n",
    "LNG_DC = -77.0369\n",
    "\n",
    "# lat_dc = 38.89511000  \n",
    "# lng_dc = -77.03637000\n",
    "coord_dc = (LAT_DC, LNG_DC)\n",
    "\n",
    "# calc precision for 1m resolution\n",
    "coord_test = (coord_dc[0] + TOL_LAT_LNG, coord_dc[1] + TOL_LAT_LNG)\n",
    "geodesic(coord_dc, coord_test).m"
   ]
  },
  {
   "cell_type": "code",
   "execution_count": null,
   "id": "2f630cd8",
   "metadata": {},
   "outputs": [],
   "source": [
    "# constants\n",
    "from pandas.tseries.holiday import USFederalHolidayCalendar\n",
    "\n",
    "MONTHS = list(calendar.month_name)[1:]\n",
    "MONTHS_ABBR = list(calendar.month_abbr)[1:]\n",
    "US_HOLIDAYS = USFederalHolidayCalendar().holidays(start=pd.to_datetime('2021-01-01'), end=pd.to_datetime('2024-01-01'))\n",
    "\n",
    "EARTH_RADIUS_M = 6371000\n",
    "\n",
    "TOL_LAT_LNG = 1e-5\n",
    "NDEC_LAT_LNG = 5"
   ]
  },
  {
   "cell_type": "code",
   "execution_count": null,
   "id": "058eabf2",
   "metadata": {},
   "outputs": [],
   "source": [
    "# load project config yaml\n",
    "with open(\"../config/config.yaml\", \"r\") as file:\n",
    "    config = yaml.safe_load(file)\n",
    "config"
   ]
  },
  {
   "cell_type": "code",
   "execution_count": null,
   "id": "855c2d79",
   "metadata": {},
   "outputs": [],
   "source": []
  }
 ],
 "metadata": {
  "kernelspec": {
   "display_name": "base_data_analysis",
   "language": "python",
   "name": "python3"
  },
  "language_info": {
   "codemirror_mode": {
    "name": "ipython",
    "version": 3
   },
   "file_extension": ".py",
   "mimetype": "text/x-python",
   "name": "python",
   "nbconvert_exporter": "python",
   "pygments_lexer": "ipython3",
   "version": "3.12.3"
  }
 },
 "nbformat": 4,
 "nbformat_minor": 5
}
