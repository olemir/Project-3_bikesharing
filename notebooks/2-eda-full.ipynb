{
 "cells": [
  {
   "cell_type": "markdown",
   "id": "ffed4d43",
   "metadata": {},
   "source": [
    "# EDA"
   ]
  },
  {
   "cell_type": "markdown",
   "id": "d96027f5",
   "metadata": {},
   "source": [
    "# Load"
   ]
  },
  {
   "cell_type": "code",
   "execution_count": null,
   "id": "aa33829a",
   "metadata": {},
   "outputs": [],
   "source": [
    "%run setup.ipynb"
   ]
  },
  {
   "cell_type": "code",
   "execution_count": null,
   "id": "e4ca29e4",
   "metadata": {},
   "outputs": [],
   "source": [
    "from utils_kpi_station_density import (\n",
    "    mask_active_stations,\n",
    "    count_active_stations,\n",
    "    transform_dataframe_to_folium_heatmap_data,\n",
    "    normalize_weights,\n",
    "    calc_density_in_grid\n",
    "    )"
   ]
  },
  {
   "cell_type": "code",
   "execution_count": null,
   "id": "46f1304e",
   "metadata": {},
   "outputs": [],
   "source": [
    "%store -r df stations"
   ]
  },
  {
   "cell_type": "code",
   "execution_count": null,
   "id": "e895e627",
   "metadata": {},
   "outputs": [],
   "source": [
    "df.head()"
   ]
  },
  {
   "cell_type": "code",
   "execution_count": null,
   "id": "530f4b3f",
   "metadata": {},
   "outputs": [],
   "source": [
    "stations.head()"
   ]
  },
  {
   "cell_type": "code",
   "execution_count": null,
   "id": "2101c070",
   "metadata": {},
   "outputs": [],
   "source": [
    "# city boundaries of washington\n",
    "washington_boundary = gpd.read_file(config['raw_data_paths']['washington_outline'])\n",
    "# washington_boundary = gpd.read_file('../data/raw/01_saopaulo_hdi.geojson')\n",
    "washington_boundary = washington_boundary.drop(columns=['AREAMILES', 'OBJECTID', 'STATE_CITY', 'CAPITAL', 'WEB_URL', 'GLOBALID', 'CREATOR', 'CREATED', 'EDITOR','EDITED', 'SHAPEAREA', 'SHAPELEN'])\n",
    "washington_boundary.head()"
   ]
  },
  {
   "cell_type": "code",
   "execution_count": null,
   "id": "fd10282c",
   "metadata": {},
   "outputs": [],
   "source": [
    "washington_wards = gpd.read_file(config['raw_data_paths']['washington_wards'])\n",
    "washington_wards = washington_wards.drop(columns=['LABEL', 'WARD', 'REP_NAME', 'WEB_URL', 'REP_PHONE', 'REP_EMAIL',\n",
    "       'REP_OFFICE', 'STUSAB', 'SUMLEV', 'GEOID',\n",
    "       'GEOCODE', 'STATE', 'OBJECTID', 'GLOBALID', 'CREATED_DATE',\n",
    "       'LAST_EDITED_DATE', 'SHAPEAREA', 'SHAPELEN'])\n",
    "washington_wards = washington_wards.set_index('WARD_ID')\n",
    "washington_wards.columns = washington_wards.columns.str.lower()\n",
    "washington_wards.head()"
   ]
  },
  {
   "cell_type": "code",
   "execution_count": null,
   "id": "de1eab4c",
   "metadata": {},
   "outputs": [],
   "source": [
    "# import metro stations\n",
    "washington_metro_stations = gpd.read_file(config['raw_data_paths']['washington_metro_stations'])\n",
    "washington_metro_stations.head()"
   ]
  },
  {
   "cell_type": "code",
   "execution_count": null,
   "id": "54be7709",
   "metadata": {},
   "outputs": [],
   "source": [
    "# import bicycle lanes\n",
    "washington_bicycle_lanes = gpd.read_file(config['raw_data_paths']['washington_bicycle_lanes'])\n",
    "washington_bicycle_lanes.head()"
   ]
  },
  {
   "cell_type": "markdown",
   "id": "3fa29284",
   "metadata": {},
   "source": [
    "# Constants"
   ]
  },
  {
   "cell_type": "code",
   "execution_count": null,
   "id": "eeb1d771",
   "metadata": {},
   "outputs": [],
   "source": [
    "crs_standard = \"EPSG:4326\"\n",
    "\n",
    "# Reproject to a Projected CRS for Area Calculation\n",
    "# NOTE Geographic coordinates (lat/lon) are not suitable for direct area calculations.\n",
    "#   Project to a local UTM zone or similar projected CRS.\n",
    "#   Washington D.C. is in UTM Zone 18N (EPSG:32618)\n",
    "crs_area_calculation = \"EPSG:32618\" # TODO why not 'epsg:32633'?"
   ]
  },
  {
   "cell_type": "code",
   "execution_count": null,
   "id": "048a42e7",
   "metadata": {},
   "outputs": [],
   "source": [
    "# initialize the calculation\n",
    "stations_gdf = gpd.GeoDataFrame(\n",
    "    stations,\n",
    "    geometry=[Point(lng, lat) for lat, lng in zip(stations.lat_median, stations.lng_median)],\n",
    "    crs=\"EPSG:4326\" # WGS 84 geographic coordinate system\n",
    ")\n",
    "\n",
    "# project the geometric data to the right crs\n",
    "stations_gdf_proj = stations_gdf.to_crs(crs_area_calculation)\n",
    "washington_boundary_proj = washington_boundary.to_crs(crs_area_calculation)\n",
    "washington_wards_proj = washington_wards.to_crs(crs_area_calculation)\n",
    "\n",
    "# Calculate areas\n",
    "washington_boundary_proj[\"area\"] = washington_boundary_proj['geometry'].area / 10**6 # km^2\n",
    "washington_wards_proj[\"area\"] = washington_wards_proj['geometry'].area / 10**6 # km^2"
   ]
  },
  {
   "cell_type": "code",
   "execution_count": null,
   "id": "1b0aafe0",
   "metadata": {},
   "outputs": [],
   "source": [
    "fig = folium.Figure(width=800, height=800)\n",
    "m = folium.Map(location=[LAT_DC, LNG_DC], zoom_start=12, tiles='CartoDB positron').add_to(fig)\n",
    "\n",
    "folium.GeoJson(\n",
    "    data=washington_boundary.to_json(), # Convert GeoDataFrame to GeoJSON string\n",
    "    name='Boundary',       # Name for the layer in LayerControl\n",
    "    style_function=lambda x: { # Customize the style of the ward polygons\n",
    "        'fillColor': \"#da2128\",  # A brown-ish color\n",
    "        'color': 'black',        # Border color\n",
    "        'weight': 1,             # Border weight\n",
    "        'fillOpacity': 0.1       # Transparency of the fill\n",
    "    }\n",
    ").add_to(m)\n",
    "\n",
    "m"
   ]
  },
  {
   "cell_type": "markdown",
   "id": "d0e13cba",
   "metadata": {},
   "source": [
    "# KPI: Station Density"
   ]
  },
  {
   "cell_type": "code",
   "execution_count": null,
   "id": "37fc4035",
   "metadata": {},
   "outputs": [],
   "source": [
    "# Create a map of all stations in DC\n",
    "f = folium.Figure(width=800, height=800)\n",
    "m = folium.Map(location=[LAT_DC, LNG_DC], zoom_start=12).add_to(f)\n",
    "\n",
    "# Add markers for each bikeshare location\n",
    "for index, row in stations.iterrows():\n",
    "    folium.Marker(\n",
    "        location=[row.lat_median, row.lng_median],\n",
    "        #popup=f\"Station: {row.get('name', 'N/A')}\", # Use 'name' if available, otherwise 'N/A'\n",
    "        icon=folium.Icon(color='blue', icon='bicycle', prefix='fa') # Add a bicycle icon\n",
    "    ).add_to(m)\n",
    "\n",
    "m"
   ]
  },
  {
   "cell_type": "markdown",
   "id": "64ac7ada",
   "metadata": {},
   "source": [
    "## Constants"
   ]
  },
  {
   "cell_type": "code",
   "execution_count": null,
   "id": "ffed6f0f",
   "metadata": {},
   "outputs": [],
   "source": [
    "CELL_SIZE_METERS = 1000 # 1 km x 1 km grid cells"
   ]
  },
  {
   "cell_type": "markdown",
   "id": "7c06a548",
   "metadata": {},
   "source": [
    "## Based on Area\n",
    "1. Measure the service area\n",
    "2. Calculate the stations per area\n",
    "3. Build station density map"
   ]
  },
  {
   "cell_type": "markdown",
   "id": "df483a6e",
   "metadata": {},
   "source": [
    "#### Overall Station Density over time"
   ]
  },
  {
   "cell_type": "code",
   "execution_count": null,
   "id": "5b00fb72",
   "metadata": {},
   "outputs": [],
   "source": [
    "# Overall station density\n",
    "station_density_overall = stations.shape[0] / washington_boundary_proj.iloc[0].area # TODO how to make this more elegant? \n",
    "station_density_overall"
   ]
  },
  {
   "cell_type": "code",
   "execution_count": null,
   "id": "3fa84647",
   "metadata": {},
   "outputs": [],
   "source": [
    "# station density over time\n",
    "# it changes when a station is not serviced anymore\n",
    "# exclude the last week or two weeks of the year: probably the stations have just not been targeted yet\n",
    "\n",
    "station_density = pd.DataFrame(index = pd.date_range('2021.01.01.', '2023.12.31.', freq='D'))\n",
    "res = station_density.index.to_series().apply(lambda x: count_active_stations(stations, x.date())) / washington_boundary_proj.iloc[0].area\n",
    "station_density['density'] = res\n",
    "station_density.head()"
   ]
  },
  {
   "cell_type": "code",
   "execution_count": null,
   "id": "ae812230",
   "metadata": {},
   "outputs": [],
   "source": []
  },
  {
   "cell_type": "code",
   "execution_count": null,
   "id": "4f97be9f",
   "metadata": {},
   "outputs": [],
   "source": [
    "# RuntimeError: Can not load face (invalid stream operation; error code 0x55)\n",
    "import matplotlib\n",
    "print(matplotlib.get_configdir())"
   ]
  },
  {
   "cell_type": "code",
   "execution_count": null,
   "id": "759eaa04",
   "metadata": {},
   "outputs": [],
   "source": [
    "# plot station density over time\n",
    "fig, ax = plt.subplots(1, 1)\n",
    "\n",
    "station_density.plot(ax = ax)\n",
    "\n",
    "ax.set_title('Station Density')\n",
    "xlim = ax.get_xlim()\n",
    "xlim = [pd.to_datetime(xlim[0], unit='D', origin='unix') + pd.Timedelta(days=21), pd.to_datetime(xlim[1], unit='D', origin='unix') - pd.Timedelta(days=14)]\n",
    "# ax.set_xlim(xlim)\n",
    "# ax.set_ylim([1.35, 1.7])\n",
    "\n",
    "plt.tight_layout()\n",
    "plt.show()"
   ]
  },
  {
   "cell_type": "markdown",
   "id": "519db6da",
   "metadata": {},
   "source": [
    "- The station density steadily increased over the years; from 1.4 to almost 1.7.\n",
    "- The drops at the start and the end are edge effects: "
   ]
  },
  {
   "cell_type": "markdown",
   "id": "194cc5cc",
   "metadata": {},
   "source": [
    "### Station Density Map"
   ]
  },
  {
   "cell_type": "code",
   "execution_count": null,
   "id": "2d476e35",
   "metadata": {},
   "outputs": [],
   "source": [
    "# Create grid on Washington DC\n",
    "\n",
    "# Bounding Box around the D.C. Boundary\n",
    "# create a rectangular grid that covers this bounding box initially\n",
    "xmin, ymin, xmax, ymax = washington_boundary_proj.total_bounds\n",
    "\n",
    "# Generate coordinates for the grid lines\n",
    "x_coords = np.arange(xmin, xmax + CELL_SIZE_METERS, CELL_SIZE_METERS)\n",
    "y_coords = np.arange(ymin, ymax + CELL_SIZE_METERS, CELL_SIZE_METERS)\n",
    "\n",
    "# Create a list of grid cell polygons\n",
    "grid_cells = []\n",
    "for i in range(len(x_coords) - 1):\n",
    "    for j in range(len(y_coords) - 1):\n",
    "        cell_polygon = Polygon([\n",
    "            (x_coords[i], y_coords[j]),\n",
    "            (x_coords[i + 1], y_coords[j]),\n",
    "            (x_coords[i + 1], y_coords[j + 1]),\n",
    "            (x_coords[i], y_coords[j + 1])\n",
    "        ])\n",
    "        grid_cells.append(cell_polygon)\n",
    "\n",
    "# Create a GeoDataFrame from the grid cells\n",
    "grid_gdf = gpd.GeoDataFrame(geometry=grid_cells, crs=\"EPSG:32618\")\n",
    "\n",
    "# cell area in km^2\n",
    "grid_gdf['area_km2'] = grid_gdf.geometry.area / 10**6\n",
    "\n",
    "# Clip the Grid to the D.C. Boundary\n",
    "grid_in_dc = gpd.overlay(grid_gdf, washington_boundary_proj, how='intersection')\n",
    "\n",
    "# Calculate area of each cell (all will be roughly cell_size_meters^2 for full cells)\n",
    "# grid_in_dc['area_km2'] = grid_in_dc.geometry.area / 10**6 # Convert m^2 to km^2"
   ]
  },
  {
   "cell_type": "code",
   "execution_count": null,
   "id": "a3736a4f",
   "metadata": {},
   "outputs": [],
   "source": [
    "# Count Stations per Cell and Calculate Density\n",
    "density_grid, stations_in_grid = calc_density_in_grid(stations_gdf_proj, grid_in_dc, pd.to_datetime('2021.01.01.').date())\n",
    "\n",
    "# Density Map\n",
    "# TODO visualize non-truncated grid\n",
    "fig, ax = plt.subplots(1, 1, figsize=(10, 10))\n",
    "\n",
    "# Plot the D.C. boundary (optional)\n",
    "washington_boundary_proj.plot(ax=ax, color='lightgray', edgecolor='black', alpha=0.5)\n",
    "\n",
    "# Plot the density map\n",
    "density_grid.plot(column='density', ax=ax, legend=True,\n",
    "                      cmap='YlOrRd', # Yellow-Orange-Red colormap\n",
    "                      edgecolor='white', linewidth=0.5,\n",
    "                      legend_kwds={'label': \"Station Density (stations/km²)\"})\n",
    "\n",
    "# Plot the actual stations on top for context\n",
    "stations_in_grid.plot(ax=ax, marker='o', color='blue', markersize=5, alpha=0.7)\n",
    "\n",
    "ax.set_title('Public Transport Station Density in Washington D.C.')\n",
    "ax.set_xlabel('Easting (m)')\n",
    "ax.set_ylabel('Northing (m)')\n",
    "plt.show()"
   ]
  },
  {
   "cell_type": "code",
   "execution_count": null,
   "id": "92071851",
   "metadata": {},
   "outputs": [],
   "source": [
    "# stations density over time on a heatmap\n",
    "intensify_factor = 1.2\n",
    "\n",
    "f = folium.Figure(width=600, height=800)\n",
    "m = folium.Map(location=[LAT_DC, LNG_DC], zoom_start=12).add_to(f)\n",
    "\n",
    "# time frame\n",
    "points_in_time = pd.date_range('2021.01.01.', '2023.12.31.', freq='ME').to_series()\n",
    "\n",
    "# time resolved station density heatmap\n",
    "time_series_df = [calc_density_in_grid(stations_gdf_proj, grid_in_dc, time.date())[0] for time in points_in_time]\n",
    "time_series_df = normalize_weights(time_series_df, 'density')\n",
    "data = [transform_dataframe_to_folium_heatmap_data(df, intensify_factor, crs_standard) for df in time_series_df]\n",
    "\n",
    "hm = plugins.HeatMapWithTime(data,\n",
    "                             name='Station Density per km2',\n",
    "                             min_opacity=0.05, max_opacity=0.9,\n",
    "                             min_speed=5, max_speed=10,\n",
    "                             radius=50,\n",
    "                             index=points_in_time.astype(str).to_list(),\n",
    "                             auto_play=True,\n",
    "                             ).add_to(m)\n",
    "\n",
    "# layer: station locations\n",
    "# fg = folium.FeatureGroup(name=\"Stations\", show=False).add_to(m)\n",
    "# folium.Marker(location=(LAT_DC, LNG_DC)).add_to(fg)\n",
    "\n",
    "# ward layer\n",
    "folium.GeoJson(\n",
    "    data=washington_wards.to_json(), # Convert GeoDataFrame to GeoJSON string\n",
    "    name='Wards',       # Name for the layer in LayerControl\n",
    "    style_function=lambda x: { # Customize the style of the ward polygons\n",
    "        'fillColor': '#8c510a',  # A brown-ish color\n",
    "        'color': 'black',        # Border color\n",
    "        'weight': 1,             # Border weight\n",
    "        'fillOpacity': 0.2       # Transparency of the fill\n",
    "    },\n",
    "    tooltip=folium.features.GeoJsonTooltip( # Add tooltips on hover\n",
    "        fields=['name'],\n",
    "        aliases=['Ward Name:'],\n",
    "        localize=True,\n",
    "        sticky=False\n",
    "    ),\n",
    "    popup=folium.features.GeoJsonPopup( # Add popups on click\n",
    "        fields=['name'],\n",
    "        aliases=['Ward Name:'],\n",
    "        localize=True,\n",
    "        sticky=False\n",
    "    )\n",
    ").add_to(m)\n",
    "\n",
    "folium.LayerControl().add_to(m)\n",
    "\n",
    "# show map\n",
    "m"
   ]
  },
  {
   "cell_type": "code",
   "execution_count": null,
   "id": "b1f3aacd",
   "metadata": {},
   "outputs": [],
   "source": [
    "ward_ids_residential = set(['3', '4', '5', '7', '8'])\n",
    "ward_ids_nonresidential = set(['1', '2', '6'])"
   ]
  },
  {
   "cell_type": "markdown",
   "id": "e250351e",
   "metadata": {},
   "source": [
    "### Station Density per Ward\n",
    "\n",
    "- Ward 1, Ward 2 and Ward 6: well developed, non-residential wards\n",
    "- Rest: residential wards\n",
    "\n",
    "How has the station density evolved in these wards?"
   ]
  },
  {
   "cell_type": "code",
   "execution_count": null,
   "id": "fc564937",
   "metadata": {},
   "outputs": [],
   "source": [
    "# plotly express\n",
    "\n",
    "\n",
    "# density_grid = calc_density_in_grid(stations_gdf_proj, grid_in_dc, pd.Timestamp('2021.01.01.').date())\n",
    "\n",
    "\n",
    "# --- 3. Pre-calculate All Densities and Prepare Data for Plotly Express ---\n",
    "# This is similar to the previous step, but we create a flat DataFrame for Plotly Express\n",
    "\n",
    "time_frames = pd.to_datetime(pd.date_range('2021.01.01.', '2023.12.31.', freq='ME').to_series())\n",
    "\n",
    "plotly_data_list = []\n",
    "max_overall_density = 0\n",
    "station_counts_time = 0\n",
    "current_frame_grid_data = 0\n",
    "\n",
    "for time_frame in time_frames:\n",
    "    active_stations = stations_gdf_proj[mask_active_stations(stations_gdf_proj, time_frame.date())].copy()\n",
    "\n",
    "    if not active_stations.empty:\n",
    "        stations_in_full_grid = gpd.sjoin(active_stations, washington_wards_proj, how=\"inner\", predicate='intersects')\n",
    "        station_counts_time = stations_in_full_grid.groupby('WARD_ID').size().reset_index(name='station_count')\n",
    "    else:\n",
    "        station_counts_time = pd.DataFrame({'WARD_ID': [], 'station_count': []})\n",
    "\n",
    "    current_frame_grid_data = washington_wards_proj.merge(\n",
    "        station_counts_time, left_on='WARD_ID', right_on='WARD_ID', how='left'\n",
    "    )\n",
    "    current_frame_grid_data['station_count'] = current_frame_grid_data['station_count'].fillna(0).astype(int)\n",
    "    current_frame_grid_data['density'] = current_frame_grid_data['station_count'] / current_frame_grid_data['area']\n",
    "\n",
    "    # Append data for this year to the list for Plotly Express\n",
    "    for idx, row in current_frame_grid_data.iterrows():\n",
    "        plotly_data_list.append({\n",
    "            'WARD_ID'   : row['WARD_ID'],\n",
    "            'time'      : time_frame,\n",
    "            'density'   : row['density']\n",
    "        })\n",
    "    \n",
    "    if current_frame_grid_data['density'].max() > max_overall_density:\n",
    "        max_overall_density = current_frame_grid_data['density'].max()\n",
    "\n",
    "if max_overall_density == 0:\n",
    "    max_overall_density = 1.0 # Avoid division by zero in color scaling\n",
    "\n",
    "# Convert the list of dicts to a DataFrame\n",
    "density_df_long = pd.DataFrame(plotly_data_list)\n",
    "density_df_long.head()"
   ]
  },
  {
   "cell_type": "code",
   "execution_count": null,
   "id": "1cf2b630",
   "metadata": {},
   "outputs": [],
   "source": [
    "# Prepare GeoJSON for Plotly Express (only needs geometries and linking ID)\n",
    "grid_geojson = json.loads(washington_wards.reset_index().to_json())"
   ]
  },
  {
   "cell_type": "code",
   "execution_count": null,
   "id": "3323e3f8",
   "metadata": {},
   "outputs": [],
   "source": [
    "# Create the Animated Choropleth Map\n",
    "fig = px.choropleth_map(\n",
    "    density_df_long,\n",
    "    geojson=grid_geojson,\n",
    "    locations='WARD_ID',                  # Column in DataFrame that links to GeoJSON\n",
    "    featureidkey='properties.WARD_ID',    # Key in GeoJSON properties to match 'locations'\n",
    "    color='density',                      # Column to color the polygons by\n",
    "    animation_frame='time',               # Column to create the animation frames\n",
    "    color_continuous_scale=\"Viridis\",     # Colormap\n",
    "    range_color=(0, 0.8*max_overall_density), # Consistent color scale across all frames\n",
    "    zoom=10,                              # Initial zoom level\n",
    "    center={\"lat\" : LAT_DC, \"lon\" : LNG_DC},\n",
    "    opacity=0.7,\n",
    "    labels={'density' : 'Station Density (stations/km²)'},\n",
    "    title='Time-Resolved Station Density in Washington D.C.',\n",
    "    width=1200,  # Set the width in pixels\n",
    "    height=800  # Set the height in pixels\n",
    ") \n",
    "\n",
    "# Customize animation speed (optional)\n",
    "fig.layout.updatemenus[0].buttons[0].args[1]['frame']['duration'] = 500 # milliseconds per frame\n",
    "fig.layout.updatemenus[0].buttons[0].args[1]['transition']['duration'] = 0 # no transition\n",
    "\n",
    "# To ensure the animation slider always shows the whole range (optional, can be tricky with some datasets)\n",
    "# fig.update_layout(sliders=[dict(steps=[dict(args=[[f.name]], method='animate') for f in fig.frames])])\n",
    "\n",
    "fig.show()\n",
    "\n",
    "# To save the map as an HTML file (interactive)\n",
    "# fig.write_html(\"plotly_choropleth_time_resolved.html\")"
   ]
  },
  {
   "cell_type": "code",
   "execution_count": null,
   "id": "b8410352",
   "metadata": {},
   "outputs": [],
   "source": [
    "fig, ax = plt.subplots(2, 1, figsize=(12,8), sharex=True)\n",
    "ax = ax.flatten()\n",
    "\n",
    "sns.lineplot(density_df_long[density_df_long.WARD_ID.isin(['1','2','6'])], x='time', y='density', hue='WARD_ID', ax=ax[0])\n",
    "sns.lineplot(density_df_long[density_df_long.WARD_ID.apply(lambda x: x not in ['1','2','6'])], x='time', y='density', hue='WARD_ID', ax=ax[1])\n",
    "\n",
    "plt.tight_layout()\n",
    "plt.show()"
   ]
  },
  {
   "cell_type": "markdown",
   "id": "1531a921",
   "metadata": {},
   "source": [
    "- The station density per ward stayed almost constant until 2022-09. \n",
    "- The station density in the non-residential districts (Ward 1, 2 and 6) has slightly increased.\n",
    "- The station density in the residential districts has slightly increased\n",
    "- Significant increases in stations\n",
    "  - 2022-08 in Wards 5, 6, 1\n",
    "  - 2023-01 in Ward 7\n",
    "- Slight increases in the other wards. "
   ]
  },
  {
   "cell_type": "markdown",
   "id": "8d02ab86",
   "metadata": {},
   "source": [
    "\n",
    "## Based on Average distance \n",
    "1. station map: Sort stations on lat, lng grid\n",
    "2. calc distance to neighbours\n",
    "3. average"
   ]
  },
  {
   "cell_type": "code",
   "execution_count": null,
   "id": "420efa5f",
   "metadata": {},
   "outputs": [],
   "source": [
    "# TODO"
   ]
  },
  {
   "cell_type": "markdown",
   "id": "b650b037",
   "metadata": {},
   "source": [
    "# Rides Distribution\n",
    "- Which are the busiest stations? \n",
    "- Which are the most important connections? "
   ]
  },
  {
   "cell_type": "markdown",
   "id": "7278eb84",
   "metadata": {},
   "source": [
    "## Off-station rides"
   ]
  },
  {
   "cell_type": "code",
   "execution_count": null,
   "id": "86083b38",
   "metadata": {},
   "outputs": [],
   "source": [
    "# rides that start off-station\n",
    "mask_ride_starts_off_station = df.start_station_id.isna()\n",
    "print(sum(mask_ride_starts_off_station))\n",
    "print(sum(mask_ride_starts_off_station)/df.shape[0])"
   ]
  },
  {
   "cell_type": "code",
   "execution_count": null,
   "id": "52aaff79",
   "metadata": {},
   "outputs": [],
   "source": [
    "# rides that start off-station\n",
    "mask_ride_ends_off_station = df.end_station_id.isna()\n",
    "print(sum(mask_ride_ends_off_station))\n",
    "print(sum(mask_ride_ends_off_station)/df.shape[0])"
   ]
  },
  {
   "cell_type": "code",
   "execution_count": null,
   "id": "f6267328",
   "metadata": {},
   "outputs": [],
   "source": [
    "# map rides that end off station\n",
    "rides_end_off_station = df[mask_ride_ends_off_station]\n",
    "rides_end_off_station.head()"
   ]
  },
  {
   "cell_type": "code",
   "execution_count": null,
   "id": "2d2ea938",
   "metadata": {},
   "outputs": [],
   "source": [
    "rides_end_off_station_gdf = gpd.GeoDataFrame(\n",
    "    rides_end_off_station, \n",
    "    geometry=[Point(lng, lat) for lng, lat in zip(rides_end_off_station.end_lng, rides_end_off_station.end_lat)],\n",
    "    crs = crs_standard\n",
    "    )\n",
    "\n",
    "rides_end_off_station_gdf = gpd.sjoin(rides_end_off_station_gdf, washington_wards, how='left', predicate='within')"
   ]
  },
  {
   "cell_type": "code",
   "execution_count": null,
   "id": "5c0eeb87",
   "metadata": {},
   "outputs": [],
   "source": [
    "rides_end_off_station_gdf.head()"
   ]
  },
  {
   "cell_type": "code",
   "execution_count": null,
   "id": "3978aae5",
   "metadata": {},
   "outputs": [],
   "source": [
    "# all rides that end off station\n",
    "# data = rides_end_off_station_gdf.loc[(rides_end_off_station_gdf.ended_at.dt.year>2022), ['end_lat', 'end_lng']].groupby(['end_lat', 'end_lng']).size().rename('cnt').reset_index()\n",
    "# data.cnt = scale_min_max(data.cnt)\n",
    "# data = [[row.end_lat, row.end_lng, 100*np.log1p(row.cnt)] for i, row in data.iterrows() if row.cnt>0.0]\n",
    "\n",
    "data = rides_end_off_station_gdf.loc[(rides_end_off_station_gdf.ended_at.dt.year>2022), ['end_lat', 'end_lng']]\n",
    "data = [[row.end_lat, row.end_lng] for i, row in data.iterrows()]\n",
    "\n",
    "fig = folium.Figure(width=800, height=800)\n",
    "m = folium.Map(location=[LAT_DC, LNG_DC], zoom_start=12).add_to(fig)\n",
    "\n",
    "hm = plugins.HeatMap(data,\n",
    "                     name='end of off-station ride locations',\n",
    "                     radius=25,\n",
    "                     blur=25\n",
    "                     ).add_to(m)\n",
    "\n",
    "# Add markers for each bikeshare location\n",
    "fg = folium.FeatureGroup(name=\"Station\", show=False).add_to(m)\n",
    "for index, row in stations.iterrows():\n",
    "    pos_station = [row.lat_median, row.lng_median]\n",
    "    # folium.Marker(\n",
    "    #     location=pos_station,\n",
    "    #     #popup=f\"Station: {row.get('name', 'N/A')}\", # Use 'name' if available, otherwise 'N/A'\n",
    "    #     icon=folium.Icon(color='blue', icon='bicycle', prefix='fa') # Add a bicycle icon\n",
    "    # ).add_to(fg)\n",
    "\n",
    "    folium.Circle(\n",
    "        pos_station,             \n",
    "        # tooltip = \"<b>Berghain</b>\",\n",
    "        radius = 10,                # Radius in meters \n",
    "        color = \"black\",\n",
    "        fill = True,\n",
    "        fill_color = \"crimson\"\n",
    "    ).add_to(fg)\n",
    "\n",
    "folium.LayerControl().add_to(m)\n",
    "\n",
    "m"
   ]
  },
  {
   "cell_type": "code",
   "execution_count": null,
   "id": "e6bd52ab",
   "metadata": {},
   "outputs": [],
   "source": [
    "rides_end_off_station_gdf.columns = rides_end_off_station_gdf.columns.str.lower()"
   ]
  },
  {
   "cell_type": "code",
   "execution_count": null,
   "id": "a46cff08",
   "metadata": {},
   "outputs": [],
   "source": [
    "# member rides that end off station in residential wards\n",
    "data = rides_end_off_station_gdf[(rides_end_off_station_gdf.ended_at.dt.year>2022) & \n",
    "                                 rides_end_off_station_gdf['ward_id'].isin(ward_ids_residential) & \n",
    "                                 (rides_end_off_station.member_casual=='member')]\n",
    "\n",
    "data = [[row.end_lat, row.end_lng] for i, row in data.iterrows()]\n",
    "\n",
    "# build data frame with bike locations that end off-station\n",
    "fig = folium.Figure(width=800, height=800)\n",
    "m = folium.Map(location=[LAT_DC, LNG_DC], zoom_start=12).add_to(fig)\n",
    "\n",
    "hm = plugins.HeatMap(data,\n",
    "                     name='end of off-station ride locations',\n",
    "                     radius=25,\n",
    "                     blur=25\n",
    "                     ).add_to(m)\n",
    "\n",
    "# Add markers for each bikeshare location\n",
    "fg = folium.FeatureGroup(name=\"Station\", show=False).add_to(m)\n",
    "for index, row in stations.iterrows():\n",
    "    pos_station = [row.lat_median, row.lng_median]\n",
    "    # folium.Marker(\n",
    "    #     location=pos_station,\n",
    "    #     #popup=f\"Station: {row.get('name', 'N/A')}\", # Use 'name' if available, otherwise 'N/A'\n",
    "    #     icon=folium.Icon(color='blue', icon='bicycle', prefix='fa') # Add a bicycle icon\n",
    "    # ).add_to(fg)\n",
    "\n",
    "    folium.Circle(\n",
    "        pos_station,             \n",
    "        # tooltip = \"<b>Berghain</b>\",\n",
    "        radius = 10,                # Radius in meters \n",
    "        color = \"black\",\n",
    "        fill = True,\n",
    "        fill_color = \"crimson\"\n",
    "    ).add_to(fg)\n",
    "\n",
    "    \n",
    "folium.GeoJson(\n",
    "    data=washington_wards.to_json(), # Convert GeoDataFrame to GeoJSON string\n",
    "    name='Wards',       # Name for the layer in LayerControl\n",
    "    style_function=lambda x: { # Customize the style of the ward polygons\n",
    "        'fillColor': '#8c510a',  # A brown-ish color\n",
    "        'color': 'black',        # Border color\n",
    "        'weight': 1,             # Border weight\n",
    "        'fillOpacity': 0.2       # Transparency of the fill\n",
    "    },\n",
    "    tooltip=folium.features.GeoJsonTooltip( # Add tooltips on hover\n",
    "        fields=['name'],\n",
    "        aliases=['Ward Name:'],\n",
    "        localize=True,\n",
    "        sticky=False\n",
    "    ),\n",
    "    popup=folium.features.GeoJsonPopup( # Add popups on click\n",
    "        fields=['name'],\n",
    "        aliases=['Ward Name:'],\n",
    "        localize=True,\n",
    "        sticky=False\n",
    "    )\n",
    ").add_to(m)\n",
    "\n",
    "folium.LayerControl().add_to(m)\n",
    "\n",
    "m"
   ]
  },
  {
   "cell_type": "code",
   "execution_count": null,
   "id": "de9b58a5",
   "metadata": {},
   "outputs": [],
   "source": [
    "# redo the above map in static plt map"
   ]
  },
  {
   "cell_type": "code",
   "execution_count": null,
   "id": "abc57e71",
   "metadata": {},
   "outputs": [],
   "source": [
    "print(sum(mask_ride_starts_off_station & mask_ride_ends_off_station))\n",
    "print(sum(mask_ride_starts_off_station & mask_ride_ends_off_station)/df.shape[0])"
   ]
  },
  {
   "cell_type": "markdown",
   "id": "dc329ef2",
   "metadata": {},
   "source": [
    "- The fractions of rides that start off-station or that end off-station are quite small.\n",
    "- Almost the same amount of bikes are picked up off station or are put off station.\n",
    "\n",
    "Questions\n",
    "- How is the development over time? -> possible KPI: station coverage\n",
    "- How many bikes have to be brought back by capital bike share? "
   ]
  },
  {
   "cell_type": "code",
   "execution_count": null,
   "id": "aeb84f1b",
   "metadata": {},
   "outputs": [],
   "source": [
    "# daily rides that start off station\n",
    "daily_rides_start_off = df.loc[mask_ride_starts_off_station, ['started_at', 'end_station_id']].groupby(df.started_at.dt.date).count().rename(columns={\n",
    "    'started_at'        : 'count',\n",
    "    'end_station_id'    : 'count_returned_to_station'\n",
    "})\n",
    "\n",
    "daily_rides_start_off['fraction_returned'] = daily_rides_start_off.count_returned_to_station / daily_rides_start_off['count']\n",
    "\n",
    "daily_rides_start_off.head()"
   ]
  },
  {
   "cell_type": "code",
   "execution_count": null,
   "id": "872d9144",
   "metadata": {},
   "outputs": [],
   "source": [
    "# bikes that have been returned to a station by the users\n",
    "fig, ax = plt.subplots(1, 1)\n",
    "\n",
    "daily_rides_start_off.fraction_returned.plot(ax=ax)\n",
    "\n",
    "ax.tick_params(axis='x', labelrotation=90)\n",
    "\n",
    "plt.tight_layout()"
   ]
  },
  {
   "cell_type": "markdown",
   "id": "3d864c3a",
   "metadata": {},
   "source": [
    "# Station Graph"
   ]
  },
  {
   "cell_type": "code",
   "execution_count": null,
   "id": "3a249ebf",
   "metadata": {},
   "outputs": [],
   "source": [
    "import networkx as nx"
   ]
  },
  {
   "cell_type": "markdown",
   "id": "e1123fcc",
   "metadata": {},
   "source": [
    "### Build"
   ]
  },
  {
   "cell_type": "code",
   "execution_count": null,
   "id": "cea6c414",
   "metadata": {},
   "outputs": [],
   "source": [
    "# collect dem data\n",
    "graph_data = df[(df.rideable_type!='electric_bike') & \n",
    "                df.start_is_within_city & \n",
    "                (df.member_casual == 'member')\n",
    "                ].groupby(['start_station_id', 'end_station_id']).agg(\n",
    "    avg_duration=('ride_duration', 'mean'),\n",
    "    ride_count=('start_station_id', 'size')\n",
    ").reset_index().dropna(subset=['start_station_id', 'end_station_id'])\n",
    "graph_data.sort_values(by='ride_count', ascending=False).head(100)"
   ]
  },
  {
   "cell_type": "code",
   "execution_count": null,
   "id": "c7f4209e",
   "metadata": {},
   "outputs": [],
   "source": [
    "fig, ax = plt.subplots(1, 2, figsize=(12,6))\n",
    "\n",
    "sns.histplot(graph_data.ride_count, ax=ax[0], bins=100, log_scale=True)\n",
    "sns.histplot(graph_data.avg_duration, ax=ax[1], bins=100)\n",
    "\n",
    "plt.tight_layout()"
   ]
  },
  {
   "cell_type": "code",
   "execution_count": null,
   "id": "44969665",
   "metadata": {},
   "outputs": [],
   "source": [
    "# stations['cnt_net'] = stations.cnt_out.astype('int32[pyarrow]') - stations.cnt_in.astype('int32[pyarrow]')"
   ]
  },
  {
   "cell_type": "code",
   "execution_count": null,
   "id": "187af75f",
   "metadata": {},
   "outputs": [],
   "source": [
    "stations.head()"
   ]
  },
  {
   "cell_type": "code",
   "execution_count": null,
   "id": "4112798a",
   "metadata": {},
   "outputs": [],
   "source": [
    "# build graph\n",
    "graph = nx.from_pandas_edgelist(\n",
    "    graph_data,\n",
    "    source='start_station_id',\n",
    "    target='end_station_id',\n",
    "    # edge_attr=['ride_count', 'avg_duration'],\n",
    "    create_using=nx.DiGraph\n",
    "    )\n",
    "\n",
    "# edge attributes\n",
    "nx.set_edge_attributes(graph, graph_data.set_index(['start_station_id', 'end_station_id']).ride_count.to_dict(), 'ride_count')\n",
    "nx.set_edge_attributes(graph, graph_data.set_index(['start_station_id', 'end_station_id']).avg_duration.to_dict(), 'avg_duration')\n",
    "\n",
    "# node attributes\n",
    "nx.set_node_attributes(graph, stations.total_count_start_end.to_dict(), 'total_count_start_end')\n",
    "# nx.set_node_attributes(graph, stations.cnt_in.to_dict(), 'cnt_in')\n",
    "# nx.set_node_attributes(graph, stations.cnt_out.to_dict(), 'cnt_out')\n",
    "# nx.set_node_attributes(graph, stations.cnt_net.to_dict(), 'cnt_net')\n",
    "nx.set_node_attributes(graph, stations.lat_median.to_dict(), 'lat')\n",
    "nx.set_node_attributes(graph, stations.lng_median.to_dict(), 'lon')"
   ]
  },
  {
   "cell_type": "markdown",
   "id": "2d86d680",
   "metadata": {},
   "source": [
    "### Optimize"
   ]
  },
  {
   "cell_type": "code",
   "execution_count": null,
   "id": "bc9fbdfa",
   "metadata": {},
   "outputs": [],
   "source": [
    "# summarize: dedensify\n",
    "c_graph, c_nodes = nx.dedensify(graph, threshold=500)\n",
    "print(c_graph.number_of_edges())"
   ]
  },
  {
   "cell_type": "markdown",
   "id": "d1c32e5b",
   "metadata": {},
   "source": [
    "### Analyse"
   ]
  },
  {
   "cell_type": "code",
   "execution_count": null,
   "id": "ba220c83",
   "metadata": {},
   "outputs": [],
   "source": [
    "# Basic graph metrics\n",
    "print(nx.number_of_nodes(graph))\n",
    "print(nx.number_of_edges(graph))\n",
    "print(graph.degree[0])\n",
    "# print(nx.is_connected(graph))"
   ]
  },
  {
   "cell_type": "code",
   "execution_count": null,
   "id": "901b1f18",
   "metadata": {},
   "outputs": [],
   "source": [
    "# Calculate various centrality metrics\n",
    "# TODO What is the meaning of weight in all of these quantities? \n",
    "degree_cent         = nx.degree_centrality(graph)\n",
    "betweenness_cent    = nx.betweenness_centrality(graph) # weights?\n",
    "closeness_cent      = nx.closeness_centrality(graph, distance='ride_count') # might be interesting for analysis!\n",
    "eigenvector_cent    = nx.eigenvector_centrality(graph)\n",
    "clustering_coeff    = nx.clustering(graph, weight='ride_count')"
   ]
  },
  {
   "cell_type": "code",
   "execution_count": null,
   "id": "07142432",
   "metadata": {},
   "outputs": [],
   "source": [
    "# set node attributes\n",
    "nx.set_node_attributes(graph, eigenvector_cent, 'eigenvector_cent')"
   ]
  },
  {
   "cell_type": "code",
   "execution_count": null,
   "id": "f608adcf",
   "metadata": {},
   "outputs": [],
   "source": [
    "# degree centrality: Degree centrality measures how many direct connections a node has \n",
    "# relative to the most possible connections in the network.\n",
    "sns.histplot(pd.Series(degree_cent))\n",
    "plt.tight_layout()"
   ]
  },
  {
   "cell_type": "code",
   "execution_count": null,
   "id": "966bf613",
   "metadata": {},
   "outputs": [],
   "source": [
    "# plot degrees\n",
    "degrees = pd.Series([deg[1] for deg in graph.degree])\n",
    "sns.histplot(degrees)\n",
    "plt.tight_layout()"
   ]
  },
  {
   "cell_type": "code",
   "execution_count": null,
   "id": "0d818d39",
   "metadata": {},
   "outputs": [],
   "source": [
    "# Clustering coefficient measures how close a node’s neighbors are to being a complete clique, \n",
    "# meaning how likely it is that two neighbors of a node are also directly connected.\n",
    "sns.histplot(pd.Series(clustering_coeff))\n",
    "plt.tight_layout()"
   ]
  },
  {
   "cell_type": "code",
   "execution_count": null,
   "id": "f52dc4bf",
   "metadata": {},
   "outputs": [],
   "source": [
    "# edge betweenness on ride duration: find bottlenecks in rides\n",
    "# does not really make sense\n",
    "# edge_betweenness = nx.edge_betweenness_centrality(graph, k=nx.number_of_nodes(graph), weight='ride_duration')\n",
    "# critical_connections = sorted(edge_betweenness.items(),\n",
    "#                              key=lambda x: x[1], reverse=True)[:5]\n",
    "# critical_connections"
   ]
  },
  {
   "cell_type": "code",
   "execution_count": null,
   "id": "ecf4ba5d",
   "metadata": {},
   "outputs": [],
   "source": [
    "# edge betweenness on inverse of ride count: Find bottlenecks in transport network\n",
    "# edge_betweenness = nx.edge_betweenness_centrality(graph, k=nx.number_of_nodes(graph), weight='ride_count')\n",
    "# critical_connections = sorted(edge_betweenness.items(),\n",
    "#                              key=lambda x: x[1], reverse=True)[:5]\n",
    "# critical_connections"
   ]
  },
  {
   "cell_type": "code",
   "execution_count": null,
   "id": "8729b2f0",
   "metadata": {},
   "outputs": [],
   "source": [
    "# community detection\n",
    "# nx.community.greedy_modularity_communities(graph, weight='ride_count')\n",
    "communities = nx.community.louvain_communities(graph, weight='ride_count')"
   ]
  },
  {
   "cell_type": "markdown",
   "id": "28158dea",
   "metadata": {},
   "source": [
    "### Visualize"
   ]
  },
  {
   "cell_type": "markdown",
   "id": "ac5a96f1",
   "metadata": {},
   "source": [
    "#### Data Prep"
   ]
  },
  {
   "cell_type": "code",
   "execution_count": null,
   "id": "b521a337",
   "metadata": {},
   "outputs": [],
   "source": [
    "def get_most_important_edges(graph, attr_name, num_edges, self_looping=True):\n",
    "    '''\n",
    "    Create a subgraph from graph with the most important edges\n",
    "    '''\n",
    "    edges = set(graph.edges())\n",
    "    if not self_looping:\n",
    "        edges -= set(nx.selfloop_edges(graph))\n",
    "    edges_with_weights = [(u, v, graph[u][v][attr_name]) for u, v in edges]\n",
    "    # Sort edges by weight in descending order\n",
    "    edges_with_weights.sort(key=lambda x: x[2], reverse=True)\n",
    "    # Choose how many top edges to plot (e.g., top 5000)\n",
    "    return edges_with_weights[:num_edges] \n",
    "\n",
    "def create_subgraph_with_largest_edges(graph, attr_name, num_edges, self_looping=True):\n",
    "    '''\n",
    "    Create a subgraph from graph with the most important edges\n",
    "    '''\n",
    "    edges = get_most_important_edges(graph, attr_name, num_edges, self_looping)\n",
    "    return graph.edge_subgraph([(u, v) for u, v, w in edges])\n",
    "\n",
    "def create_community_subgraph_with_largest_edges(graph, communities, attr_name, num_edges, self_looping=True):\n",
    "    '''\n",
    "    Create a subgraph from graph with the most important edges\n",
    "    '''\n",
    "    edges = list()\n",
    "    for community in communities:\n",
    "        subgraph = graph.subgraph(community)\n",
    "        edges.extend(get_most_important_edges(subgraph,attr_name, num_edges, self_looping))\n",
    "    # return [(u, v) for u, v, w in edges]\n",
    "    return graph.edge_subgraph([(u, v) for u, v, w in edges])"
   ]
  },
  {
   "cell_type": "code",
   "execution_count": null,
   "id": "2b1523c8",
   "metadata": {},
   "outputs": [],
   "source": [
    "# get lat lon from graph\n",
    "def get_lat_lon_from_graph(graph, name_lat, name_lon):\n",
    "    pos = dict()\n",
    "    for key, lat in nx.get_node_attributes(graph, name=name_lat).items():\n",
    "        lon = nx.get_node_attributes(graph, name=name_lon)[key]\n",
    "        pos.update({key : (lon, lat)})\n",
    "    return pos"
   ]
  },
  {
   "cell_type": "code",
   "execution_count": null,
   "id": "8838e221",
   "metadata": {},
   "outputs": [],
   "source": [
    "# Choose how many top edges to plot (e.g., top 5000)\n",
    "# num_edges_to_plot = 100\n",
    "# graph_viz = create_subgraph_with_largest_edges(graph, 'ride_count', num_edges_to_plot, False)\n",
    "num_edges_to_plot_per_comm = 50\n",
    "graph_viz = create_community_subgraph_with_largest_edges(graph, communities, 'ride_count', num_edges_to_plot_per_comm, False)"
   ]
  },
  {
   "cell_type": "code",
   "execution_count": null,
   "id": "9acfc7cd",
   "metadata": {},
   "outputs": [],
   "source": [
    "def scale_min_max(values: pd.Series):\n",
    "    min_val = min(values)\n",
    "    range_val = max(values)-min_val\n",
    "    return (values-min_val)/range_val\n",
    "\n",
    "def scale_to_range(values: pd.Series, min_val: float, max_val: float):\n",
    "    values_norm = scale_min_max(values)\n",
    "    return values_norm * (max_val-min_val) + min_val\n"
   ]
  },
  {
   "cell_type": "code",
   "execution_count": null,
   "id": "24c1451c",
   "metadata": {},
   "outputs": [],
   "source": [
    "# node sizes\n",
    "min_size = 10\n",
    "max_size = 50\n",
    "\n",
    "# set node sizes\n",
    "node_size_viz = pd.Series({u: attr['total_count_start_end'] for u, attr in graph_viz.nodes(data=True)})\n",
    "node_size_viz = scale_to_range(node_size_viz, min_size, max_size)\n",
    "nx.set_node_attributes(graph_viz, node_size_viz.to_dict(), 'size')"
   ]
  },
  {
   "cell_type": "code",
   "execution_count": null,
   "id": "f0a04094",
   "metadata": {},
   "outputs": [],
   "source": [
    "sns.scatterplot(node_size_viz)"
   ]
  },
  {
   "cell_type": "code",
   "execution_count": null,
   "id": "0d6375aa",
   "metadata": {},
   "outputs": [],
   "source": [
    "# node colors\n",
    "color_map = {\n",
    "   0 : \"#d1780b\",\n",
    "   1 : \"#0a2a8c\",\n",
    "   2 : \"#12780b\",\n",
    "   3 : \"#8c0a6b\",\n",
    "   4 : \"#0dc4b8\",\n",
    "   5 : \"#caad06\"\n",
    "}\n",
    "\n",
    "def get_community_id(node_id, communities):\n",
    "    for key, community in communities:\n",
    "        if node_id in community:\n",
    "            id = node_id\n",
    "    return id\n",
    "\n",
    "node_to_community_id = {}\n",
    "for i, community_nodes in enumerate(communities):\n",
    "    for node in community_nodes:\n",
    "        node_to_community_id[node] = i\n",
    "\n",
    "nx.set_node_attributes(graph_viz, node_to_community_id, 'community_id')\n",
    "\n",
    "node_colors = [graph_viz.nodes[node]['community_id'] for node in graph_viz.nodes()]\n",
    "edge_colors = np.add([np.sign(attr['eigenvector_cent']) for u, attr in graph_viz.nodes(data=True)], 2)"
   ]
  },
  {
   "cell_type": "code",
   "execution_count": null,
   "id": "fc69dc52",
   "metadata": {},
   "outputs": [],
   "source": [
    "node_colors_dict = {node : color_map[graph_viz.nodes[node]['community_id']] for node in graph_viz.nodes()}\n",
    "# node_colors_dict"
   ]
  },
  {
   "cell_type": "code",
   "execution_count": null,
   "id": "658e5e58",
   "metadata": {},
   "outputs": [],
   "source": [
    "# edge weights\n",
    "min_weight = 1\n",
    "max_weight = 10\n",
    "\n",
    "weights = pd.Series({(u,v) : attr['ride_count'] for u,v, attr in graph_viz.edges(data=True)})\n",
    "weights = scale_to_range(weights, min_weight, max_weight)\n",
    "nx.set_edge_attributes(graph_viz, weights.to_dict(), 'weight')"
   ]
  },
  {
   "cell_type": "markdown",
   "id": "aa4ba302",
   "metadata": {},
   "source": [
    "#### Plots"
   ]
  },
  {
   "cell_type": "code",
   "execution_count": null,
   "id": "8498a1db",
   "metadata": {},
   "outputs": [],
   "source": [
    "# community\n",
    "fig, ax = plt.subplots(1, 1, figsize=(12,12))\n",
    "\n",
    "# washington_boundary.plot(ax=ax, color='lightgray', edgecolor='black', alpha=0.5)\n",
    "washington_wards.plot(ax=ax, color='lightgray', edgecolor='black', alpha=0.5)\n",
    "\n",
    "pos = get_lat_lon_from_graph(graph_viz, 'lat', 'lon')#(attr['lat'], attr['lng']) for u, attr in graph_viz.nodes()]\n",
    "# nx.draw(graph_viz, pos=pos, with_labels=False, ax=ax, node_size=10, alpha=0.4)\n",
    "nx.draw_networkx_nodes(\n",
    "    graph_viz,\n",
    "    pos,\n",
    "    node_size=node_size_viz,\n",
    "    # edgecolors=edge_colors,\n",
    "    node_color=node_colors,\n",
    "    # cmap=plt.cm.Reds_r,\n",
    "    ax=ax\n",
    ")\n",
    "nx.draw_networkx_edges(graph_viz, pos=pos, alpha=0.4, node_size=10, ax=ax)\n",
    "\n",
    "plt.show()"
   ]
  },
  {
   "cell_type": "code",
   "execution_count": null,
   "id": "5a2c2517",
   "metadata": {},
   "outputs": [],
   "source": [
    "# Visualize directed graph\n",
    "plt.figure(figsize=(12, 12))\n",
    "# pos = nx.spring_layout(graph_viz)\n",
    "pos = nx.layout.kamada_kawai_layout(graph_viz)\n",
    "nx.draw_networkx(graph_viz,\n",
    "                 pos,\n",
    "                 arrowsize=15,\n",
    "                 arrowstyle='-|>',\n",
    "                 node_color='lightblue'\n",
    "                 )"
   ]
  },
  {
   "cell_type": "code",
   "execution_count": null,
   "id": "da7544c7",
   "metadata": {},
   "outputs": [],
   "source": [
    "nx.draw_shell(graph_viz, with_labels=True, font_weight='bold')"
   ]
  },
  {
   "cell_type": "code",
   "execution_count": null,
   "id": "c6f79c4b",
   "metadata": {},
   "outputs": [],
   "source": [
    "# interactive visualization of the network \n",
    "from pyvis.network import Network\n",
    "\n",
    "net = Network(height=800, width=1200, \n",
    "              directed=True, notebook=True, \n",
    "              # select_menu=True, filter_menu=True, \n",
    "              heading='Capital Bikeshare Station Network from 2021 - 2023'\n",
    "              )\n",
    "net.toggle_hide_nodes_on_drag(False)\n",
    "net.barnes_hut()\n",
    "net.from_nx(graph_viz,\n",
    "            # edge_weight_transf=lambda x: x['ride_count'],\n",
    "            show_edge_weights=True\n",
    "            )\n",
    "\n",
    "# net.set_options(\"\"\"\n",
    "# var options = {\n",
    "#   \"physics\": {\n",
    "#     \"enabled\": false\n",
    "#   },\n",
    "#   \"layout\": {\n",
    "#     \"improvedLayout\": false\n",
    "#   },\n",
    "#   \"nodes\": {\n",
    "#     \"font\": {\n",
    "#       \"size\": 10\n",
    "#     }\n",
    "#   },\n",
    "#   \"edges\": {\n",
    "#     \"width\": 1,\n",
    "#     \"color\": { \"inherit\": true }\n",
    "#   }\n",
    "# }\n",
    "# \"\"\")\n",
    "\n",
    "# net.prep_notebook()\n",
    "net.show(name=config['reports_data_paths']['network_graph'], notebook=False)"
   ]
  },
  {
   "cell_type": "code",
   "execution_count": null,
   "id": "ce4e9460",
   "metadata": {},
   "outputs": [],
   "source": [
    "washington_metro_stations.drop(columns=['EDITED', 'CREATED']).info()"
   ]
  },
  {
   "cell_type": "code",
   "execution_count": null,
   "id": "58e0bd12",
   "metadata": {},
   "outputs": [],
   "source": [
    "# visualize the graph on a map\n",
    "from folium.plugins import MarkerCluster # For Folium node clustering\n",
    "\n",
    "m = folium.Map(location=[LAT_DC, LNG_DC], zoom_start=12)\n",
    "\n",
    "# Add filtered edges as PolyLines\n",
    "for u, v, attr in graph_viz.edges(data=True):\n",
    "    weight          = attr['weight']\n",
    "    start_coords    = [graph_viz.nodes[u]['lat'], G.nodes[u]['lon']]\n",
    "    end_coords      = [graph_viz.nodes[v]['lat'], G.nodes[v]['lon']]\n",
    "    folium.PolyLine(\n",
    "        locations=[start_coords, end_coords],\n",
    "        color='red',\n",
    "        weight=weight, #/ 200, # Scale line thickness by weight (adjust divisor as needed)\n",
    "        opacity=0.6,\n",
    "        tooltip=f\"Trips: {weight}\" # Show trip count on hover\n",
    "    ).add_to(m)\n",
    "\n",
    "# plugins.AntPath(\n",
    "#     locations=path_locations,\n",
    "#     # You can add more options here\n",
    "# ).add_to(m)\n",
    "    \n",
    "# Add nodes using MarkerCluster for performance\n",
    "# marker_cluster = MarkerCluster(name='Stations').add_to(m)\n",
    "fg_circle = folium.FeatureGroup(name='Stations').add_to(m)\n",
    "for node_id, attrs in graph_viz.nodes(data=True):\n",
    "    # folium.Marker(\n",
    "    #     location=[attrs['lat'], attrs['lon']],\n",
    "    #     tooltip=attrs.get('name', str(node_id)), # Show name on hover\n",
    "    #     icon=folium.Icon(color='blue', icon='bicycle') # Optional icon\n",
    "    # ).add_to(marker_cluster)\n",
    "    \n",
    "    folium.Circle(\n",
    "        location=[attrs['lat'], attrs['lon']],\n",
    "        radius = node_size_viz[node_id],                # Radius in meters \n",
    "        color = node_colors_dict[node_id],\n",
    "        fill = True,\n",
    "        stroke=False,\n",
    "        fill_color = node_colors_dict[node_id],\n",
    "        fill_opacity=1,\n",
    "        opacity=1,\n",
    "    ).add_to(fg_circle)\n",
    "\n",
    "\n",
    "# bicycle lane layer\n",
    "folium.GeoJson(\n",
    "    data=washington_bicycle_lanes.to_json(), # Convert GeoDataFrame to GeoJSON string\n",
    "    name='Bicycle Lanes',           # Name for the layer in LayerControl\n",
    "    style_function=lambda x: {      # Customize the style of the ward polygons\n",
    "    # 'fillColor': '#8c510a',       # A brown-ish color\n",
    "        'color': 'blue',            # Border color\n",
    "        'weight': 2,                # Border weight\n",
    "        'fillOpacity': 0.2          # Transparency of the fill\n",
    "    },\n",
    "    show=False\n",
    ").add_to(m)\n",
    "\n",
    "folium.GeoJson(\n",
    "    data=washington_metro_stations.drop(columns=['EDITED', 'CREATED']).to_json(), # Convert GeoDataFrame to GeoJSON string\n",
    "    name='Metro stations',           # Name for the layer in LayerControl\n",
    "    style_function=lambda x: {      # Customize the style of the ward polygons\n",
    "    # 'fillColor': '#8c510a',       # A brown-ish color\n",
    "        'color': 'green',            # Border color\n",
    "        'weight': 2,                # Border weight\n",
    "        'fillOpacity': 0.2          # Transparency of the fill\n",
    "    },\n",
    "    show=False\n",
    ").add_to(m)\n",
    "\n",
    "folium.LayerControl().add_to(m)\n",
    "\n",
    "# Save the Folium map to an HTML file\n",
    "folium_output_path = config['reports_data_paths']['network_graph_on_map']\n",
    "m.save(folium_output_path)\n",
    "print(f\"\\nFolium map saved to {folium_output_path}\")"
   ]
  },
  {
   "cell_type": "code",
   "execution_count": null,
   "id": "9a4a9523",
   "metadata": {},
   "outputs": [],
   "source": [
    "import plotly.graph_objects as go # For Plotly\n",
    "\n",
    "# # --- 4. Drawing with Plotly (for more customizable, publication-ready interactivity) ---\n",
    "\n",
    "# # Prepare node data for Plotly\n",
    "# node_lats = [attrs['lat'] for _, attrs in G.nodes(data=True)]\n",
    "# node_lons = [attrs['lon'] for _, attrs in G.nodes(data=True)]\n",
    "# node_names = [attrs['name'] for _, attrs in G.nodes(data=True)]\n",
    "\n",
    "# # Prepare edge data for Plotly (list of lists/tuples for lines)\n",
    "# edge_x = []\n",
    "# edge_y = []\n",
    "# edge_weights = []\n",
    "# for u, v, weight in filtered_edges:\n",
    "#     start_lat, start_lon = G.nodes[u]['lat'], G.nodes[u]['lon']\n",
    "#     end_lat, end_lon = G.nodes[v]['lat'], G.nodes[v]['lon']\n",
    "#     edge_x.extend([start_lon, end_lon, None]) # None creates a break between lines\n",
    "#     edge_y.extend([start_lat, end_lat, None])\n",
    "#     edge_weights.extend([weight, weight, None]) # Repeat weight for line segments\n",
    "\n",
    "# fig = go.Figure()\n",
    "\n",
    "# # Add Edges Layer\n",
    "# fig.add_trace(go.Scattermapbox(\n",
    "#     mode=\"lines\",\n",
    "#     lon=edge_x,\n",
    "#     lat=edge_y,\n",
    "#     # You can color/size edges based on weight here, using a custom hovertext\n",
    "#     line=dict(\n",
    "#         width=[w / 200 for w in edge_weights if w is not None], # Scale line thickness\n",
    "#         color='blue', # Or scale color by weight using a colorscale\n",
    "#         opacity=0.5\n",
    "#     ),\n",
    "#     hoverinfo=\"text\",\n",
    "#     text=[f\"Trips: {w}\" if w is not None else \"\" for w in edge_weights],\n",
    "#     name=\"Edges\"\n",
    "# ))\n",
    "\n",
    "# # Add Nodes Layer\n",
    "# fig.add_trace(go.Scattermapbox(\n",
    "#     mode=\"markers\",\n",
    "#     lon=node_lons,\n",
    "#     lat=node_lats,\n",
    "#     text=node_names, # Text for tooltip on hover\n",
    "#     marker=dict(\n",
    "#         size=8,\n",
    "#         color='red', # You can also color nodes based on centrality, etc.\n",
    "#         opacity=0.8\n",
    "#     ),\n",
    "#     hoverinfo='text',\n",
    "#     name=\"Nodes\"\n",
    "# ))\n",
    "\n",
    "# fig.update_layout(\n",
    "#     mapbox_style=\"carto-positron\", # Choose a map style (e.g., \"open-street-map\", \"carto-darkmatter\")\n",
    "#     mapbox_zoom=11.5, # Adjust zoom level\n",
    "#     mapbox_center={\"lat\": avg_lat, \"lon\": avg_lon},\n",
    "#     title='Interactive Bikeshare Network on Map (Plotly)',\n",
    "#     showlegend=False, # Hide legend if not needed for these simple traces\n",
    "#     margin={\"r\":0,\"t\":40,\"l\":0,\"b\":0} # Adjust margins\n",
    "# )\n",
    "\n",
    "# # Save the Plotly map to an HTML file\n",
    "# plotly_output_path = 'network_map_plotly.html'\n",
    "# fig.write_html(plotly_output_path)\n",
    "# print(f\"Plotly map saved to {plotly_output_path}\")"
   ]
  },
  {
   "cell_type": "markdown",
   "id": "1aa433f9",
   "metadata": {},
   "source": [
    "# Time Series Analysis for Daily Rides in a Community"
   ]
  },
  {
   "cell_type": "code",
   "execution_count": null,
   "id": "7a3359f5",
   "metadata": {},
   "outputs": [],
   "source": [
    "bdays = pd.Series(pd.bdate_range(start='2021.01.01', end='2024.01.01', inclusive='left').to_pydatetime()).dt.date\n",
    "mask = ((df.ended_at.dt.year>2022) & \n",
    "        (df.member_casual=='casual') & \n",
    "        ~df.is_holiday & \n",
    "        df.end_is_within_city & \n",
    "        df.ended_at.dt.date.isin(bdays)\n",
    "        )\n",
    "\n",
    "# grouper_h = pd.Grouper(key='ended_at', level=None, freq='h', axis=0, sort=False)\n",
    "hourly_rides_end = df[mask].groupby(by=[df.ended_at.dt.hour, 'end_station_id']).size().rename('ride_ends_cnt').reset_index()\n",
    "hourly_rides_end = pd.merge(hourly_rides_end, stations[['lat_median', 'lng_median']], left_on=['end_station_id'], right_index=True, how='left')\n",
    "hourly_rides_end = hourly_rides_end.rename(columns={'ended_at':'hour', 'end_station_id':'station_id', 'lat_median':'lat', 'lng_median':'lng'})\n",
    "# hourly_rides_end\n",
    "\n",
    "hourly_rides_start = df[mask].groupby(by=[df.started_at.dt.hour, 'start_station_id']).size().rename('ride_starts_cnt').reset_index()\n",
    "hourly_rides_start = pd.merge(hourly_rides_start, stations[['lat_median', 'lng_median']], left_on=['start_station_id'], right_index=True, how='left')\n",
    "hourly_rides_start = hourly_rides_start.rename(columns={'started_at':'hour', 'start_station_id':'station_id', 'lat_median':'lat', 'lng_median':'lng'})\n",
    "# hourly_rides_start"
   ]
  },
  {
   "cell_type": "code",
   "execution_count": null,
   "id": "de739b21",
   "metadata": {},
   "outputs": [],
   "source": [
    "hourly_rides_end.head()"
   ]
  },
  {
   "cell_type": "code",
   "execution_count": null,
   "id": "cc27221e",
   "metadata": {},
   "outputs": [],
   "source": [
    "def hourly_rides_2_map(time_series, col, intensify_factor, log_scale):\n",
    "    if log_scale:\n",
    "        return [[row.lat, row.lng, intensify_factor*np.log1p(row[col])] for _, row in time_series.iterrows() if row[col]>0.]\n",
    "    else:\n",
    "        return [[row.lat, row.lng, intensify_factor*row[col]] for _, row in time_series.iterrows() if row[col]>0.]"
   ]
  },
  {
   "cell_type": "code",
   "execution_count": null,
   "id": "f10026cb",
   "metadata": {},
   "outputs": [],
   "source": [
    "# Time resolved Heatmap: end of ride density\n",
    "# How are people moving around?\n",
    "\n",
    "# stations density over time on a heatmap\n",
    "intensify_factor = 1\n",
    "\n",
    "f = folium.Figure(width=1000, height=1200)\n",
    "m = folium.Map(location=[LAT_DC, LNG_DC], zoom_start=12).add_to(f)\n",
    "\n",
    "# time resolved station density heatmap\n",
    "points_in_time = pd.Series(range(24))\n",
    "time_series_df = [hourly_rides_end[hourly_rides_end.hour == hour] for hour in points_in_time]\n",
    "time_series_df = normalize_weights(time_series_df, 'ride_ends_cnt')\n",
    "\n",
    "data = [hourly_rides_2_map(df, 'ride_ends_cnt', intensify_factor, True) for df in time_series_df]\n",
    "\n",
    "hm = plugins.HeatMapWithTime(data,\n",
    "                             name='End of Rides per hour',\n",
    "                             min_opacity=0.05, max_opacity=0.9,\n",
    "                             min_speed=5, max_speed=10,\n",
    "                             radius=50,\n",
    "                             index=points_in_time.astype(str).to_list(),\n",
    "                             auto_play=True,\n",
    "                             ).add_to(m)\n",
    "\n",
    "m"
   ]
  },
  {
   "cell_type": "code",
   "execution_count": null,
   "id": "64683553",
   "metadata": {},
   "outputs": [],
   "source": [
    "# stations density over time on a heatmap\n",
    "intensify_factor = 1\n",
    "\n",
    "f = folium.Figure(width=1000, height=1200)\n",
    "m = folium.Map(location=[LAT_DC, LNG_DC], zoom_start=12).add_to(f)\n",
    "\n",
    "# time resolved station density heatmap\n",
    "points_in_time = pd.Series(range(24))\n",
    "time_series_df = [hourly_rides_start[hourly_rides_start.hour == hour] for hour in points_in_time]\n",
    "time_series_df = normalize_weights(time_series_df, 'ride_starts_cnt')\n",
    "\n",
    "data = [hourly_rides_2_map(df, 'ride_starts_cnt', intensify_factor, True) for df in time_series_df]\n",
    "\n",
    "hm = plugins.HeatMapWithTime(data,\n",
    "                             name='Start of Rides per hour',\n",
    "                             min_opacity=0.05, max_opacity=0.9,\n",
    "                             min_speed=5, max_speed=10,\n",
    "                             radius=50,\n",
    "                             index=points_in_time.astype(str).to_list(),\n",
    "                             auto_play=True,\n",
    "                             ).add_to(m)\n",
    "\n",
    "m"
   ]
  },
  {
   "cell_type": "code",
   "execution_count": null,
   "id": "5c74a398",
   "metadata": {},
   "outputs": [],
   "source": [
    "# Time series analysis on Community\n",
    "# Analyse the daily rides that connect the stations"
   ]
  }
 ],
 "metadata": {
  "kernelspec": {
   "display_name": "base_data_analysis",
   "language": "python",
   "name": "python3"
  },
  "language_info": {
   "codemirror_mode": {
    "name": "ipython",
    "version": 3
   },
   "file_extension": ".py",
   "mimetype": "text/x-python",
   "name": "python",
   "nbconvert_exporter": "python",
   "pygments_lexer": "ipython3",
   "version": "3.12.3"
  }
 },
 "nbformat": 4,
 "nbformat_minor": 5
}
