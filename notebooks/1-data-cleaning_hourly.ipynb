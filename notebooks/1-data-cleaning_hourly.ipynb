{
 "cells": [
  {
   "cell_type": "markdown",
   "id": "41821407",
   "metadata": {},
   "source": [
    "# Data Cleaning"
   ]
  },
  {
   "cell_type": "code",
   "execution_count": 104,
   "id": "24808c92",
   "metadata": {},
   "outputs": [],
   "source": [
    "import yaml\n",
    "\n",
    "import pandas as pd"
   ]
  },
  {
   "cell_type": "code",
   "execution_count": 105,
   "id": "96497b84",
   "metadata": {},
   "outputs": [
    {
     "data": {
      "text/plain": [
       "{'raw_data_paths': {'daily': '../data/raw/CBS_2021-2023_Daily_Weather.csv',\n",
       "  'hourly': '../data/raw/CBS_2021-2023_Hourly_Weather.csv',\n",
       "  'full': '../data/raw/CBS_2021-2023_Full.csv'},\n",
       " 'processed_data_paths': {'daily': '../data/processed/daily_data.parquet',\n",
       "  'hourly': '../data/processed/hourly_data.parquet'}}"
      ]
     },
     "execution_count": 105,
     "metadata": {},
     "output_type": "execute_result"
    }
   ],
   "source": [
    "with open(\"../config/config.yaml\", \"r\") as file:\n",
    "    config = yaml.safe_load(file)\n",
    "config"
   ]
  },
  {
   "cell_type": "markdown",
   "id": "40101a3f",
   "metadata": {},
   "source": [
    "# Load"
   ]
  },
  {
   "cell_type": "code",
   "execution_count": 106,
   "id": "c933db29",
   "metadata": {},
   "outputs": [],
   "source": [
    "data_hourly = pd.read_csv(config['raw_data_paths']['hourly'])"
   ]
  },
  {
   "cell_type": "code",
   "execution_count": 107,
   "id": "4d53ae23",
   "metadata": {},
   "outputs": [
    {
     "data": {
      "application/vnd.microsoft.datawrangler.viewer.v0+json": {
       "columns": [
        {
         "name": "index",
         "rawType": "int64",
         "type": "integer"
        },
        {
         "name": "Casual",
         "rawType": "float64",
         "type": "float"
        },
        {
         "name": "Date",
         "rawType": "object",
         "type": "string"
        },
        {
         "name": "Hour",
         "rawType": "int64",
         "type": "integer"
        },
        {
         "name": "Member",
         "rawType": "float64",
         "type": "float"
        },
        {
         "name": "Total_rides",
         "rawType": "float64",
         "type": "float"
        },
        {
         "name": "relativehumidity_2m (%)",
         "rawType": "int64",
         "type": "integer"
        },
        {
         "name": "temperature_2m (°C)",
         "rawType": "float64",
         "type": "float"
        },
        {
         "name": "weathercode (wmo code)",
         "rawType": "int64",
         "type": "integer"
        },
        {
         "name": "windspeed_10m (km/h)",
         "rawType": "float64",
         "type": "float"
        }
       ],
       "conversionMethod": "pd.DataFrame",
       "ref": "70bc69fe-ea11-4ef1-9843-26789422aa87",
       "rows": [
        [
         "0",
         "20.0",
         "2021-01-01",
         "0",
         "26.0",
         "46.0",
         "90",
         "2.4",
         "1",
         "10.2"
        ],
        [
         "1",
         "23.0",
         "2021-01-01",
         "1",
         "23.0",
         "46.0",
         "88",
         "1.8",
         "1",
         "10.0"
        ],
        [
         "2",
         "20.0",
         "2021-01-01",
         "2",
         "28.0",
         "48.0",
         "87",
         "1.1",
         "2",
         "10.1"
        ],
        [
         "3",
         "9.0",
         "2021-01-01",
         "3",
         "7.0",
         "16.0",
         "81",
         "1.6",
         "2",
         "10.6"
        ],
        [
         "4",
         "7.0",
         "2021-01-01",
         "4",
         "5.0",
         "12.0",
         "77",
         "1.6",
         "2",
         "9.9"
        ]
       ],
       "shape": {
        "columns": 9,
        "rows": 5
       }
      },
      "text/html": [
       "<div>\n",
       "<style scoped>\n",
       "    .dataframe tbody tr th:only-of-type {\n",
       "        vertical-align: middle;\n",
       "    }\n",
       "\n",
       "    .dataframe tbody tr th {\n",
       "        vertical-align: top;\n",
       "    }\n",
       "\n",
       "    .dataframe thead th {\n",
       "        text-align: right;\n",
       "    }\n",
       "</style>\n",
       "<table border=\"1\" class=\"dataframe\">\n",
       "  <thead>\n",
       "    <tr style=\"text-align: right;\">\n",
       "      <th></th>\n",
       "      <th>Casual</th>\n",
       "      <th>Date</th>\n",
       "      <th>Hour</th>\n",
       "      <th>Member</th>\n",
       "      <th>Total_rides</th>\n",
       "      <th>relativehumidity_2m (%)</th>\n",
       "      <th>temperature_2m (°C)</th>\n",
       "      <th>weathercode (wmo code)</th>\n",
       "      <th>windspeed_10m (km/h)</th>\n",
       "    </tr>\n",
       "  </thead>\n",
       "  <tbody>\n",
       "    <tr>\n",
       "      <th>0</th>\n",
       "      <td>20.0</td>\n",
       "      <td>2021-01-01</td>\n",
       "      <td>0</td>\n",
       "      <td>26.0</td>\n",
       "      <td>46.0</td>\n",
       "      <td>90</td>\n",
       "      <td>2.4</td>\n",
       "      <td>1</td>\n",
       "      <td>10.2</td>\n",
       "    </tr>\n",
       "    <tr>\n",
       "      <th>1</th>\n",
       "      <td>23.0</td>\n",
       "      <td>2021-01-01</td>\n",
       "      <td>1</td>\n",
       "      <td>23.0</td>\n",
       "      <td>46.0</td>\n",
       "      <td>88</td>\n",
       "      <td>1.8</td>\n",
       "      <td>1</td>\n",
       "      <td>10.0</td>\n",
       "    </tr>\n",
       "    <tr>\n",
       "      <th>2</th>\n",
       "      <td>20.0</td>\n",
       "      <td>2021-01-01</td>\n",
       "      <td>2</td>\n",
       "      <td>28.0</td>\n",
       "      <td>48.0</td>\n",
       "      <td>87</td>\n",
       "      <td>1.1</td>\n",
       "      <td>2</td>\n",
       "      <td>10.1</td>\n",
       "    </tr>\n",
       "    <tr>\n",
       "      <th>3</th>\n",
       "      <td>9.0</td>\n",
       "      <td>2021-01-01</td>\n",
       "      <td>3</td>\n",
       "      <td>7.0</td>\n",
       "      <td>16.0</td>\n",
       "      <td>81</td>\n",
       "      <td>1.6</td>\n",
       "      <td>2</td>\n",
       "      <td>10.6</td>\n",
       "    </tr>\n",
       "    <tr>\n",
       "      <th>4</th>\n",
       "      <td>7.0</td>\n",
       "      <td>2021-01-01</td>\n",
       "      <td>4</td>\n",
       "      <td>5.0</td>\n",
       "      <td>12.0</td>\n",
       "      <td>77</td>\n",
       "      <td>1.6</td>\n",
       "      <td>2</td>\n",
       "      <td>9.9</td>\n",
       "    </tr>\n",
       "  </tbody>\n",
       "</table>\n",
       "</div>"
      ],
      "text/plain": [
       "   Casual        Date  Hour  Member  Total_rides  relativehumidity_2m (%)  \\\n",
       "0    20.0  2021-01-01     0    26.0         46.0                       90   \n",
       "1    23.0  2021-01-01     1    23.0         46.0                       88   \n",
       "2    20.0  2021-01-01     2    28.0         48.0                       87   \n",
       "3     9.0  2021-01-01     3     7.0         16.0                       81   \n",
       "4     7.0  2021-01-01     4     5.0         12.0                       77   \n",
       "\n",
       "   temperature_2m (°C)  weathercode (wmo code)  windspeed_10m (km/h)  \n",
       "0                  2.4                       1                  10.2  \n",
       "1                  1.8                       1                  10.0  \n",
       "2                  1.1                       2                  10.1  \n",
       "3                  1.6                       2                  10.6  \n",
       "4                  1.6                       2                   9.9  "
      ]
     },
     "execution_count": 107,
     "metadata": {},
     "output_type": "execute_result"
    }
   ],
   "source": [
    "data_hourly.head()"
   ]
  },
  {
   "cell_type": "code",
   "execution_count": 108,
   "id": "9e19b469",
   "metadata": {},
   "outputs": [],
   "source": [
    "# import csv\n",
    "\n",
    "# weathercodes = pd.read_csv('../data/raw/WMO2011h.csv', sep=';', quotechar='\"', quoting=csv.QUOTE_NONNUMERIC, on_bad_lines='warn')\n",
    "# weathercodes"
   ]
  },
  {
   "cell_type": "markdown",
   "id": "b1607ae0",
   "metadata": {},
   "source": [
    "# Data Cleaning"
   ]
  },
  {
   "cell_type": "markdown",
   "id": "f587cb3c",
   "metadata": {},
   "source": [
    "## Combine Date and Hour Data"
   ]
  },
  {
   "cell_type": "code",
   "execution_count": 109,
   "id": "63c81926",
   "metadata": {},
   "outputs": [],
   "source": [
    "data_hourly.Date = pd.to_datetime(data_hourly.Date)\n",
    "data_hourly['Datetime'] = [x + np.timedelta64(h, 'h') for x,h in zip(data_hourly.Date.values, data_hourly.Hour)]\n",
    "data_hourly = data_hourly.drop(columns=['Date', 'Hour'])\n",
    "data_hourly.Datetime = data_hourly.Datetime.values.astype('datetime64[h]')"
   ]
  },
  {
   "cell_type": "code",
   "execution_count": 110,
   "id": "daa611dc",
   "metadata": {},
   "outputs": [
    {
     "data": {
      "text/plain": [
       "Index(['Casual', 'Member', 'Total_rides', 'relativehumidity_2m (%)',\n",
       "       'temperature_2m (°C)', 'weathercode (wmo code)', 'windspeed_10m (km/h)',\n",
       "       'Datetime'],\n",
       "      dtype='object')"
      ]
     },
     "execution_count": 110,
     "metadata": {},
     "output_type": "execute_result"
    }
   ],
   "source": [
    "data_hourly.columns"
   ]
  },
  {
   "cell_type": "markdown",
   "id": "1446e249",
   "metadata": {},
   "source": [
    "## Rename Cols"
   ]
  },
  {
   "cell_type": "code",
   "execution_count": 111,
   "id": "f55f27bc",
   "metadata": {},
   "outputs": [],
   "source": [
    "rename_col = {\n",
    "    'relativehumidity_2m (%)'   : 'relativehumidity_2m',\n",
    "    'temperature_2m (°C)'       : 'temperature_2m',\n",
    "    'weathercode (wmo code)'    : 'wmo_code',\n",
    "    'windspeed_10m (km/h)'      : 'windspeed_10m'\n",
    "    }\n",
    "data_hourly = data_hourly.rename(columns=rename_col)\n",
    "data_hourly = data_hourly.rename(columns=lambda x: x.lower())"
   ]
  },
  {
   "cell_type": "markdown",
   "id": "cd56983e",
   "metadata": {},
   "source": [
    "# Info, Head, Describe "
   ]
  },
  {
   "cell_type": "code",
   "execution_count": 112,
   "id": "04aafffd",
   "metadata": {},
   "outputs": [
    {
     "name": "stdout",
     "output_type": "stream",
     "text": [
      "<class 'pandas.core.frame.DataFrame'>\n",
      "RangeIndex: 26280 entries, 0 to 26279\n",
      "Data columns (total 8 columns):\n",
      " #   Column               Non-Null Count  Dtype        \n",
      "---  ------               --------------  -----        \n",
      " 0   casual               26269 non-null  float64      \n",
      " 1   member               26269 non-null  float64      \n",
      " 2   total_rides          26269 non-null  float64      \n",
      " 3   relativehumidity_2m  26280 non-null  int64        \n",
      " 4   temperature_2m       26280 non-null  float64      \n",
      " 5   wmo_code             26280 non-null  int64        \n",
      " 6   windspeed_10m        26280 non-null  float64      \n",
      " 7   datetime             26280 non-null  datetime64[s]\n",
      "dtypes: datetime64[s](1), float64(5), int64(2)\n",
      "memory usage: 1.6 MB\n"
     ]
    }
   ],
   "source": [
    "data_hourly.info()"
   ]
  },
  {
   "cell_type": "code",
   "execution_count": 113,
   "id": "e59dfa1b",
   "metadata": {},
   "outputs": [
    {
     "data": {
      "application/vnd.microsoft.datawrangler.viewer.v0+json": {
       "columns": [
        {
         "name": "index",
         "rawType": "int64",
         "type": "integer"
        },
        {
         "name": "casual",
         "rawType": "float64",
         "type": "float"
        },
        {
         "name": "member",
         "rawType": "float64",
         "type": "float"
        },
        {
         "name": "total_rides",
         "rawType": "float64",
         "type": "float"
        },
        {
         "name": "relativehumidity_2m",
         "rawType": "int64",
         "type": "integer"
        },
        {
         "name": "temperature_2m",
         "rawType": "float64",
         "type": "float"
        },
        {
         "name": "wmo_code",
         "rawType": "int64",
         "type": "integer"
        },
        {
         "name": "windspeed_10m",
         "rawType": "float64",
         "type": "float"
        },
        {
         "name": "datetime",
         "rawType": "datetime64[s]",
         "type": "unknown"
        }
       ],
       "conversionMethod": "pd.DataFrame",
       "ref": "36befd8e-cf9d-4315-bb74-00a551903160",
       "rows": [
        [
         "0",
         "20.0",
         "26.0",
         "46.0",
         "90",
         "2.4",
         "1",
         "10.2",
         "2021-01-01 00:00:00"
        ],
        [
         "1",
         "23.0",
         "23.0",
         "46.0",
         "88",
         "1.8",
         "1",
         "10.0",
         "2021-01-01 01:00:00"
        ],
        [
         "2",
         "20.0",
         "28.0",
         "48.0",
         "87",
         "1.1",
         "2",
         "10.1",
         "2021-01-01 02:00:00"
        ],
        [
         "3",
         "9.0",
         "7.0",
         "16.0",
         "81",
         "1.6",
         "2",
         "10.6",
         "2021-01-01 03:00:00"
        ],
        [
         "4",
         "7.0",
         "5.0",
         "12.0",
         "77",
         "1.6",
         "2",
         "9.9",
         "2021-01-01 04:00:00"
        ]
       ],
       "shape": {
        "columns": 8,
        "rows": 5
       }
      },
      "text/html": [
       "<div>\n",
       "<style scoped>\n",
       "    .dataframe tbody tr th:only-of-type {\n",
       "        vertical-align: middle;\n",
       "    }\n",
       "\n",
       "    .dataframe tbody tr th {\n",
       "        vertical-align: top;\n",
       "    }\n",
       "\n",
       "    .dataframe thead th {\n",
       "        text-align: right;\n",
       "    }\n",
       "</style>\n",
       "<table border=\"1\" class=\"dataframe\">\n",
       "  <thead>\n",
       "    <tr style=\"text-align: right;\">\n",
       "      <th></th>\n",
       "      <th>casual</th>\n",
       "      <th>member</th>\n",
       "      <th>total_rides</th>\n",
       "      <th>relativehumidity_2m</th>\n",
       "      <th>temperature_2m</th>\n",
       "      <th>wmo_code</th>\n",
       "      <th>windspeed_10m</th>\n",
       "      <th>datetime</th>\n",
       "    </tr>\n",
       "  </thead>\n",
       "  <tbody>\n",
       "    <tr>\n",
       "      <th>0</th>\n",
       "      <td>20.0</td>\n",
       "      <td>26.0</td>\n",
       "      <td>46.0</td>\n",
       "      <td>90</td>\n",
       "      <td>2.4</td>\n",
       "      <td>1</td>\n",
       "      <td>10.2</td>\n",
       "      <td>2021-01-01 00:00:00</td>\n",
       "    </tr>\n",
       "    <tr>\n",
       "      <th>1</th>\n",
       "      <td>23.0</td>\n",
       "      <td>23.0</td>\n",
       "      <td>46.0</td>\n",
       "      <td>88</td>\n",
       "      <td>1.8</td>\n",
       "      <td>1</td>\n",
       "      <td>10.0</td>\n",
       "      <td>2021-01-01 01:00:00</td>\n",
       "    </tr>\n",
       "    <tr>\n",
       "      <th>2</th>\n",
       "      <td>20.0</td>\n",
       "      <td>28.0</td>\n",
       "      <td>48.0</td>\n",
       "      <td>87</td>\n",
       "      <td>1.1</td>\n",
       "      <td>2</td>\n",
       "      <td>10.1</td>\n",
       "      <td>2021-01-01 02:00:00</td>\n",
       "    </tr>\n",
       "    <tr>\n",
       "      <th>3</th>\n",
       "      <td>9.0</td>\n",
       "      <td>7.0</td>\n",
       "      <td>16.0</td>\n",
       "      <td>81</td>\n",
       "      <td>1.6</td>\n",
       "      <td>2</td>\n",
       "      <td>10.6</td>\n",
       "      <td>2021-01-01 03:00:00</td>\n",
       "    </tr>\n",
       "    <tr>\n",
       "      <th>4</th>\n",
       "      <td>7.0</td>\n",
       "      <td>5.0</td>\n",
       "      <td>12.0</td>\n",
       "      <td>77</td>\n",
       "      <td>1.6</td>\n",
       "      <td>2</td>\n",
       "      <td>9.9</td>\n",
       "      <td>2021-01-01 04:00:00</td>\n",
       "    </tr>\n",
       "  </tbody>\n",
       "</table>\n",
       "</div>"
      ],
      "text/plain": [
       "   casual  member  total_rides  relativehumidity_2m  temperature_2m  wmo_code  \\\n",
       "0    20.0    26.0         46.0                   90             2.4         1   \n",
       "1    23.0    23.0         46.0                   88             1.8         1   \n",
       "2    20.0    28.0         48.0                   87             1.1         2   \n",
       "3     9.0     7.0         16.0                   81             1.6         2   \n",
       "4     7.0     5.0         12.0                   77             1.6         2   \n",
       "\n",
       "   windspeed_10m            datetime  \n",
       "0           10.2 2021-01-01 00:00:00  \n",
       "1           10.0 2021-01-01 01:00:00  \n",
       "2           10.1 2021-01-01 02:00:00  \n",
       "3           10.6 2021-01-01 03:00:00  \n",
       "4            9.9 2021-01-01 04:00:00  "
      ]
     },
     "execution_count": 113,
     "metadata": {},
     "output_type": "execute_result"
    }
   ],
   "source": [
    "data_hourly.head()"
   ]
  },
  {
   "cell_type": "code",
   "execution_count": 114,
   "id": "d062d885",
   "metadata": {},
   "outputs": [
    {
     "data": {
      "application/vnd.microsoft.datawrangler.viewer.v0+json": {
       "columns": [
        {
         "name": "index",
         "rawType": "object",
         "type": "string"
        },
        {
         "name": "casual",
         "rawType": "float64",
         "type": "float"
        },
        {
         "name": "member",
         "rawType": "float64",
         "type": "float"
        },
        {
         "name": "total_rides",
         "rawType": "float64",
         "type": "float"
        },
        {
         "name": "relativehumidity_2m",
         "rawType": "float64",
         "type": "float"
        },
        {
         "name": "temperature_2m",
         "rawType": "float64",
         "type": "float"
        },
        {
         "name": "wmo_code",
         "rawType": "float64",
         "type": "float"
        },
        {
         "name": "windspeed_10m",
         "rawType": "float64",
         "type": "float"
        },
        {
         "name": "datetime",
         "rawType": "object",
         "type": "unknown"
        }
       ],
       "conversionMethod": "pd.DataFrame",
       "ref": "8ee97c3c-bd70-481b-b038-bd2107865fe8",
       "rows": [
        [
         "count",
         "26269.0",
         "26269.0",
         "26269.0",
         "26280.0",
         "26280.0",
         "26280.0",
         "26280.0",
         "26280"
        ],
        [
         "mean",
         "159.93006966386235",
         "247.16563249457536",
         "407.0957021584377",
         "62.96788432267884",
         "14.412781582952817",
         "7.228310502283105",
         "10.171297564687976",
         "2022-07-02 11:30:00"
        ],
        [
         "min",
         "0.0",
         "0.0",
         "1.0",
         "5.0",
         "-14.6",
         "0.0",
         "0.0",
         "2021-01-01 00:00:00"
        ],
        [
         "25%",
         "28.0",
         "55.0",
         "85.0",
         "46.0",
         "6.1",
         "0.0",
         "6.5",
         "2021-10-01 17:45:00"
        ],
        [
         "50%",
         "105.0",
         "203.0",
         "319.0",
         "64.0",
         "14.8",
         "1.0",
         "9.2",
         "2022-07-02 11:30:00"
        ],
        [
         "75%",
         "237.0",
         "371.0",
         "616.0",
         "82.0",
         "22.7",
         "2.0",
         "12.9",
         "2023-04-02 05:15:00"
        ],
        [
         "max",
         "1206.0",
         "1534.0",
         "2262.0",
         "100.0",
         "41.5",
         "75.0",
         "40.1",
         "2023-12-31 23:00:00"
        ],
        [
         "std",
         "167.33042646484438",
         "225.28353928984384",
         "373.0054092174764",
         "22.724320051589622",
         "10.28575105593498",
         "17.630961364088193",
         "5.261033481767953",
         null
        ]
       ],
       "shape": {
        "columns": 8,
        "rows": 8
       }
      },
      "text/html": [
       "<div>\n",
       "<style scoped>\n",
       "    .dataframe tbody tr th:only-of-type {\n",
       "        vertical-align: middle;\n",
       "    }\n",
       "\n",
       "    .dataframe tbody tr th {\n",
       "        vertical-align: top;\n",
       "    }\n",
       "\n",
       "    .dataframe thead th {\n",
       "        text-align: right;\n",
       "    }\n",
       "</style>\n",
       "<table border=\"1\" class=\"dataframe\">\n",
       "  <thead>\n",
       "    <tr style=\"text-align: right;\">\n",
       "      <th></th>\n",
       "      <th>casual</th>\n",
       "      <th>member</th>\n",
       "      <th>total_rides</th>\n",
       "      <th>relativehumidity_2m</th>\n",
       "      <th>temperature_2m</th>\n",
       "      <th>wmo_code</th>\n",
       "      <th>windspeed_10m</th>\n",
       "      <th>datetime</th>\n",
       "    </tr>\n",
       "  </thead>\n",
       "  <tbody>\n",
       "    <tr>\n",
       "      <th>count</th>\n",
       "      <td>26269.000000</td>\n",
       "      <td>26269.000000</td>\n",
       "      <td>26269.000000</td>\n",
       "      <td>26280.000000</td>\n",
       "      <td>26280.000000</td>\n",
       "      <td>26280.000000</td>\n",
       "      <td>26280.000000</td>\n",
       "      <td>26280</td>\n",
       "    </tr>\n",
       "    <tr>\n",
       "      <th>mean</th>\n",
       "      <td>159.930070</td>\n",
       "      <td>247.165632</td>\n",
       "      <td>407.095702</td>\n",
       "      <td>62.967884</td>\n",
       "      <td>14.412782</td>\n",
       "      <td>7.228311</td>\n",
       "      <td>10.171298</td>\n",
       "      <td>2022-07-02 11:30:00</td>\n",
       "    </tr>\n",
       "    <tr>\n",
       "      <th>min</th>\n",
       "      <td>0.000000</td>\n",
       "      <td>0.000000</td>\n",
       "      <td>1.000000</td>\n",
       "      <td>5.000000</td>\n",
       "      <td>-14.600000</td>\n",
       "      <td>0.000000</td>\n",
       "      <td>0.000000</td>\n",
       "      <td>2021-01-01 00:00:00</td>\n",
       "    </tr>\n",
       "    <tr>\n",
       "      <th>25%</th>\n",
       "      <td>28.000000</td>\n",
       "      <td>55.000000</td>\n",
       "      <td>85.000000</td>\n",
       "      <td>46.000000</td>\n",
       "      <td>6.100000</td>\n",
       "      <td>0.000000</td>\n",
       "      <td>6.500000</td>\n",
       "      <td>2021-10-01 17:45:00</td>\n",
       "    </tr>\n",
       "    <tr>\n",
       "      <th>50%</th>\n",
       "      <td>105.000000</td>\n",
       "      <td>203.000000</td>\n",
       "      <td>319.000000</td>\n",
       "      <td>64.000000</td>\n",
       "      <td>14.800000</td>\n",
       "      <td>1.000000</td>\n",
       "      <td>9.200000</td>\n",
       "      <td>2022-07-02 11:30:00</td>\n",
       "    </tr>\n",
       "    <tr>\n",
       "      <th>75%</th>\n",
       "      <td>237.000000</td>\n",
       "      <td>371.000000</td>\n",
       "      <td>616.000000</td>\n",
       "      <td>82.000000</td>\n",
       "      <td>22.700000</td>\n",
       "      <td>2.000000</td>\n",
       "      <td>12.900000</td>\n",
       "      <td>2023-04-02 05:15:00</td>\n",
       "    </tr>\n",
       "    <tr>\n",
       "      <th>max</th>\n",
       "      <td>1206.000000</td>\n",
       "      <td>1534.000000</td>\n",
       "      <td>2262.000000</td>\n",
       "      <td>100.000000</td>\n",
       "      <td>41.500000</td>\n",
       "      <td>75.000000</td>\n",
       "      <td>40.100000</td>\n",
       "      <td>2023-12-31 23:00:00</td>\n",
       "    </tr>\n",
       "    <tr>\n",
       "      <th>std</th>\n",
       "      <td>167.330426</td>\n",
       "      <td>225.283539</td>\n",
       "      <td>373.005409</td>\n",
       "      <td>22.724320</td>\n",
       "      <td>10.285751</td>\n",
       "      <td>17.630961</td>\n",
       "      <td>5.261033</td>\n",
       "      <td>NaN</td>\n",
       "    </tr>\n",
       "  </tbody>\n",
       "</table>\n",
       "</div>"
      ],
      "text/plain": [
       "             casual        member   total_rides  relativehumidity_2m  \\\n",
       "count  26269.000000  26269.000000  26269.000000         26280.000000   \n",
       "mean     159.930070    247.165632    407.095702            62.967884   \n",
       "min        0.000000      0.000000      1.000000             5.000000   \n",
       "25%       28.000000     55.000000     85.000000            46.000000   \n",
       "50%      105.000000    203.000000    319.000000            64.000000   \n",
       "75%      237.000000    371.000000    616.000000            82.000000   \n",
       "max     1206.000000   1534.000000   2262.000000           100.000000   \n",
       "std      167.330426    225.283539    373.005409            22.724320   \n",
       "\n",
       "       temperature_2m      wmo_code  windspeed_10m             datetime  \n",
       "count    26280.000000  26280.000000   26280.000000                26280  \n",
       "mean        14.412782      7.228311      10.171298  2022-07-02 11:30:00  \n",
       "min        -14.600000      0.000000       0.000000  2021-01-01 00:00:00  \n",
       "25%          6.100000      0.000000       6.500000  2021-10-01 17:45:00  \n",
       "50%         14.800000      1.000000       9.200000  2022-07-02 11:30:00  \n",
       "75%         22.700000      2.000000      12.900000  2023-04-02 05:15:00  \n",
       "max         41.500000     75.000000      40.100000  2023-12-31 23:00:00  \n",
       "std         10.285751     17.630961       5.261033                  NaN  "
      ]
     },
     "execution_count": 114,
     "metadata": {},
     "output_type": "execute_result"
    }
   ],
   "source": [
    "data_hourly.describe()"
   ]
  },
  {
   "cell_type": "markdown",
   "id": "5e83b5c4",
   "metadata": {},
   "source": [
    "# Export / Variable sharing"
   ]
  },
  {
   "cell_type": "code",
   "execution_count": 115,
   "id": "1e6dd192",
   "metadata": {},
   "outputs": [
    {
     "name": "stdout",
     "output_type": "stream",
     "text": [
      "Stored 'data_hourly' (DataFrame)\n"
     ]
    }
   ],
   "source": [
    "%store data_hourly"
   ]
  },
  {
   "cell_type": "code",
   "execution_count": 116,
   "id": "3fd5d9a0",
   "metadata": {},
   "outputs": [],
   "source": [
    "data_hourly.to_parquet(config['processed_data_paths']['hourly'])"
   ]
  }
 ],
 "metadata": {
  "kernelspec": {
   "display_name": "base_data_analysis",
   "language": "python",
   "name": "python3"
  },
  "language_info": {
   "codemirror_mode": {
    "name": "ipython",
    "version": 3
   },
   "file_extension": ".py",
   "mimetype": "text/x-python",
   "name": "python",
   "nbconvert_exporter": "python",
   "pygments_lexer": "ipython3",
   "version": "3.12.3"
  }
 },
 "nbformat": 4,
 "nbformat_minor": 5
}
