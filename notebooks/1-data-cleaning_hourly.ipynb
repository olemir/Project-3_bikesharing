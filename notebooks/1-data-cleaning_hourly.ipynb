{
 "cells": [
  {
   "cell_type": "markdown",
   "id": "41821407",
   "metadata": {},
   "source": [
    "# Data Cleaning"
   ]
  },
  {
   "cell_type": "code",
   "execution_count": 45,
   "id": "24808c92",
   "metadata": {},
   "outputs": [],
   "source": [
    "import yaml\n",
    "\n",
    "import pandas as pd\n",
    "import numpy as np"
   ]
  },
  {
   "cell_type": "code",
   "execution_count": 46,
   "id": "96497b84",
   "metadata": {},
   "outputs": [
    {
     "data": {
      "text/plain": [
       "{'raw_data_paths': {'daily': '../data/raw/CBS_2021-2023_Daily_Weather.csv',\n",
       "  'hourly': '../data/raw/CBS_2021-2023_Hourly_Weather.csv',\n",
       "  'full': '../data/raw/CBS_2021-2023_Full.csv'},\n",
       " 'processed_data_paths': {'daily': '../data/processed/daily_data.parquet',\n",
       "  'hourly': '../data/processed/hourly_data.parquet'}}"
      ]
     },
     "execution_count": 46,
     "metadata": {},
     "output_type": "execute_result"
    }
   ],
   "source": [
    "with open(\"../config/config.yaml\", \"r\") as file:\n",
    "    config = yaml.safe_load(file)\n",
    "config"
   ]
  },
  {
   "cell_type": "markdown",
   "id": "40101a3f",
   "metadata": {},
   "source": [
    "# Load"
   ]
  },
  {
   "cell_type": "code",
   "execution_count": 47,
   "id": "c933db29",
   "metadata": {},
   "outputs": [],
   "source": [
    "data_hourly = pd.read_csv(config['raw_data_paths']['hourly'])"
   ]
  },
  {
   "cell_type": "code",
   "execution_count": 48,
   "id": "4d53ae23",
   "metadata": {},
   "outputs": [
    {
     "data": {
      "application/vnd.microsoft.datawrangler.viewer.v0+json": {
       "columns": [
        {
         "name": "index",
         "rawType": "int64",
         "type": "integer"
        },
        {
         "name": "Casual",
         "rawType": "float64",
         "type": "float"
        },
        {
         "name": "Date",
         "rawType": "object",
         "type": "string"
        },
        {
         "name": "Hour",
         "rawType": "int64",
         "type": "integer"
        },
        {
         "name": "Member",
         "rawType": "float64",
         "type": "float"
        },
        {
         "name": "Total_rides",
         "rawType": "float64",
         "type": "float"
        },
        {
         "name": "relativehumidity_2m (%)",
         "rawType": "int64",
         "type": "integer"
        },
        {
         "name": "temperature_2m (°C)",
         "rawType": "float64",
         "type": "float"
        },
        {
         "name": "weathercode (wmo code)",
         "rawType": "int64",
         "type": "integer"
        },
        {
         "name": "windspeed_10m (km/h)",
         "rawType": "float64",
         "type": "float"
        }
       ],
       "conversionMethod": "pd.DataFrame",
       "ref": "0235104d-07a9-4e32-b358-b4e92fcb347f",
       "rows": [
        [
         "0",
         "20.0",
         "2021-01-01",
         "0",
         "26.0",
         "46.0",
         "90",
         "2.4",
         "1",
         "10.2"
        ],
        [
         "1",
         "23.0",
         "2021-01-01",
         "1",
         "23.0",
         "46.0",
         "88",
         "1.8",
         "1",
         "10.0"
        ],
        [
         "2",
         "20.0",
         "2021-01-01",
         "2",
         "28.0",
         "48.0",
         "87",
         "1.1",
         "2",
         "10.1"
        ],
        [
         "3",
         "9.0",
         "2021-01-01",
         "3",
         "7.0",
         "16.0",
         "81",
         "1.6",
         "2",
         "10.6"
        ],
        [
         "4",
         "7.0",
         "2021-01-01",
         "4",
         "5.0",
         "12.0",
         "77",
         "1.6",
         "2",
         "9.9"
        ]
       ],
       "shape": {
        "columns": 9,
        "rows": 5
       }
      },
      "text/html": [
       "<div>\n",
       "<style scoped>\n",
       "    .dataframe tbody tr th:only-of-type {\n",
       "        vertical-align: middle;\n",
       "    }\n",
       "\n",
       "    .dataframe tbody tr th {\n",
       "        vertical-align: top;\n",
       "    }\n",
       "\n",
       "    .dataframe thead th {\n",
       "        text-align: right;\n",
       "    }\n",
       "</style>\n",
       "<table border=\"1\" class=\"dataframe\">\n",
       "  <thead>\n",
       "    <tr style=\"text-align: right;\">\n",
       "      <th></th>\n",
       "      <th>Casual</th>\n",
       "      <th>Date</th>\n",
       "      <th>Hour</th>\n",
       "      <th>Member</th>\n",
       "      <th>Total_rides</th>\n",
       "      <th>relativehumidity_2m (%)</th>\n",
       "      <th>temperature_2m (°C)</th>\n",
       "      <th>weathercode (wmo code)</th>\n",
       "      <th>windspeed_10m (km/h)</th>\n",
       "    </tr>\n",
       "  </thead>\n",
       "  <tbody>\n",
       "    <tr>\n",
       "      <th>0</th>\n",
       "      <td>20.0</td>\n",
       "      <td>2021-01-01</td>\n",
       "      <td>0</td>\n",
       "      <td>26.0</td>\n",
       "      <td>46.0</td>\n",
       "      <td>90</td>\n",
       "      <td>2.4</td>\n",
       "      <td>1</td>\n",
       "      <td>10.2</td>\n",
       "    </tr>\n",
       "    <tr>\n",
       "      <th>1</th>\n",
       "      <td>23.0</td>\n",
       "      <td>2021-01-01</td>\n",
       "      <td>1</td>\n",
       "      <td>23.0</td>\n",
       "      <td>46.0</td>\n",
       "      <td>88</td>\n",
       "      <td>1.8</td>\n",
       "      <td>1</td>\n",
       "      <td>10.0</td>\n",
       "    </tr>\n",
       "    <tr>\n",
       "      <th>2</th>\n",
       "      <td>20.0</td>\n",
       "      <td>2021-01-01</td>\n",
       "      <td>2</td>\n",
       "      <td>28.0</td>\n",
       "      <td>48.0</td>\n",
       "      <td>87</td>\n",
       "      <td>1.1</td>\n",
       "      <td>2</td>\n",
       "      <td>10.1</td>\n",
       "    </tr>\n",
       "    <tr>\n",
       "      <th>3</th>\n",
       "      <td>9.0</td>\n",
       "      <td>2021-01-01</td>\n",
       "      <td>3</td>\n",
       "      <td>7.0</td>\n",
       "      <td>16.0</td>\n",
       "      <td>81</td>\n",
       "      <td>1.6</td>\n",
       "      <td>2</td>\n",
       "      <td>10.6</td>\n",
       "    </tr>\n",
       "    <tr>\n",
       "      <th>4</th>\n",
       "      <td>7.0</td>\n",
       "      <td>2021-01-01</td>\n",
       "      <td>4</td>\n",
       "      <td>5.0</td>\n",
       "      <td>12.0</td>\n",
       "      <td>77</td>\n",
       "      <td>1.6</td>\n",
       "      <td>2</td>\n",
       "      <td>9.9</td>\n",
       "    </tr>\n",
       "  </tbody>\n",
       "</table>\n",
       "</div>"
      ],
      "text/plain": [
       "   Casual        Date  Hour  Member  Total_rides  relativehumidity_2m (%)  \\\n",
       "0    20.0  2021-01-01     0    26.0         46.0                       90   \n",
       "1    23.0  2021-01-01     1    23.0         46.0                       88   \n",
       "2    20.0  2021-01-01     2    28.0         48.0                       87   \n",
       "3     9.0  2021-01-01     3     7.0         16.0                       81   \n",
       "4     7.0  2021-01-01     4     5.0         12.0                       77   \n",
       "\n",
       "   temperature_2m (°C)  weathercode (wmo code)  windspeed_10m (km/h)  \n",
       "0                  2.4                       1                  10.2  \n",
       "1                  1.8                       1                  10.0  \n",
       "2                  1.1                       2                  10.1  \n",
       "3                  1.6                       2                  10.6  \n",
       "4                  1.6                       2                   9.9  "
      ]
     },
     "execution_count": 48,
     "metadata": {},
     "output_type": "execute_result"
    }
   ],
   "source": [
    "data_hourly.head()"
   ]
  },
  {
   "cell_type": "code",
   "execution_count": 49,
   "id": "9e19b469",
   "metadata": {},
   "outputs": [],
   "source": [
    "# import csv\n",
    "\n",
    "# weathercodes = pd.read_csv('../data/raw/WMO2011h.csv', sep=';', quotechar='\"', quoting=csv.QUOTE_NONNUMERIC, on_bad_lines='warn')\n",
    "# weathercodes"
   ]
  },
  {
   "cell_type": "markdown",
   "id": "b1607ae0",
   "metadata": {},
   "source": [
    "# Data Cleaning"
   ]
  },
  {
   "cell_type": "markdown",
   "id": "f587cb3c",
   "metadata": {},
   "source": [
    "## Combine Date and Hour Data"
   ]
  },
  {
   "cell_type": "code",
   "execution_count": 50,
   "id": "63c81926",
   "metadata": {},
   "outputs": [],
   "source": [
    "data_hourly.Date = pd.to_datetime(data_hourly.Date)\n",
    "data_hourly['Datetime'] = [x + np.timedelta64(h, 'h') for x,h in zip(data_hourly.Date.values, data_hourly.Hour)]\n",
    "data_hourly = data_hourly.drop(columns=['Date', 'Hour'])\n",
    "data_hourly.Datetime = data_hourly.Datetime.values.astype('datetime64[h]')"
   ]
  },
  {
   "cell_type": "code",
   "execution_count": 51,
   "id": "daa611dc",
   "metadata": {},
   "outputs": [
    {
     "data": {
      "text/plain": [
       "Index(['Casual', 'Member', 'Total_rides', 'relativehumidity_2m (%)',\n",
       "       'temperature_2m (°C)', 'weathercode (wmo code)', 'windspeed_10m (km/h)',\n",
       "       'Datetime'],\n",
       "      dtype='object')"
      ]
     },
     "execution_count": 51,
     "metadata": {},
     "output_type": "execute_result"
    }
   ],
   "source": [
    "data_hourly.columns"
   ]
  },
  {
   "cell_type": "markdown",
   "id": "1446e249",
   "metadata": {},
   "source": [
    "## Rename Cols"
   ]
  },
  {
   "cell_type": "code",
   "execution_count": 52,
   "id": "f55f27bc",
   "metadata": {},
   "outputs": [],
   "source": [
    "rename_col = {\n",
    "    'relativehumidity_2m (%)'   : 'relativehumidity_2m',\n",
    "    'temperature_2m (°C)'       : 'temperature_2m',\n",
    "    'weathercode (wmo code)'    : 'wmo_code',\n",
    "    'windspeed_10m (km/h)'      : 'windspeed_10m'\n",
    "    }\n",
    "data_hourly = data_hourly.rename(columns=rename_col)\n",
    "data_hourly = data_hourly.rename(columns=lambda x: x.lower())"
   ]
  },
  {
   "cell_type": "markdown",
   "id": "4a25e43d",
   "metadata": {},
   "source": [
    "## Missing values"
   ]
  },
  {
   "cell_type": "code",
   "execution_count": 54,
   "id": "bcbdbc80",
   "metadata": {},
   "outputs": [
    {
     "name": "stdout",
     "output_type": "stream",
     "text": [
      "casual                 11\n",
      "member                 11\n",
      "total_rides            11\n",
      "relativehumidity_2m     0\n",
      "temperature_2m          0\n",
      "wmo_code                0\n",
      "windspeed_10m           0\n",
      "datetime                0\n",
      "dtype: int64\n"
     ]
    },
    {
     "data": {
      "application/vnd.microsoft.datawrangler.viewer.v0+json": {
       "columns": [
        {
         "name": "index",
         "rawType": "int64",
         "type": "integer"
        },
        {
         "name": "casual",
         "rawType": "float64",
         "type": "float"
        },
        {
         "name": "member",
         "rawType": "float64",
         "type": "float"
        },
        {
         "name": "total_rides",
         "rawType": "float64",
         "type": "float"
        },
        {
         "name": "relativehumidity_2m",
         "rawType": "int64",
         "type": "integer"
        },
        {
         "name": "temperature_2m",
         "rawType": "float64",
         "type": "float"
        },
        {
         "name": "wmo_code",
         "rawType": "int64",
         "type": "integer"
        },
        {
         "name": "windspeed_10m",
         "rawType": "float64",
         "type": "float"
        },
        {
         "name": "datetime",
         "rawType": "datetime64[s]",
         "type": "unknown"
        }
       ],
       "conversionMethod": "pd.DataFrame",
       "ref": "2c083fe6-9062-49bf-bb1b-c1a2da6ad1f1",
       "rows": [
        [
         "21853",
         null,
         null,
         null,
         "73",
         "-3.1",
         "0",
         "5.1",
         "2021-01-21 03:00:00"
        ],
        [
         "21854",
         null,
         null,
         null,
         "71",
         "0.4",
         "0",
         "11.2",
         "2021-01-22 03:00:00"
        ],
        [
         "21855",
         null,
         null,
         null,
         "86",
         "0.3",
         "71",
         "19.8",
         "2021-02-02 03:00:00"
        ],
        [
         "21856",
         null,
         null,
         null,
         "71",
         "-1.2",
         "3",
         "20.6",
         "2021-02-03 02:00:00"
        ],
        [
         "21857",
         null,
         null,
         null,
         "82",
         "-4.0",
         "1",
         "7.8",
         "2021-02-09 01:00:00"
        ],
        [
         "21858",
         null,
         null,
         null,
         "94",
         "-1.1",
         "71",
         "10.9",
         "2021-02-19 02:00:00"
        ],
        [
         "21859",
         null,
         null,
         null,
         "93",
         "-1.6",
         "51",
         "10.4",
         "2021-02-19 03:00:00"
        ],
        [
         "21860",
         null,
         null,
         null,
         "56",
         "2.9",
         "0",
         "13.9",
         "2021-03-14 02:00:00"
        ],
        [
         "21861",
         null,
         null,
         null,
         "77",
         "-8.7",
         "0",
         "10.1",
         "2022-01-04 02:00:00"
        ],
        [
         "21862",
         null,
         null,
         null,
         "50",
         "-5.1",
         "0",
         "21.1",
         "2022-03-13 02:00:00"
        ],
        [
         "21863",
         null,
         null,
         null,
         "72",
         "0.9",
         "0",
         "6.4",
         "2023-03-12 02:00:00"
        ]
       ],
       "shape": {
        "columns": 8,
        "rows": 11
       }
      },
      "text/html": [
       "<div>\n",
       "<style scoped>\n",
       "    .dataframe tbody tr th:only-of-type {\n",
       "        vertical-align: middle;\n",
       "    }\n",
       "\n",
       "    .dataframe tbody tr th {\n",
       "        vertical-align: top;\n",
       "    }\n",
       "\n",
       "    .dataframe thead th {\n",
       "        text-align: right;\n",
       "    }\n",
       "</style>\n",
       "<table border=\"1\" class=\"dataframe\">\n",
       "  <thead>\n",
       "    <tr style=\"text-align: right;\">\n",
       "      <th></th>\n",
       "      <th>casual</th>\n",
       "      <th>member</th>\n",
       "      <th>total_rides</th>\n",
       "      <th>relativehumidity_2m</th>\n",
       "      <th>temperature_2m</th>\n",
       "      <th>wmo_code</th>\n",
       "      <th>windspeed_10m</th>\n",
       "      <th>datetime</th>\n",
       "    </tr>\n",
       "  </thead>\n",
       "  <tbody>\n",
       "    <tr>\n",
       "      <th>21853</th>\n",
       "      <td>NaN</td>\n",
       "      <td>NaN</td>\n",
       "      <td>NaN</td>\n",
       "      <td>73</td>\n",
       "      <td>-3.1</td>\n",
       "      <td>0</td>\n",
       "      <td>5.1</td>\n",
       "      <td>2021-01-21 03:00:00</td>\n",
       "    </tr>\n",
       "    <tr>\n",
       "      <th>21854</th>\n",
       "      <td>NaN</td>\n",
       "      <td>NaN</td>\n",
       "      <td>NaN</td>\n",
       "      <td>71</td>\n",
       "      <td>0.4</td>\n",
       "      <td>0</td>\n",
       "      <td>11.2</td>\n",
       "      <td>2021-01-22 03:00:00</td>\n",
       "    </tr>\n",
       "    <tr>\n",
       "      <th>21855</th>\n",
       "      <td>NaN</td>\n",
       "      <td>NaN</td>\n",
       "      <td>NaN</td>\n",
       "      <td>86</td>\n",
       "      <td>0.3</td>\n",
       "      <td>71</td>\n",
       "      <td>19.8</td>\n",
       "      <td>2021-02-02 03:00:00</td>\n",
       "    </tr>\n",
       "    <tr>\n",
       "      <th>21856</th>\n",
       "      <td>NaN</td>\n",
       "      <td>NaN</td>\n",
       "      <td>NaN</td>\n",
       "      <td>71</td>\n",
       "      <td>-1.2</td>\n",
       "      <td>3</td>\n",
       "      <td>20.6</td>\n",
       "      <td>2021-02-03 02:00:00</td>\n",
       "    </tr>\n",
       "    <tr>\n",
       "      <th>21857</th>\n",
       "      <td>NaN</td>\n",
       "      <td>NaN</td>\n",
       "      <td>NaN</td>\n",
       "      <td>82</td>\n",
       "      <td>-4.0</td>\n",
       "      <td>1</td>\n",
       "      <td>7.8</td>\n",
       "      <td>2021-02-09 01:00:00</td>\n",
       "    </tr>\n",
       "    <tr>\n",
       "      <th>21858</th>\n",
       "      <td>NaN</td>\n",
       "      <td>NaN</td>\n",
       "      <td>NaN</td>\n",
       "      <td>94</td>\n",
       "      <td>-1.1</td>\n",
       "      <td>71</td>\n",
       "      <td>10.9</td>\n",
       "      <td>2021-02-19 02:00:00</td>\n",
       "    </tr>\n",
       "    <tr>\n",
       "      <th>21859</th>\n",
       "      <td>NaN</td>\n",
       "      <td>NaN</td>\n",
       "      <td>NaN</td>\n",
       "      <td>93</td>\n",
       "      <td>-1.6</td>\n",
       "      <td>51</td>\n",
       "      <td>10.4</td>\n",
       "      <td>2021-02-19 03:00:00</td>\n",
       "    </tr>\n",
       "    <tr>\n",
       "      <th>21860</th>\n",
       "      <td>NaN</td>\n",
       "      <td>NaN</td>\n",
       "      <td>NaN</td>\n",
       "      <td>56</td>\n",
       "      <td>2.9</td>\n",
       "      <td>0</td>\n",
       "      <td>13.9</td>\n",
       "      <td>2021-03-14 02:00:00</td>\n",
       "    </tr>\n",
       "    <tr>\n",
       "      <th>21861</th>\n",
       "      <td>NaN</td>\n",
       "      <td>NaN</td>\n",
       "      <td>NaN</td>\n",
       "      <td>77</td>\n",
       "      <td>-8.7</td>\n",
       "      <td>0</td>\n",
       "      <td>10.1</td>\n",
       "      <td>2022-01-04 02:00:00</td>\n",
       "    </tr>\n",
       "    <tr>\n",
       "      <th>21862</th>\n",
       "      <td>NaN</td>\n",
       "      <td>NaN</td>\n",
       "      <td>NaN</td>\n",
       "      <td>50</td>\n",
       "      <td>-5.1</td>\n",
       "      <td>0</td>\n",
       "      <td>21.1</td>\n",
       "      <td>2022-03-13 02:00:00</td>\n",
       "    </tr>\n",
       "    <tr>\n",
       "      <th>21863</th>\n",
       "      <td>NaN</td>\n",
       "      <td>NaN</td>\n",
       "      <td>NaN</td>\n",
       "      <td>72</td>\n",
       "      <td>0.9</td>\n",
       "      <td>0</td>\n",
       "      <td>6.4</td>\n",
       "      <td>2023-03-12 02:00:00</td>\n",
       "    </tr>\n",
       "  </tbody>\n",
       "</table>\n",
       "</div>"
      ],
      "text/plain": [
       "       casual  member  total_rides  relativehumidity_2m  temperature_2m  \\\n",
       "21853     NaN     NaN          NaN                   73            -3.1   \n",
       "21854     NaN     NaN          NaN                   71             0.4   \n",
       "21855     NaN     NaN          NaN                   86             0.3   \n",
       "21856     NaN     NaN          NaN                   71            -1.2   \n",
       "21857     NaN     NaN          NaN                   82            -4.0   \n",
       "21858     NaN     NaN          NaN                   94            -1.1   \n",
       "21859     NaN     NaN          NaN                   93            -1.6   \n",
       "21860     NaN     NaN          NaN                   56             2.9   \n",
       "21861     NaN     NaN          NaN                   77            -8.7   \n",
       "21862     NaN     NaN          NaN                   50            -5.1   \n",
       "21863     NaN     NaN          NaN                   72             0.9   \n",
       "\n",
       "       wmo_code  windspeed_10m            datetime  \n",
       "21853         0            5.1 2021-01-21 03:00:00  \n",
       "21854         0           11.2 2021-01-22 03:00:00  \n",
       "21855        71           19.8 2021-02-02 03:00:00  \n",
       "21856         3           20.6 2021-02-03 02:00:00  \n",
       "21857         1            7.8 2021-02-09 01:00:00  \n",
       "21858        71           10.9 2021-02-19 02:00:00  \n",
       "21859        51           10.4 2021-02-19 03:00:00  \n",
       "21860         0           13.9 2021-03-14 02:00:00  \n",
       "21861         0           10.1 2022-01-04 02:00:00  \n",
       "21862         0           21.1 2022-03-13 02:00:00  \n",
       "21863         0            6.4 2023-03-12 02:00:00  "
      ]
     },
     "execution_count": 54,
     "metadata": {},
     "output_type": "execute_result"
    }
   ],
   "source": [
    "# analyse missing values\n",
    "print(data_hourly.isna().sum())\n",
    "mask_any_na_values = data_hourly.isna().T.any().T\n",
    "data_hourly[mask_any_na_values]"
   ]
  },
  {
   "cell_type": "code",
   "execution_count": 56,
   "id": "32dd776c",
   "metadata": {},
   "outputs": [
    {
     "data": {
      "text/plain": [
       "datetime\n",
       "2021-01-21 03:00:00    1\n",
       "2021-01-22 03:00:00    1\n",
       "2021-02-02 03:00:00    1\n",
       "2021-02-03 02:00:00    1\n",
       "2021-02-09 01:00:00    1\n",
       "2021-02-19 02:00:00    1\n",
       "2021-02-19 03:00:00    1\n",
       "2021-03-14 02:00:00    1\n",
       "2022-01-04 02:00:00    1\n",
       "2022-03-13 02:00:00    1\n",
       "2023-03-12 02:00:00    1\n",
       "Name: count, dtype: int64"
      ]
     },
     "execution_count": 56,
     "metadata": {},
     "output_type": "execute_result"
    }
   ],
   "source": [
    "data_hourly[mask_any_na_values].datetime.value_counts()"
   ]
  },
  {
   "cell_type": "code",
   "execution_count": 37,
   "id": "77e9a6ff",
   "metadata": {},
   "outputs": [],
   "source": [
    "# drop missing values\n",
    "data_hourly = data_hourly.dropna(subset='total_rides', axis=0)"
   ]
  },
  {
   "cell_type": "markdown",
   "id": "369060c8",
   "metadata": {},
   "source": [
    "## Fix Data Types"
   ]
  },
  {
   "cell_type": "code",
   "execution_count": 39,
   "id": "f1034eec",
   "metadata": {},
   "outputs": [],
   "source": [
    "data_hourly.casual = data_hourly.casual.astype(int)\n",
    "data_hourly.member = data_hourly.member.astype(int)\n",
    "data_hourly.total_rides = data_hourly.total_rides.astype(int)"
   ]
  },
  {
   "cell_type": "markdown",
   "id": "cd56983e",
   "metadata": {},
   "source": [
    "# Info, Head, Describe "
   ]
  },
  {
   "cell_type": "code",
   "execution_count": 40,
   "id": "04aafffd",
   "metadata": {},
   "outputs": [
    {
     "name": "stdout",
     "output_type": "stream",
     "text": [
      "<class 'pandas.core.frame.DataFrame'>\n",
      "Index: 26269 entries, 0 to 26279\n",
      "Data columns (total 8 columns):\n",
      " #   Column               Non-Null Count  Dtype        \n",
      "---  ------               --------------  -----        \n",
      " 0   casual               26269 non-null  int64        \n",
      " 1   member               26269 non-null  int64        \n",
      " 2   total_rides          26269 non-null  int64        \n",
      " 3   relativehumidity_2m  26269 non-null  int64        \n",
      " 4   temperature_2m       26269 non-null  float64      \n",
      " 5   wmo_code             26269 non-null  int64        \n",
      " 6   windspeed_10m        26269 non-null  float64      \n",
      " 7   datetime             26269 non-null  datetime64[s]\n",
      "dtypes: datetime64[s](1), float64(2), int64(5)\n",
      "memory usage: 1.8 MB\n"
     ]
    }
   ],
   "source": [
    "data_hourly.info()"
   ]
  },
  {
   "cell_type": "code",
   "execution_count": 43,
   "id": "e59dfa1b",
   "metadata": {},
   "outputs": [
    {
     "data": {
      "application/vnd.microsoft.datawrangler.viewer.v0+json": {
       "columns": [
        {
         "name": "index",
         "rawType": "int64",
         "type": "integer"
        },
        {
         "name": "casual",
         "rawType": "int64",
         "type": "integer"
        },
        {
         "name": "member",
         "rawType": "int64",
         "type": "integer"
        },
        {
         "name": "total_rides",
         "rawType": "int64",
         "type": "integer"
        },
        {
         "name": "relativehumidity_2m",
         "rawType": "int64",
         "type": "integer"
        },
        {
         "name": "temperature_2m",
         "rawType": "float64",
         "type": "float"
        },
        {
         "name": "wmo_code",
         "rawType": "int64",
         "type": "integer"
        },
        {
         "name": "windspeed_10m",
         "rawType": "float64",
         "type": "float"
        },
        {
         "name": "datetime",
         "rawType": "datetime64[s]",
         "type": "unknown"
        }
       ],
       "conversionMethod": "pd.DataFrame",
       "ref": "e009705f-9833-4109-804e-5d3daf342491",
       "rows": [
        [
         "0",
         "20",
         "26",
         "46",
         "90",
         "2.4",
         "1",
         "10.2",
         "2021-01-01 00:00:00"
        ],
        [
         "1",
         "23",
         "23",
         "46",
         "88",
         "1.8",
         "1",
         "10.0",
         "2021-01-01 01:00:00"
        ],
        [
         "2",
         "20",
         "28",
         "48",
         "87",
         "1.1",
         "2",
         "10.1",
         "2021-01-01 02:00:00"
        ],
        [
         "3",
         "9",
         "7",
         "16",
         "81",
         "1.6",
         "2",
         "10.6",
         "2021-01-01 03:00:00"
        ],
        [
         "4",
         "7",
         "5",
         "12",
         "77",
         "1.6",
         "2",
         "9.9",
         "2021-01-01 04:00:00"
        ]
       ],
       "shape": {
        "columns": 8,
        "rows": 5
       }
      },
      "text/html": [
       "<div>\n",
       "<style scoped>\n",
       "    .dataframe tbody tr th:only-of-type {\n",
       "        vertical-align: middle;\n",
       "    }\n",
       "\n",
       "    .dataframe tbody tr th {\n",
       "        vertical-align: top;\n",
       "    }\n",
       "\n",
       "    .dataframe thead th {\n",
       "        text-align: right;\n",
       "    }\n",
       "</style>\n",
       "<table border=\"1\" class=\"dataframe\">\n",
       "  <thead>\n",
       "    <tr style=\"text-align: right;\">\n",
       "      <th></th>\n",
       "      <th>casual</th>\n",
       "      <th>member</th>\n",
       "      <th>total_rides</th>\n",
       "      <th>relativehumidity_2m</th>\n",
       "      <th>temperature_2m</th>\n",
       "      <th>wmo_code</th>\n",
       "      <th>windspeed_10m</th>\n",
       "      <th>datetime</th>\n",
       "    </tr>\n",
       "  </thead>\n",
       "  <tbody>\n",
       "    <tr>\n",
       "      <th>0</th>\n",
       "      <td>20</td>\n",
       "      <td>26</td>\n",
       "      <td>46</td>\n",
       "      <td>90</td>\n",
       "      <td>2.4</td>\n",
       "      <td>1</td>\n",
       "      <td>10.2</td>\n",
       "      <td>2021-01-01 00:00:00</td>\n",
       "    </tr>\n",
       "    <tr>\n",
       "      <th>1</th>\n",
       "      <td>23</td>\n",
       "      <td>23</td>\n",
       "      <td>46</td>\n",
       "      <td>88</td>\n",
       "      <td>1.8</td>\n",
       "      <td>1</td>\n",
       "      <td>10.0</td>\n",
       "      <td>2021-01-01 01:00:00</td>\n",
       "    </tr>\n",
       "    <tr>\n",
       "      <th>2</th>\n",
       "      <td>20</td>\n",
       "      <td>28</td>\n",
       "      <td>48</td>\n",
       "      <td>87</td>\n",
       "      <td>1.1</td>\n",
       "      <td>2</td>\n",
       "      <td>10.1</td>\n",
       "      <td>2021-01-01 02:00:00</td>\n",
       "    </tr>\n",
       "    <tr>\n",
       "      <th>3</th>\n",
       "      <td>9</td>\n",
       "      <td>7</td>\n",
       "      <td>16</td>\n",
       "      <td>81</td>\n",
       "      <td>1.6</td>\n",
       "      <td>2</td>\n",
       "      <td>10.6</td>\n",
       "      <td>2021-01-01 03:00:00</td>\n",
       "    </tr>\n",
       "    <tr>\n",
       "      <th>4</th>\n",
       "      <td>7</td>\n",
       "      <td>5</td>\n",
       "      <td>12</td>\n",
       "      <td>77</td>\n",
       "      <td>1.6</td>\n",
       "      <td>2</td>\n",
       "      <td>9.9</td>\n",
       "      <td>2021-01-01 04:00:00</td>\n",
       "    </tr>\n",
       "  </tbody>\n",
       "</table>\n",
       "</div>"
      ],
      "text/plain": [
       "   casual  member  total_rides  relativehumidity_2m  temperature_2m  wmo_code  \\\n",
       "0      20      26           46                   90             2.4         1   \n",
       "1      23      23           46                   88             1.8         1   \n",
       "2      20      28           48                   87             1.1         2   \n",
       "3       9       7           16                   81             1.6         2   \n",
       "4       7       5           12                   77             1.6         2   \n",
       "\n",
       "   windspeed_10m            datetime  \n",
       "0           10.2 2021-01-01 00:00:00  \n",
       "1           10.0 2021-01-01 01:00:00  \n",
       "2           10.1 2021-01-01 02:00:00  \n",
       "3           10.6 2021-01-01 03:00:00  \n",
       "4            9.9 2021-01-01 04:00:00  "
      ]
     },
     "execution_count": 43,
     "metadata": {},
     "output_type": "execute_result"
    }
   ],
   "source": [
    "data_hourly.head()"
   ]
  },
  {
   "cell_type": "code",
   "execution_count": 42,
   "id": "d062d885",
   "metadata": {},
   "outputs": [
    {
     "data": {
      "application/vnd.microsoft.datawrangler.viewer.v0+json": {
       "columns": [
        {
         "name": "index",
         "rawType": "object",
         "type": "string"
        },
        {
         "name": "casual",
         "rawType": "float64",
         "type": "float"
        },
        {
         "name": "member",
         "rawType": "float64",
         "type": "float"
        },
        {
         "name": "total_rides",
         "rawType": "float64",
         "type": "float"
        },
        {
         "name": "relativehumidity_2m",
         "rawType": "float64",
         "type": "float"
        },
        {
         "name": "temperature_2m",
         "rawType": "float64",
         "type": "float"
        },
        {
         "name": "wmo_code",
         "rawType": "float64",
         "type": "float"
        },
        {
         "name": "windspeed_10m",
         "rawType": "float64",
         "type": "float"
        },
        {
         "name": "datetime",
         "rawType": "object",
         "type": "unknown"
        }
       ],
       "conversionMethod": "pd.DataFrame",
       "ref": "a2c469a3-4146-439c-abb8-ca41c4444dda",
       "rows": [
        [
         "count",
         "26269.0",
         "26269.0",
         "26269.0",
         "26269.0",
         "26269.0",
         "26269.0",
         "26269.0",
         "26269"
        ],
        [
         "mean",
         "159.93006966386235",
         "247.16563249457536",
         "407.0957021584377",
         "62.962845940081465",
         "14.419589630362786",
         "7.223837983935438",
         "10.170330046823253",
         "2022-07-02 15:14:52"
        ],
        [
         "min",
         "0.0",
         "0.0",
         "1.0",
         "5.0",
         "-14.6",
         "0.0",
         "0.0",
         "2021-01-01 00:00:00"
        ],
        [
         "25%",
         "28.0",
         "55.0",
         "85.0",
         "46.0",
         "6.2",
         "0.0",
         "6.5",
         "2021-10-01 23:00:00"
        ],
        [
         "50%",
         "105.0",
         "203.0",
         "319.0",
         "64.0",
         "14.8",
         "1.0",
         "9.2",
         "2022-07-02 16:00:00"
        ],
        [
         "75%",
         "237.0",
         "371.0",
         "616.0",
         "82.0",
         "22.7",
         "2.0",
         "12.9",
         "2023-04-02 08:00:00"
        ],
        [
         "max",
         "1206.0",
         "1534.0",
         "2262.0",
         "100.0",
         "41.5",
         "75.0",
         "40.1",
         "2023-12-31 23:00:00"
        ],
        [
         "std",
         "167.33042646484438",
         "225.28353928984384",
         "373.0054092174764",
         "22.72616040478979",
         "10.282327634330823",
         "17.62340145065296",
         "5.260752782929257",
         null
        ]
       ],
       "shape": {
        "columns": 8,
        "rows": 8
       }
      },
      "text/html": [
       "<div>\n",
       "<style scoped>\n",
       "    .dataframe tbody tr th:only-of-type {\n",
       "        vertical-align: middle;\n",
       "    }\n",
       "\n",
       "    .dataframe tbody tr th {\n",
       "        vertical-align: top;\n",
       "    }\n",
       "\n",
       "    .dataframe thead th {\n",
       "        text-align: right;\n",
       "    }\n",
       "</style>\n",
       "<table border=\"1\" class=\"dataframe\">\n",
       "  <thead>\n",
       "    <tr style=\"text-align: right;\">\n",
       "      <th></th>\n",
       "      <th>casual</th>\n",
       "      <th>member</th>\n",
       "      <th>total_rides</th>\n",
       "      <th>relativehumidity_2m</th>\n",
       "      <th>temperature_2m</th>\n",
       "      <th>wmo_code</th>\n",
       "      <th>windspeed_10m</th>\n",
       "      <th>datetime</th>\n",
       "    </tr>\n",
       "  </thead>\n",
       "  <tbody>\n",
       "    <tr>\n",
       "      <th>count</th>\n",
       "      <td>26269.000000</td>\n",
       "      <td>26269.000000</td>\n",
       "      <td>26269.000000</td>\n",
       "      <td>26269.000000</td>\n",
       "      <td>26269.000000</td>\n",
       "      <td>26269.000000</td>\n",
       "      <td>26269.000000</td>\n",
       "      <td>26269</td>\n",
       "    </tr>\n",
       "    <tr>\n",
       "      <th>mean</th>\n",
       "      <td>159.930070</td>\n",
       "      <td>247.165632</td>\n",
       "      <td>407.095702</td>\n",
       "      <td>62.962846</td>\n",
       "      <td>14.419590</td>\n",
       "      <td>7.223838</td>\n",
       "      <td>10.170330</td>\n",
       "      <td>2022-07-02 15:14:52</td>\n",
       "    </tr>\n",
       "    <tr>\n",
       "      <th>min</th>\n",
       "      <td>0.000000</td>\n",
       "      <td>0.000000</td>\n",
       "      <td>1.000000</td>\n",
       "      <td>5.000000</td>\n",
       "      <td>-14.600000</td>\n",
       "      <td>0.000000</td>\n",
       "      <td>0.000000</td>\n",
       "      <td>2021-01-01 00:00:00</td>\n",
       "    </tr>\n",
       "    <tr>\n",
       "      <th>25%</th>\n",
       "      <td>28.000000</td>\n",
       "      <td>55.000000</td>\n",
       "      <td>85.000000</td>\n",
       "      <td>46.000000</td>\n",
       "      <td>6.200000</td>\n",
       "      <td>0.000000</td>\n",
       "      <td>6.500000</td>\n",
       "      <td>2021-10-01 23:00:00</td>\n",
       "    </tr>\n",
       "    <tr>\n",
       "      <th>50%</th>\n",
       "      <td>105.000000</td>\n",
       "      <td>203.000000</td>\n",
       "      <td>319.000000</td>\n",
       "      <td>64.000000</td>\n",
       "      <td>14.800000</td>\n",
       "      <td>1.000000</td>\n",
       "      <td>9.200000</td>\n",
       "      <td>2022-07-02 16:00:00</td>\n",
       "    </tr>\n",
       "    <tr>\n",
       "      <th>75%</th>\n",
       "      <td>237.000000</td>\n",
       "      <td>371.000000</td>\n",
       "      <td>616.000000</td>\n",
       "      <td>82.000000</td>\n",
       "      <td>22.700000</td>\n",
       "      <td>2.000000</td>\n",
       "      <td>12.900000</td>\n",
       "      <td>2023-04-02 08:00:00</td>\n",
       "    </tr>\n",
       "    <tr>\n",
       "      <th>max</th>\n",
       "      <td>1206.000000</td>\n",
       "      <td>1534.000000</td>\n",
       "      <td>2262.000000</td>\n",
       "      <td>100.000000</td>\n",
       "      <td>41.500000</td>\n",
       "      <td>75.000000</td>\n",
       "      <td>40.100000</td>\n",
       "      <td>2023-12-31 23:00:00</td>\n",
       "    </tr>\n",
       "    <tr>\n",
       "      <th>std</th>\n",
       "      <td>167.330426</td>\n",
       "      <td>225.283539</td>\n",
       "      <td>373.005409</td>\n",
       "      <td>22.726160</td>\n",
       "      <td>10.282328</td>\n",
       "      <td>17.623401</td>\n",
       "      <td>5.260753</td>\n",
       "      <td>NaN</td>\n",
       "    </tr>\n",
       "  </tbody>\n",
       "</table>\n",
       "</div>"
      ],
      "text/plain": [
       "             casual        member   total_rides  relativehumidity_2m  \\\n",
       "count  26269.000000  26269.000000  26269.000000         26269.000000   \n",
       "mean     159.930070    247.165632    407.095702            62.962846   \n",
       "min        0.000000      0.000000      1.000000             5.000000   \n",
       "25%       28.000000     55.000000     85.000000            46.000000   \n",
       "50%      105.000000    203.000000    319.000000            64.000000   \n",
       "75%      237.000000    371.000000    616.000000            82.000000   \n",
       "max     1206.000000   1534.000000   2262.000000           100.000000   \n",
       "std      167.330426    225.283539    373.005409            22.726160   \n",
       "\n",
       "       temperature_2m      wmo_code  windspeed_10m             datetime  \n",
       "count    26269.000000  26269.000000   26269.000000                26269  \n",
       "mean        14.419590      7.223838      10.170330  2022-07-02 15:14:52  \n",
       "min        -14.600000      0.000000       0.000000  2021-01-01 00:00:00  \n",
       "25%          6.200000      0.000000       6.500000  2021-10-01 23:00:00  \n",
       "50%         14.800000      1.000000       9.200000  2022-07-02 16:00:00  \n",
       "75%         22.700000      2.000000      12.900000  2023-04-02 08:00:00  \n",
       "max         41.500000     75.000000      40.100000  2023-12-31 23:00:00  \n",
       "std         10.282328     17.623401       5.260753                  NaN  "
      ]
     },
     "execution_count": 42,
     "metadata": {},
     "output_type": "execute_result"
    }
   ],
   "source": [
    "data_hourly.describe()"
   ]
  },
  {
   "cell_type": "markdown",
   "id": "5e83b5c4",
   "metadata": {},
   "source": [
    "# Export / Variable sharing"
   ]
  },
  {
   "cell_type": "code",
   "execution_count": 44,
   "id": "1e6dd192",
   "metadata": {},
   "outputs": [
    {
     "name": "stdout",
     "output_type": "stream",
     "text": [
      "Stored 'data_hourly' (DataFrame)\n"
     ]
    }
   ],
   "source": [
    "%store data_hourly"
   ]
  },
  {
   "cell_type": "code",
   "execution_count": null,
   "id": "3fd5d9a0",
   "metadata": {},
   "outputs": [],
   "source": [
    "data_hourly.to_parquet(config['processed_data_paths']['hourly'])"
   ]
  }
 ],
 "metadata": {
  "kernelspec": {
   "display_name": "base_data_analysis",
   "language": "python",
   "name": "python3"
  },
  "language_info": {
   "codemirror_mode": {
    "name": "ipython",
    "version": 3
   },
   "file_extension": ".py",
   "mimetype": "text/x-python",
   "name": "python",
   "nbconvert_exporter": "python",
   "pygments_lexer": "ipython3",
   "version": "3.12.3"
  }
 },
 "nbformat": 4,
 "nbformat_minor": 5
}
